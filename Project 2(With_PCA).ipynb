{
 "cells": [
  {
   "cell_type": "markdown",
   "metadata": {},
   "source": [
    "# Project-2: PCA"
   ]
  },
  {
   "cell_type": "code",
   "execution_count": 1,
   "metadata": {},
   "outputs": [],
   "source": [
    "import numpy as np\n",
    "import pandas as pd\n",
    "import matplotlib.pyplot as plt\n",
    "import seaborn as sns\n",
    "from numpy.random import randn"
   ]
  },
  {
   "cell_type": "code",
   "execution_count": 2,
   "metadata": {},
   "outputs": [
    {
     "data": {
      "text/html": [
       "<div>\n",
       "<style scoped>\n",
       "    .dataframe tbody tr th:only-of-type {\n",
       "        vertical-align: middle;\n",
       "    }\n",
       "\n",
       "    .dataframe tbody tr th {\n",
       "        vertical-align: top;\n",
       "    }\n",
       "\n",
       "    .dataframe thead th {\n",
       "        text-align: right;\n",
       "    }\n",
       "</style>\n",
       "<table border=\"1\" class=\"dataframe\">\n",
       "  <thead>\n",
       "    <tr style=\"text-align: right;\">\n",
       "      <th></th>\n",
       "      <th>index</th>\n",
       "      <th>mnthborn</th>\n",
       "      <th>yearborn</th>\n",
       "      <th>age</th>\n",
       "      <th>electric</th>\n",
       "      <th>radio</th>\n",
       "      <th>tv</th>\n",
       "      <th>bicycle</th>\n",
       "      <th>educ</th>\n",
       "      <th>ceb</th>\n",
       "      <th>...</th>\n",
       "      <th>heduc</th>\n",
       "      <th>agesq</th>\n",
       "      <th>urban</th>\n",
       "      <th>urb_educ</th>\n",
       "      <th>spirit</th>\n",
       "      <th>protest</th>\n",
       "      <th>catholic</th>\n",
       "      <th>frsthalf</th>\n",
       "      <th>educ0</th>\n",
       "      <th>evermarr</th>\n",
       "    </tr>\n",
       "  </thead>\n",
       "  <tbody>\n",
       "    <tr>\n",
       "      <th>0</th>\n",
       "      <td>0</td>\n",
       "      <td>5</td>\n",
       "      <td>64</td>\n",
       "      <td>24</td>\n",
       "      <td>1.0</td>\n",
       "      <td>1.0</td>\n",
       "      <td>1.0</td>\n",
       "      <td>1.0</td>\n",
       "      <td>12</td>\n",
       "      <td>0</td>\n",
       "      <td>...</td>\n",
       "      <td>NaN</td>\n",
       "      <td>576</td>\n",
       "      <td>1</td>\n",
       "      <td>12</td>\n",
       "      <td>0</td>\n",
       "      <td>0</td>\n",
       "      <td>0</td>\n",
       "      <td>1</td>\n",
       "      <td>0</td>\n",
       "      <td>0</td>\n",
       "    </tr>\n",
       "    <tr>\n",
       "      <th>1</th>\n",
       "      <td>1</td>\n",
       "      <td>1</td>\n",
       "      <td>56</td>\n",
       "      <td>32</td>\n",
       "      <td>1.0</td>\n",
       "      <td>1.0</td>\n",
       "      <td>1.0</td>\n",
       "      <td>1.0</td>\n",
       "      <td>13</td>\n",
       "      <td>3</td>\n",
       "      <td>...</td>\n",
       "      <td>12.0</td>\n",
       "      <td>1024</td>\n",
       "      <td>1</td>\n",
       "      <td>13</td>\n",
       "      <td>0</td>\n",
       "      <td>0</td>\n",
       "      <td>0</td>\n",
       "      <td>1</td>\n",
       "      <td>0</td>\n",
       "      <td>1</td>\n",
       "    </tr>\n",
       "    <tr>\n",
       "      <th>2</th>\n",
       "      <td>2</td>\n",
       "      <td>7</td>\n",
       "      <td>58</td>\n",
       "      <td>30</td>\n",
       "      <td>1.0</td>\n",
       "      <td>0.0</td>\n",
       "      <td>0.0</td>\n",
       "      <td>0.0</td>\n",
       "      <td>5</td>\n",
       "      <td>1</td>\n",
       "      <td>...</td>\n",
       "      <td>7.0</td>\n",
       "      <td>900</td>\n",
       "      <td>1</td>\n",
       "      <td>5</td>\n",
       "      <td>1</td>\n",
       "      <td>0</td>\n",
       "      <td>0</td>\n",
       "      <td>0</td>\n",
       "      <td>0</td>\n",
       "      <td>1</td>\n",
       "    </tr>\n",
       "    <tr>\n",
       "      <th>3</th>\n",
       "      <td>3</td>\n",
       "      <td>11</td>\n",
       "      <td>45</td>\n",
       "      <td>42</td>\n",
       "      <td>1.0</td>\n",
       "      <td>0.0</td>\n",
       "      <td>1.0</td>\n",
       "      <td>0.0</td>\n",
       "      <td>4</td>\n",
       "      <td>3</td>\n",
       "      <td>...</td>\n",
       "      <td>11.0</td>\n",
       "      <td>1764</td>\n",
       "      <td>1</td>\n",
       "      <td>4</td>\n",
       "      <td>0</td>\n",
       "      <td>0</td>\n",
       "      <td>0</td>\n",
       "      <td>0</td>\n",
       "      <td>0</td>\n",
       "      <td>1</td>\n",
       "    </tr>\n",
       "    <tr>\n",
       "      <th>4</th>\n",
       "      <td>4</td>\n",
       "      <td>5</td>\n",
       "      <td>45</td>\n",
       "      <td>43</td>\n",
       "      <td>1.0</td>\n",
       "      <td>1.0</td>\n",
       "      <td>1.0</td>\n",
       "      <td>1.0</td>\n",
       "      <td>11</td>\n",
       "      <td>2</td>\n",
       "      <td>...</td>\n",
       "      <td>14.0</td>\n",
       "      <td>1849</td>\n",
       "      <td>1</td>\n",
       "      <td>11</td>\n",
       "      <td>0</td>\n",
       "      <td>1</td>\n",
       "      <td>0</td>\n",
       "      <td>1</td>\n",
       "      <td>0</td>\n",
       "      <td>1</td>\n",
       "    </tr>\n",
       "  </tbody>\n",
       "</table>\n",
       "<p>5 rows × 28 columns</p>\n",
       "</div>"
      ],
      "text/plain": [
       "   index  mnthborn  yearborn  age  electric  radio   tv  bicycle  educ  ceb  \\\n",
       "0      0         5        64   24       1.0    1.0  1.0      1.0    12    0   \n",
       "1      1         1        56   32       1.0    1.0  1.0      1.0    13    3   \n",
       "2      2         7        58   30       1.0    0.0  0.0      0.0     5    1   \n",
       "3      3        11        45   42       1.0    0.0  1.0      0.0     4    3   \n",
       "4      4         5        45   43       1.0    1.0  1.0      1.0    11    2   \n",
       "\n",
       "   ...  heduc  agesq  urban  urb_educ  spirit  protest  catholic  frsthalf  \\\n",
       "0  ...    NaN    576      1        12       0        0         0         1   \n",
       "1  ...   12.0   1024      1        13       0        0         0         1   \n",
       "2  ...    7.0    900      1         5       1        0         0         0   \n",
       "3  ...   11.0   1764      1         4       0        0         0         0   \n",
       "4  ...   14.0   1849      1        11       0        1         0         1   \n",
       "\n",
       "   educ0  evermarr  \n",
       "0      0         0  \n",
       "1      0         1  \n",
       "2      0         1  \n",
       "3      0         1  \n",
       "4      0         1  \n",
       "\n",
       "[5 rows x 28 columns]"
      ]
     },
     "execution_count": 2,
     "metadata": {},
     "output_type": "execute_result"
    }
   ],
   "source": [
    "df = pd.read_csv(\"fertil2.csv\")\n",
    "df.head()"
   ]
  },
  {
   "cell_type": "code",
   "execution_count": 3,
   "metadata": {},
   "outputs": [
    {
     "data": {
      "text/plain": [
       "(4361, 28)"
      ]
     },
     "execution_count": 3,
     "metadata": {},
     "output_type": "execute_result"
    }
   ],
   "source": [
    "df.shape"
   ]
  },
  {
   "cell_type": "code",
   "execution_count": 4,
   "metadata": {},
   "outputs": [
    {
     "name": "stdout",
     "output_type": "stream",
     "text": [
      "<class 'pandas.core.frame.DataFrame'>\n",
      "RangeIndex: 4361 entries, 0 to 4360\n",
      "Data columns (total 28 columns):\n",
      "index       4361 non-null int64\n",
      "mnthborn    4361 non-null int64\n",
      "yearborn    4361 non-null int64\n",
      "age         4361 non-null int64\n",
      "electric    4358 non-null float64\n",
      "radio       4359 non-null float64\n",
      "tv          4359 non-null float64\n",
      "bicycle     4358 non-null float64\n",
      "educ        4361 non-null int64\n",
      "ceb         4361 non-null int64\n",
      "agefbrth    3273 non-null float64\n",
      "children    4361 non-null int64\n",
      "knowmeth    4354 non-null float64\n",
      "usemeth     4290 non-null float64\n",
      "monthfm     2079 non-null float64\n",
      "yearfm      2079 non-null float64\n",
      "agefm       2079 non-null float64\n",
      "idlnchld    4241 non-null float64\n",
      "heduc       1956 non-null float64\n",
      "agesq       4361 non-null int64\n",
      "urban       4361 non-null int64\n",
      "urb_educ    4361 non-null int64\n",
      "spirit      4361 non-null int64\n",
      "protest     4361 non-null int64\n",
      "catholic    4361 non-null int64\n",
      "frsthalf    4361 non-null int64\n",
      "educ0       4361 non-null int64\n",
      "evermarr    4361 non-null int64\n",
      "dtypes: float64(12), int64(16)\n",
      "memory usage: 954.0 KB\n"
     ]
    }
   ],
   "source": [
    "df.info()"
   ]
  },
  {
   "cell_type": "code",
   "execution_count": 5,
   "metadata": {},
   "outputs": [
    {
     "data": {
      "text/plain": [
       "index          0\n",
       "mnthborn       0\n",
       "yearborn       0\n",
       "age            0\n",
       "electric       3\n",
       "radio          2\n",
       "tv             2\n",
       "bicycle        3\n",
       "educ           0\n",
       "ceb            0\n",
       "agefbrth    1088\n",
       "children       0\n",
       "knowmeth       7\n",
       "usemeth       71\n",
       "monthfm     2282\n",
       "yearfm      2282\n",
       "agefm       2282\n",
       "idlnchld     120\n",
       "heduc       2405\n",
       "agesq          0\n",
       "urban          0\n",
       "urb_educ       0\n",
       "spirit         0\n",
       "protest        0\n",
       "catholic       0\n",
       "frsthalf       0\n",
       "educ0          0\n",
       "evermarr       0\n",
       "dtype: int64"
      ]
     },
     "execution_count": 5,
     "metadata": {},
     "output_type": "execute_result"
    }
   ],
   "source": [
    "df.isna().sum()"
   ]
  },
  {
   "cell_type": "code",
   "execution_count": 6,
   "metadata": {},
   "outputs": [
    {
     "data": {
      "text/plain": [
       "10547"
      ]
     },
     "execution_count": 6,
     "metadata": {},
     "output_type": "execute_result"
    }
   ],
   "source": [
    "df.isnull().sum().sum()"
   ]
  },
  {
   "cell_type": "code",
   "execution_count": 7,
   "metadata": {},
   "outputs": [],
   "source": [
    "df=df.fillna(df.median())"
   ]
  },
  {
   "cell_type": "code",
   "execution_count": 8,
   "metadata": {},
   "outputs": [
    {
     "data": {
      "text/plain": [
       "0"
      ]
     },
     "execution_count": 8,
     "metadata": {},
     "output_type": "execute_result"
    }
   ],
   "source": [
    "df.isnull().sum().sum()"
   ]
  },
  {
   "cell_type": "code",
   "execution_count": 9,
   "metadata": {},
   "outputs": [],
   "source": [
    "#coverting into categories\n",
    "df[\"electric\"] = df[\"electric\"].astype(\"category\")\n",
    "df[\"radio\"] = df[\"radio\"].astype(\"category\")\n",
    "df[\"tv\"] = df[\"tv\"].astype(\"category\")\n",
    "df[\"bicycle\"] = df[\"bicycle\"].astype(\"category\")\n",
    "df[\"knowmeth\"] = df[\"knowmeth\"].astype(\"category\")\n",
    "df[\"knowmeth\"] = df[\"knowmeth\"].astype(\"category\")\n",
    "df[\"usemeth\"] = df[\"usemeth\"].astype(\"category\")\n",
    "df[\"protest\"] = df[\"protest\"].astype(\"category\")\n",
    "df[\"catholic\"] = df[\"catholic\"].astype(\"category\")\n",
    "df[\"frsthalf\"] = df[\"frsthalf\"].astype(\"category\")\n",
    "df[\"educ0\"] = df[\"educ0\"].astype(\"category\")\n",
    "df[\"evermarr\"] = df[\"evermarr\"].astype(\"category\")\n",
    "df[\"spirit\"] = df[\"spirit\"].astype(\"category\")"
   ]
  },
  {
   "cell_type": "code",
   "execution_count": 10,
   "metadata": {},
   "outputs": [],
   "source": [
    "report_reg = pd.DataFrame(index = '0 1 2 3 4 5 6'.split(), columns='ModelName TrainScore TestScore MeanSquaredError RSquareScore'.split())"
   ]
  },
  {
   "cell_type": "code",
   "execution_count": 11,
   "metadata": {},
   "outputs": [
    {
     "data": {
      "text/html": [
       "<div>\n",
       "<style scoped>\n",
       "    .dataframe tbody tr th:only-of-type {\n",
       "        vertical-align: middle;\n",
       "    }\n",
       "\n",
       "    .dataframe tbody tr th {\n",
       "        vertical-align: top;\n",
       "    }\n",
       "\n",
       "    .dataframe thead th {\n",
       "        text-align: right;\n",
       "    }\n",
       "</style>\n",
       "<table border=\"1\" class=\"dataframe\">\n",
       "  <thead>\n",
       "    <tr style=\"text-align: right;\">\n",
       "      <th></th>\n",
       "      <th>ModelName</th>\n",
       "      <th>TrainScore</th>\n",
       "      <th>TestScore</th>\n",
       "      <th>MeanSquaredError</th>\n",
       "      <th>RSquareScore</th>\n",
       "    </tr>\n",
       "  </thead>\n",
       "  <tbody>\n",
       "    <tr>\n",
       "      <th>0</th>\n",
       "      <td>NaN</td>\n",
       "      <td>NaN</td>\n",
       "      <td>NaN</td>\n",
       "      <td>NaN</td>\n",
       "      <td>NaN</td>\n",
       "    </tr>\n",
       "    <tr>\n",
       "      <th>1</th>\n",
       "      <td>NaN</td>\n",
       "      <td>NaN</td>\n",
       "      <td>NaN</td>\n",
       "      <td>NaN</td>\n",
       "      <td>NaN</td>\n",
       "    </tr>\n",
       "    <tr>\n",
       "      <th>2</th>\n",
       "      <td>NaN</td>\n",
       "      <td>NaN</td>\n",
       "      <td>NaN</td>\n",
       "      <td>NaN</td>\n",
       "      <td>NaN</td>\n",
       "    </tr>\n",
       "    <tr>\n",
       "      <th>3</th>\n",
       "      <td>NaN</td>\n",
       "      <td>NaN</td>\n",
       "      <td>NaN</td>\n",
       "      <td>NaN</td>\n",
       "      <td>NaN</td>\n",
       "    </tr>\n",
       "    <tr>\n",
       "      <th>4</th>\n",
       "      <td>NaN</td>\n",
       "      <td>NaN</td>\n",
       "      <td>NaN</td>\n",
       "      <td>NaN</td>\n",
       "      <td>NaN</td>\n",
       "    </tr>\n",
       "    <tr>\n",
       "      <th>5</th>\n",
       "      <td>NaN</td>\n",
       "      <td>NaN</td>\n",
       "      <td>NaN</td>\n",
       "      <td>NaN</td>\n",
       "      <td>NaN</td>\n",
       "    </tr>\n",
       "    <tr>\n",
       "      <th>6</th>\n",
       "      <td>NaN</td>\n",
       "      <td>NaN</td>\n",
       "      <td>NaN</td>\n",
       "      <td>NaN</td>\n",
       "      <td>NaN</td>\n",
       "    </tr>\n",
       "  </tbody>\n",
       "</table>\n",
       "</div>"
      ],
      "text/plain": [
       "  ModelName TrainScore TestScore MeanSquaredError RSquareScore\n",
       "0       NaN        NaN       NaN              NaN          NaN\n",
       "1       NaN        NaN       NaN              NaN          NaN\n",
       "2       NaN        NaN       NaN              NaN          NaN\n",
       "3       NaN        NaN       NaN              NaN          NaN\n",
       "4       NaN        NaN       NaN              NaN          NaN\n",
       "5       NaN        NaN       NaN              NaN          NaN\n",
       "6       NaN        NaN       NaN              NaN          NaN"
      ]
     },
     "execution_count": 11,
     "metadata": {},
     "output_type": "execute_result"
    }
   ],
   "source": [
    "report_reg"
   ]
  },
  {
   "cell_type": "code",
   "execution_count": 12,
   "metadata": {},
   "outputs": [],
   "source": [
    "from sklearn.preprocessing import MinMaxScaler\n",
    "from sklearn.model_selection import train_test_split\n",
    "\n",
    "y = df[\"children\"]\n",
    "X = df.drop([\"children\", \"ceb\"], 1)\n",
    "X_train_org , X_test_org, y_train, y_test = train_test_split(X, y, random_state = 0, test_size = 0.2)\n",
    "\n",
    "\n",
    "\n",
    "scaler = MinMaxScaler()\n",
    "X_train = scaler.fit_transform(X_train_org)\n",
    "X_test = scaler.transform(X_test_org)"
   ]
  },
  {
   "cell_type": "markdown",
   "metadata": {},
   "source": [
    "# PCA"
   ]
  },
  {
   "cell_type": "code",
   "execution_count": 13,
   "metadata": {},
   "outputs": [],
   "source": [
    "from sklearn.decomposition import PCA\n",
    "from sklearn.svm import SVC\n",
    "\n",
    "pca_reg = PCA()\n",
    "#train\n",
    "pca_reg.fit(X_train)\n",
    "#transform\n",
    "X_train_pca = pca_reg.transform(X_train)\n",
    "X_test_pca = pca_reg.transform(X_test)"
   ]
  },
  {
   "cell_type": "code",
   "execution_count": 14,
   "metadata": {},
   "outputs": [
    {
     "data": {
      "text/plain": [
       "(3488, 26)"
      ]
     },
     "execution_count": 14,
     "metadata": {},
     "output_type": "execute_result"
    }
   ],
   "source": [
    "X_train_pca.shape"
   ]
  },
  {
   "cell_type": "code",
   "execution_count": 15,
   "metadata": {},
   "outputs": [
    {
     "data": {
      "text/plain": [
       "26"
      ]
     },
     "execution_count": 15,
     "metadata": {},
     "output_type": "execute_result"
    }
   ],
   "source": [
    "pca_reg.n_components_"
   ]
  },
  {
   "cell_type": "code",
   "execution_count": 16,
   "metadata": {},
   "outputs": [
    {
     "data": {
      "text/plain": [
       "array([1.62048792e-01, 1.29203181e-01, 1.08592905e-01, 1.06924683e-01,\n",
       "       8.52921403e-02, 7.53785759e-02, 5.49471836e-02, 4.92093239e-02,\n",
       "       4.74576276e-02, 4.25394408e-02, 3.46222241e-02, 1.77843463e-02,\n",
       "       1.71553365e-02, 1.59157388e-02, 1.09902125e-02, 8.45205761e-03,\n",
       "       7.37453774e-03, 6.96918991e-03, 5.44246257e-03, 4.76685106e-03,\n",
       "       3.54199361e-03, 2.28954281e-03, 1.55938144e-03, 1.32884351e-03,\n",
       "       2.02051795e-04, 1.13775874e-05])"
      ]
     },
     "execution_count": 16,
     "metadata": {},
     "output_type": "execute_result"
    }
   ],
   "source": [
    "pca_reg.explained_variance_ratio_"
   ]
  },
  {
   "cell_type": "code",
   "execution_count": 17,
   "metadata": {},
   "outputs": [],
   "source": [
    "pca_reg = PCA(n_components=0.95)\n",
    "pca_reg.fit(X_train)\n",
    "X_train_reduced = pca_reg.transform(X_train)\n",
    "X_test_reduced = pca_reg.transform(X_test)"
   ]
  },
  {
   "cell_type": "code",
   "execution_count": 18,
   "metadata": {},
   "outputs": [
    {
     "data": {
      "text/plain": [
       "15"
      ]
     },
     "execution_count": 18,
     "metadata": {},
     "output_type": "execute_result"
    }
   ],
   "source": [
    "pca_reg.n_components_"
   ]
  },
  {
   "cell_type": "code",
   "execution_count": 19,
   "metadata": {},
   "outputs": [
    {
     "data": {
      "text/plain": [
       "array([0.46670701, 0.37211033, 0.31275191, 0.30794737, 0.24564478,\n",
       "       0.21709332, 0.15825009, 0.14172482, 0.13667987, 0.12251529,\n",
       "       0.09971339, 0.05121963, 0.04940806, 0.04583796, 0.03165225])"
      ]
     },
     "execution_count": 19,
     "metadata": {},
     "output_type": "execute_result"
    }
   ],
   "source": [
    "pca_reg.explained_variance_"
   ]
  },
  {
   "cell_type": "markdown",
   "metadata": {},
   "source": [
    "# Regression\n"
   ]
  },
  {
   "cell_type": "markdown",
   "metadata": {},
   "source": [
    "## Linear"
   ]
  },
  {
   "cell_type": "code",
   "execution_count": 20,
   "metadata": {},
   "outputs": [
    {
     "name": "stdout",
     "output_type": "stream",
     "text": [
      "Train Score:0.607869\n",
      "Test Score: 0.592093\n"
     ]
    }
   ],
   "source": [
    "from sklearn.linear_model import LinearRegression\n",
    "\n",
    "lreg = LinearRegression()\n",
    "lreg.fit(X_train_reduced, y_train)\n",
    "\n",
    "print(\"Train Score:%f\" %lreg.score(X_train_reduced, y_train))\n",
    "print(\"Test Score: %f\" %lreg.score(X_test_reduced, y_test))\n",
    "lreg_predictions=lreg.predict(X_test_reduced)"
   ]
  },
  {
   "cell_type": "code",
   "execution_count": 21,
   "metadata": {},
   "outputs": [],
   "source": [
    "from sklearn import metrics"
   ]
  },
  {
   "cell_type": "code",
   "execution_count": 22,
   "metadata": {},
   "outputs": [
    {
     "name": "stdout",
     "output_type": "stream",
     "text": [
      "Mean Squared error:  1.9393829760578642\n"
     ]
    }
   ],
   "source": [
    "print(\"Mean Squared error: \", metrics.mean_squared_error(y_test,lreg_predictions))"
   ]
  },
  {
   "cell_type": "code",
   "execution_count": 23,
   "metadata": {},
   "outputs": [
    {
     "name": "stdout",
     "output_type": "stream",
     "text": [
      "R-Square score:  0.5920934448490216\n"
     ]
    }
   ],
   "source": [
    "print(\"R-Square score: \", metrics.r2_score(y_test,lreg_predictions))"
   ]
  },
  {
   "cell_type": "code",
   "execution_count": 24,
   "metadata": {},
   "outputs": [],
   "source": [
    "report_reg['ModelName']['0'] = 'Linear Regression'\n",
    "report_reg['TrainScore']['0'] = lreg.score(X_train_reduced, y_train)\n",
    "report_reg['TestScore']['0'] = lreg.score(X_test_reduced, y_test)\n",
    "report_reg['MeanSquaredError']['0'] = metrics.mean_squared_error(y_test,lreg_predictions)\n",
    "report_reg['RSquareScore']['0'] = metrics.r2_score(y_test,lreg_predictions)"
   ]
  },
  {
   "cell_type": "markdown",
   "metadata": {},
   "source": [
    "## Ridge"
   ]
  },
  {
   "cell_type": "code",
   "execution_count": 25,
   "metadata": {},
   "outputs": [
    {
     "name": "stdout",
     "output_type": "stream",
     "text": [
      "Fitting 3 folds for each of 10 candidates, totalling 30 fits\n",
      "[CV] alpha=0.01 ......................................................\n",
      "[CV] .......................... alpha=0.01, score=0.607, total=   0.0s\n",
      "[CV] alpha=0.01 ......................................................\n",
      "[CV] .......................... alpha=0.01, score=0.624, total=   0.0s\n",
      "[CV] alpha=0.01 ......................................................\n",
      "[CV] .......................... alpha=0.01, score=0.580, total=   0.0s\n",
      "[CV] alpha=0.1 .......................................................\n",
      "[CV] ........................... alpha=0.1, score=0.607, total=   0.0s\n",
      "[CV] alpha=0.1 .......................................................\n",
      "[CV] ........................... alpha=0.1, score=0.624, total=   0.0s\n",
      "[CV] alpha=0.1 .......................................................\n",
      "[CV] ........................... alpha=0.1, score=0.580, total=   0.0s\n",
      "[CV] alpha=0.2 .......................................................\n",
      "[CV] ........................... alpha=0.2, score=0.607, total=   0.0s\n",
      "[CV] alpha=0.2 .......................................................\n",
      "[CV] ........................... alpha=0.2, score=0.624, total=   0.0s\n",
      "[CV] alpha=0.2 .......................................................\n",
      "[CV] ........................... alpha=0.2, score=0.580, total=   0.0s\n",
      "[CV] alpha=0.3 .......................................................\n",
      "[CV] ........................... alpha=0.3, score=0.607, total=   0.0s\n",
      "[CV] alpha=0.3 .......................................................\n",
      "[CV] ........................... alpha=0.3, score=0.624, total=   0.0s\n",
      "[CV] alpha=0.3 .......................................................\n",
      "[CV] ........................... alpha=0.3, score=0.580, total=   0.0s\n",
      "[CV] alpha=1 .........................................................\n",
      "[CV] ............................. alpha=1, score=0.607, total=   0.0s\n",
      "[CV] alpha=1 .........................................................\n",
      "[CV] ............................. alpha=1, score=0.624, total=   0.0s\n",
      "[CV] alpha=1 .........................................................\n",
      "[CV] ............................. alpha=1, score=0.580, total=   0.0s\n",
      "[CV] alpha=2 .........................................................\n",
      "[CV] ............................. alpha=2, score=0.607, total=   0.0s\n",
      "[CV] alpha=2 .........................................................\n",
      "[CV] ............................. alpha=2, score=0.624, total=   0.0s\n",
      "[CV] alpha=2 .........................................................\n",
      "[CV] ............................. alpha=2, score=0.580, total=   0.0s\n",
      "[CV] alpha=3 .........................................................\n",
      "[CV] ............................. alpha=3, score=0.607, total=   0.0s\n",
      "[CV] alpha=3 .........................................................\n",
      "[CV] ............................. alpha=3, score=0.624, total=   0.0s\n",
      "[CV] alpha=3 .........................................................\n",
      "[CV] ............................. alpha=3, score=0.580, total=   0.0s\n",
      "[CV] alpha=4 .........................................................\n",
      "[CV] ............................. alpha=4, score=0.607, total=   0.0s\n",
      "[CV] alpha=4 .........................................................\n",
      "[CV] ............................. alpha=4, score=0.624, total=   0.0s\n",
      "[CV] alpha=4 .........................................................\n",
      "[CV] ............................. alpha=4, score=0.580, total=   0.0s\n",
      "[CV] alpha=5 .........................................................\n",
      "[CV] ............................. alpha=5, score=0.607, total=   0.0s\n",
      "[CV] alpha=5 .........................................................\n",
      "[CV] ............................. alpha=5, score=0.624, total=   0.0s\n",
      "[CV] alpha=5 .........................................................\n",
      "[CV] ............................. alpha=5, score=0.580, total=   0.0s\n",
      "[CV] alpha=10 ........................................................\n",
      "[CV] ............................ alpha=10, score=0.606, total=   0.0s\n",
      "[CV] alpha=10 ........................................................\n",
      "[CV] ............................ alpha=10, score=0.624, total=   0.0s\n",
      "[CV] alpha=10 ........................................................\n",
      "[CV] ............................ alpha=10, score=0.580, total=   0.0s\n"
     ]
    },
    {
     "name": "stderr",
     "output_type": "stream",
     "text": [
      "c:\\users\\uday kumar reddy\\appdata\\local\\programs\\python\\python36\\lib\\site-packages\\sklearn\\model_selection\\_split.py:1978: FutureWarning: The default value of cv will change from 3 to 5 in version 0.22. Specify it explicitly to silence this warning.\n",
      "  warnings.warn(CV_WARNING, FutureWarning)\n",
      "[Parallel(n_jobs=1)]: Using backend SequentialBackend with 1 concurrent workers.\n",
      "[Parallel(n_jobs=1)]: Done   1 out of   1 | elapsed:    0.0s remaining:    0.0s\n",
      "[Parallel(n_jobs=1)]: Done   2 out of   2 | elapsed:    0.0s remaining:    0.0s\n",
      "[Parallel(n_jobs=1)]: Done  30 out of  30 | elapsed:    0.0s finished\n"
     ]
    },
    {
     "data": {
      "text/plain": [
       "GridSearchCV(cv='warn', error_score='raise-deprecating',\n",
       "             estimator=Ridge(alpha=1.0, copy_X=True, fit_intercept=True,\n",
       "                             max_iter=None, normalize=False, random_state=None,\n",
       "                             solver='auto', tol=0.001),\n",
       "             iid='warn', n_jobs=None,\n",
       "             param_grid={'alpha': [0.01, 0.1, 0.2, 0.3, 1, 2, 3, 4, 5, 10]},\n",
       "             pre_dispatch='2*n_jobs', refit=True, return_train_score=False,\n",
       "             scoring=None, verbose=3)"
      ]
     },
     "execution_count": 25,
     "metadata": {},
     "output_type": "execute_result"
    }
   ],
   "source": [
    "from sklearn.linear_model import Ridge\n",
    "from sklearn import linear_model\n",
    "from sklearn.model_selection import GridSearchCV \n",
    "\n",
    "\n",
    "param_grid = {'alpha' : [0.01,0.1,0.2,0.3,1,2,3,4,5,10]}\n",
    "\n",
    "ridge_grid= GridSearchCV(Ridge(), param_grid , verbose=3)\n",
    "\n",
    "ridge_grid.fit(X_train_reduced,y_train)"
   ]
  },
  {
   "cell_type": "code",
   "execution_count": 26,
   "metadata": {},
   "outputs": [
    {
     "data": {
      "text/plain": [
       "{'alpha': 3}"
      ]
     },
     "execution_count": 26,
     "metadata": {},
     "output_type": "execute_result"
    }
   ],
   "source": [
    "ridge_grid.best_params_"
   ]
  },
  {
   "cell_type": "code",
   "execution_count": 27,
   "metadata": {},
   "outputs": [
    {
     "data": {
      "text/plain": [
       "Ridge(alpha=3, copy_X=True, fit_intercept=True, max_iter=None, normalize=False,\n",
       "      random_state=None, solver='auto', tol=0.001)"
      ]
     },
     "execution_count": 27,
     "metadata": {},
     "output_type": "execute_result"
    }
   ],
   "source": [
    "ridge_grid.best_estimator_"
   ]
  },
  {
   "cell_type": "code",
   "execution_count": 28,
   "metadata": {},
   "outputs": [
    {
     "name": "stdout",
     "output_type": "stream",
     "text": [
      "Train Score:0.607859\n",
      "Test Score: 0.592394\n"
     ]
    }
   ],
   "source": [
    "print(\"Train Score:%f\" %ridge_grid.score(X_train_reduced, y_train))\n",
    "print(\"Test Score: %f\" %ridge_grid.score(X_test_reduced, y_test))"
   ]
  },
  {
   "cell_type": "code",
   "execution_count": 29,
   "metadata": {},
   "outputs": [
    {
     "data": {
      "text/plain": [
       "Text(0.5, 1.0, 'Scatter Plot for Ridge Regression')"
      ]
     },
     "execution_count": 29,
     "metadata": {},
     "output_type": "execute_result"
    },
    {
     "data": {
      "image/png": "[encoded data removed]",
      "text/plain": [
       "<Figure size 432x288 with 1 Axes>"
      ]
     },
     "metadata": {
      "needs_background": "light"
     },
     "output_type": "display_data"
    }
   ],
   "source": [
    "ridge_predictions=ridge_grid.predict(X_test_reduced)\n",
    "plt.scatter(y_test, ridge_predictions)\n",
    "plt.xlabel(\"y_test\")\n",
    "plt.ylabel(\"ridge_predictions\")\n",
    "plt.title(\"Scatter Plot for Ridge Regression\")"
   ]
  },
  {
   "cell_type": "code",
   "execution_count": 30,
   "metadata": {},
   "outputs": [
    {
     "name": "stdout",
     "output_type": "stream",
     "text": [
      "Mean Squared error: 1.937955858705775\n"
     ]
    }
   ],
   "source": [
    "print(\"Mean Squared error:\", metrics.mean_squared_error(y_test,ridge_predictions))"
   ]
  },
  {
   "cell_type": "code",
   "execution_count": 31,
   "metadata": {},
   "outputs": [
    {
     "name": "stdout",
     "output_type": "stream",
     "text": [
      "R-Square score: 0.5923936075966962\n"
     ]
    }
   ],
   "source": [
    "print(\"R-Square score:\", metrics.r2_score(y_test,ridge_predictions))"
   ]
  },
  {
   "cell_type": "code",
   "execution_count": 32,
   "metadata": {},
   "outputs": [],
   "source": [
    "report_reg['ModelName']['1'] = 'Ridge'\n",
    "report_reg['TrainScore']['1'] = ridge_grid.score(X_train_reduced, y_train)\n",
    "report_reg['TestScore']['1'] = ridge_grid.score(X_test_reduced, y_test)\n",
    "report_reg['MeanSquaredError']['1'] = metrics.mean_squared_error(y_test,ridge_predictions)\n",
    "report_reg['RSquareScore']['1'] = metrics.r2_score(y_test,ridge_predictions)"
   ]
  },
  {
   "cell_type": "markdown",
   "metadata": {},
   "source": [
    "## Lasso"
   ]
  },
  {
   "cell_type": "code",
   "execution_count": 33,
   "metadata": {},
   "outputs": [
    {
     "name": "stdout",
     "output_type": "stream",
     "text": [
      "Fitting 3 folds for each of 10 candidates, totalling 30 fits\n",
      "[CV] alpha=0.01 ......................................................\n",
      "[CV] .......................... alpha=0.01, score=0.606, total=   0.0s\n",
      "[CV] alpha=0.01 ......................................................\n",
      "[CV] .......................... alpha=0.01, score=0.626, total=   0.0s\n",
      "[CV] alpha=0.01 ......................................................\n",
      "[CV] .......................... alpha=0.01, score=0.576, total=   0.0s\n",
      "[CV] alpha=0.1 .......................................................\n",
      "[CV] ........................... alpha=0.1, score=0.551, total=   0.0s\n",
      "[CV] alpha=0.1 .......................................................\n",
      "[CV] ........................... alpha=0.1, score=0.579, total=   0.0s\n",
      "[CV] alpha=0.1 .......................................................\n",
      "[CV] ........................... alpha=0.1, score=0.524, total=   0.0s\n",
      "[CV] alpha=0.2 .......................................................\n",
      "[CV] ........................... alpha=0.2, score=0.437, total=   0.0s\n",
      "[CV] alpha=0.2 .......................................................\n",
      "[CV] ........................... alpha=0.2, score=0.472, total=   0.0s\n",
      "[CV] alpha=0.2 .......................................................\n",
      "[CV] ........................... alpha=0.2, score=0.421, total=   0.0s\n",
      "[CV] alpha=0.3 .......................................................\n",
      "[CV] ........................... alpha=0.3, score=0.381, total=   0.0s\n",
      "[CV] alpha=0.3 .......................................................\n",
      "[CV] ........................... alpha=0.3, score=0.414, total=   0.0s\n",
      "[CV] alpha=0.3 .......................................................\n",
      "[CV] ........................... alpha=0.3, score=0.374, total=   0.0s\n",
      "[CV] alpha=1 .........................................................\n",
      "[CV] ............................ alpha=1, score=-0.004, total=   0.0s\n",
      "[CV] alpha=1 .........................................................\n",
      "[CV] ............................ alpha=1, score=-0.004, total=   0.0s\n",
      "[CV] alpha=1 .........................................................\n",
      "[CV] ............................ alpha=1, score=-0.000, total=   0.0s\n",
      "[CV] alpha=2 .........................................................\n",
      "[CV] ............................ alpha=2, score=-0.004, total=   0.0s\n",
      "[CV] alpha=2 .........................................................\n",
      "[CV] ............................ alpha=2, score=-0.004, total=   0.0s\n",
      "[CV] alpha=2 .........................................................\n",
      "[CV] ............................ alpha=2, score=-0.000, total=   0.0s\n",
      "[CV] alpha=3 .........................................................\n",
      "[CV] ............................ alpha=3, score=-0.004, total=   0.0s\n",
      "[CV] alpha=3 .........................................................\n",
      "[CV] ............................ alpha=3, score=-0.004, total=   0.0s\n",
      "[CV] alpha=3 .........................................................\n",
      "[CV] ............................ alpha=3, score=-0.000, total=   0.0s\n",
      "[CV] alpha=4 .........................................................\n",
      "[CV] ............................ alpha=4, score=-0.004, total=   0.0s\n",
      "[CV] alpha=4 .........................................................\n",
      "[CV] ............................ alpha=4, score=-0.004, total=   0.0s\n",
      "[CV] alpha=4 .........................................................\n",
      "[CV] ............................ alpha=4, score=-0.000, total=   0.0s\n",
      "[CV] alpha=5 .........................................................\n",
      "[CV] ............................ alpha=5, score=-0.004, total=   0.0s\n",
      "[CV] alpha=5 .........................................................\n",
      "[CV] ............................ alpha=5, score=-0.004, total=   0.0s\n",
      "[CV] alpha=5 .........................................................\n",
      "[CV] ............................ alpha=5, score=-0.000, total=   0.0s\n",
      "[CV] alpha=10 ........................................................\n",
      "[CV] ........................... alpha=10, score=-0.004, total=   0.0s\n",
      "[CV] alpha=10 ........................................................\n",
      "[CV] ........................... alpha=10, score=-0.004, total=   0.0s\n",
      "[CV] alpha=10 ........................................................\n",
      "[CV] ........................... alpha=10, score=-0.000, total=   0.0s\n"
     ]
    },
    {
     "name": "stderr",
     "output_type": "stream",
     "text": [
      "c:\\users\\uday kumar reddy\\appdata\\local\\programs\\python\\python36\\lib\\site-packages\\sklearn\\model_selection\\_split.py:1978: FutureWarning: The default value of cv will change from 3 to 5 in version 0.22. Specify it explicitly to silence this warning.\n",
      "  warnings.warn(CV_WARNING, FutureWarning)\n",
      "[Parallel(n_jobs=1)]: Using backend SequentialBackend with 1 concurrent workers.\n",
      "[Parallel(n_jobs=1)]: Done   1 out of   1 | elapsed:    0.0s remaining:    0.0s\n",
      "[Parallel(n_jobs=1)]: Done   2 out of   2 | elapsed:    0.0s remaining:    0.0s\n",
      "[Parallel(n_jobs=1)]: Done  30 out of  30 | elapsed:    0.0s finished\n"
     ]
    },
    {
     "data": {
      "text/plain": [
       "GridSearchCV(cv='warn', error_score='raise-deprecating',\n",
       "             estimator=Lasso(alpha=1.0, copy_X=True, fit_intercept=True,\n",
       "                             max_iter=1000, normalize=False, positive=False,\n",
       "                             precompute=False, random_state=None,\n",
       "                             selection='cyclic', tol=0.0001, warm_start=False),\n",
       "             iid='warn', n_jobs=None,\n",
       "             param_grid={'alpha': [0.01, 0.1, 0.2, 0.3, 1, 2, 3, 4, 5, 10]},\n",
       "             pre_dispatch='2*n_jobs', refit=True, return_train_score=False,\n",
       "             scoring=None, verbose=3)"
      ]
     },
     "execution_count": 33,
     "metadata": {},
     "output_type": "execute_result"
    }
   ],
   "source": [
    "from sklearn.linear_model import Lasso\n",
    "from sklearn.model_selection import GridSearchCV \n",
    "\n",
    "param_grid = {'alpha' : [0.01,0.1,0.2,0.3,1,2,3,4,5,10]}\n",
    "\n",
    "lasso_grid= GridSearchCV(Lasso(), param_grid , verbose=3)\n",
    "\n",
    "lasso_grid.fit(X_train_reduced,y_train)"
   ]
  },
  {
   "cell_type": "code",
   "execution_count": 34,
   "metadata": {},
   "outputs": [
    {
     "data": {
      "text/plain": [
       "{'alpha': 0.01}"
      ]
     },
     "execution_count": 34,
     "metadata": {},
     "output_type": "execute_result"
    }
   ],
   "source": [
    "lasso_grid.best_params_"
   ]
  },
  {
   "cell_type": "code",
   "execution_count": 35,
   "metadata": {},
   "outputs": [
    {
     "data": {
      "text/plain": [
       "Lasso(alpha=0.01, copy_X=True, fit_intercept=True, max_iter=1000,\n",
       "      normalize=False, positive=False, precompute=False, random_state=None,\n",
       "      selection='cyclic', tol=0.0001, warm_start=False)"
      ]
     },
     "execution_count": 35,
     "metadata": {},
     "output_type": "execute_result"
    }
   ],
   "source": [
    "lasso_grid.best_estimator_"
   ]
  },
  {
   "cell_type": "code",
   "execution_count": 36,
   "metadata": {},
   "outputs": [
    {
     "name": "stdout",
     "output_type": "stream",
     "text": [
      "Train Score:0.605350\n",
      "Test Score: 0.592239\n"
     ]
    }
   ],
   "source": [
    "print(\"Train Score:%f\" %lasso_grid.score(X_train_reduced, y_train))\n",
    "print(\"Test Score: %f\" %lasso_grid.score(X_test_reduced, y_test))"
   ]
  },
  {
   "cell_type": "code",
   "execution_count": 37,
   "metadata": {},
   "outputs": [
    {
     "data": {
      "text/plain": [
       "Text(0.5, 1.0, 'Scatter Plot for Lasso Regression')"
      ]
     },
     "execution_count": 37,
     "metadata": {},
     "output_type": "execute_result"
    },
    {
     "data": {
      "image/png": "[encoded data removed]",
      "text/plain": [
       "<Figure size 432x288 with 1 Axes>"
      ]
     },
     "metadata": {
      "needs_background": "light"
     },
     "output_type": "display_data"
    }
   ],
   "source": [
    "lasso_predictions=lasso_grid.predict(X_test_reduced)\n",
    "plt.scatter(y_test,lasso_predictions)\n",
    "plt.xlabel(\"y_test\")\n",
    "plt.ylabel(\"lasso_predictions\")\n",
    "plt.title(\"Scatter Plot for Lasso Regression\")"
   ]
  },
  {
   "cell_type": "code",
   "execution_count": 38,
   "metadata": {},
   "outputs": [
    {
     "name": "stdout",
     "output_type": "stream",
     "text": [
      "Mean Squared error: 1.9386904362265207\n"
     ]
    }
   ],
   "source": [
    "print(\"Mean Squared error:\", metrics.mean_squared_error(y_test,lasso_predictions))"
   ]
  },
  {
   "cell_type": "code",
   "execution_count": 39,
   "metadata": {},
   "outputs": [
    {
     "name": "stdout",
     "output_type": "stream",
     "text": [
      "R-Square score:  0.5922391053711544\n"
     ]
    }
   ],
   "source": [
    "print(\"R-Square score: \",metrics.r2_score(y_test,lasso_predictions))"
   ]
  },
  {
   "cell_type": "code",
   "execution_count": 40,
   "metadata": {},
   "outputs": [],
   "source": [
    "report_reg['ModelName']['2'] = 'Lasso'\n",
    "report_reg['TrainScore']['2'] = lasso_grid.score(X_train_reduced, y_train)\n",
    "report_reg['TestScore']['2'] = lasso_grid.score(X_test_reduced, y_test)\n",
    "report_reg['MeanSquaredError']['2'] = metrics.mean_squared_error(y_test,lasso_predictions)\n",
    "report_reg['RSquareScore']['2'] = metrics.r2_score(y_test,lasso_predictions)"
   ]
  },
  {
   "cell_type": "markdown",
   "metadata": {},
   "source": [
    "## Polynomial Regression"
   ]
  },
  {
   "cell_type": "code",
   "execution_count": 41,
   "metadata": {},
   "outputs": [
    {
     "data": {
      "text/plain": [
       "GridSearchCV(cv=10, error_score='raise-deprecating',\n",
       "             estimator=Pipeline(memory=None,\n",
       "                                steps=[('polynomialfeatures',\n",
       "                                        PolynomialFeatures(degree=2,\n",
       "                                                           include_bias=True,\n",
       "                                                           interaction_only=False,\n",
       "                                                           order='C')),\n",
       "                                       ('linearregression',\n",
       "                                        LinearRegression(copy_X=True,\n",
       "                                                         fit_intercept=True,\n",
       "                                                         n_jobs=None,\n",
       "                                                         normalize=False))],\n",
       "                                verbose=False),\n",
       "             iid='warn', n_jobs=None,\n",
       "             param_grid={'linearregression__fit_intercept': [True, False],\n",
       "                         'linearregression__normalize': [True, False],\n",
       "                         'polynomialfeatures__degree': array([0, 1, 2])},\n",
       "             pre_dispatch='2*n_jobs', refit=True, return_train_score=False,\n",
       "             scoring='neg_mean_squared_error', verbose=0)"
      ]
     },
     "execution_count": 41,
     "metadata": {},
     "output_type": "execute_result"
    }
   ],
   "source": [
    "from  sklearn.preprocessing  import PolynomialFeatures\n",
    "from sklearn.model_selection import GridSearchCV \n",
    "from sklearn.pipeline import make_pipeline\n",
    "\n",
    "\n",
    "def PolynomialRegression(degree=2, **kwargs):\n",
    "    return make_pipeline(PolynomialFeatures(degree), LinearRegression(**kwargs))\n",
    "\n",
    "param_grid = {'polynomialfeatures__degree': np.arange(3), 'linearregression__fit_intercept': [True, False], 'linearregression__normalize': [True, False]}\n",
    "\n",
    "poly_grid = GridSearchCV(PolynomialRegression(), param_grid, cv=10, scoring='neg_mean_squared_error')\n",
    "\n",
    "\n",
    "grid= GridSearchCV(PolynomialFeatures(), param_grid )\n",
    "\n",
    "poly_grid.fit(X_train_reduced,y_train)\n"
   ]
  },
  {
   "cell_type": "code",
   "execution_count": 42,
   "metadata": {},
   "outputs": [
    {
     "data": {
      "text/plain": [
       "Pipeline(memory=None,\n",
       "         steps=[('polynomialfeatures',\n",
       "                 PolynomialFeatures(degree=2, include_bias=True,\n",
       "                                    interaction_only=False, order='C')),\n",
       "                ('linearregression',\n",
       "                 LinearRegression(copy_X=True, fit_intercept=False, n_jobs=None,\n",
       "                                  normalize=True))],\n",
       "         verbose=False)"
      ]
     },
     "execution_count": 42,
     "metadata": {},
     "output_type": "execute_result"
    }
   ],
   "source": [
    "poly_grid.best_estimator_"
   ]
  },
  {
   "cell_type": "code",
   "execution_count": 43,
   "metadata": {},
   "outputs": [
    {
     "data": {
      "text/plain": [
       "{'linearregression__fit_intercept': False,\n",
       " 'linearregression__normalize': True,\n",
       " 'polynomialfeatures__degree': 2}"
      ]
     },
     "execution_count": 43,
     "metadata": {},
     "output_type": "execute_result"
    }
   ],
   "source": [
    "poly_grid.best_params_"
   ]
  },
  {
   "cell_type": "code",
   "execution_count": 44,
   "metadata": {},
   "outputs": [
    {
     "name": "stdout",
     "output_type": "stream",
     "text": [
      "Train Score:-1.647077\n",
      "Test Score: -1.770685\n"
     ]
    }
   ],
   "source": [
    "poly_predictions=poly_grid.predict(X_test_reduced)\n",
    "\n",
    "print(\"Train Score:%f\" %poly_grid.score(X_train_reduced, y_train))\n",
    "print(\"Test Score: %f\" %poly_grid.score(X_test_reduced, y_test))"
   ]
  },
  {
   "cell_type": "code",
   "execution_count": 45,
   "metadata": {},
   "outputs": [
    {
     "name": "stdout",
     "output_type": "stream",
     "text": [
      "Mean Squared Error:  1.7706849747292919\n"
     ]
    }
   ],
   "source": [
    "print(\"Mean Squared Error: \", metrics.mean_squared_error(y_test,poly_predictions))"
   ]
  },
  {
   "cell_type": "code",
   "execution_count": 46,
   "metadata": {},
   "outputs": [
    {
     "name": "stdout",
     "output_type": "stream",
     "text": [
      "R-Square score:  0.6275753591652273\n"
     ]
    }
   ],
   "source": [
    "print(\"R-Square score: \", metrics.r2_score(y_test,poly_predictions))"
   ]
  },
  {
   "cell_type": "code",
   "execution_count": 47,
   "metadata": {},
   "outputs": [],
   "source": [
    "report_reg['ModelName']['3'] = 'Polynomial Regression'\n",
    "report_reg['TrainScore']['3'] = poly_grid.score(X_train_reduced, y_train)\n",
    "report_reg['TestScore']['3'] = poly_grid.score(X_test_reduced, y_test)\n",
    "report_reg['MeanSquaredError']['3'] = metrics.mean_squared_error(y_test,poly_predictions)\n",
    "report_reg['RSquareScore']['3'] = metrics.r2_score(y_test,poly_predictions)"
   ]
  },
  {
   "cell_type": "markdown",
   "metadata": {},
   "source": [
    "## Knn Regressor"
   ]
  },
  {
   "cell_type": "code",
   "execution_count": 48,
   "metadata": {},
   "outputs": [
    {
     "name": "stderr",
     "output_type": "stream",
     "text": [
      "c:\\users\\uday kumar reddy\\appdata\\local\\programs\\python\\python36\\lib\\site-packages\\sklearn\\model_selection\\_split.py:1978: FutureWarning: The default value of cv will change from 3 to 5 in version 0.22. Specify it explicitly to silence this warning.\n",
      "  warnings.warn(CV_WARNING, FutureWarning)\n"
     ]
    },
    {
     "data": {
      "text/plain": [
       "GridSearchCV(cv='warn', error_score='raise-deprecating',\n",
       "             estimator=KNeighborsRegressor(algorithm='auto', leaf_size=30,\n",
       "                                           metric='minkowski',\n",
       "                                           metric_params=None, n_jobs=None,\n",
       "                                           n_neighbors=5, p=2,\n",
       "                                           weights='uniform'),\n",
       "             iid='warn', n_jobs=None,\n",
       "             param_grid={'n_neighbors': [1, 2, 3, 4, 5, 6, 7, 8, 9, 10]},\n",
       "             pre_dispatch='2*n_jobs', refit=True, return_train_score=False,\n",
       "             scoring=None, verbose=0)"
      ]
     },
     "execution_count": 48,
     "metadata": {},
     "output_type": "execute_result"
    }
   ],
   "source": [
    "from sklearn.neighbors import KNeighborsRegressor\n",
    "\n",
    "param_grid = {'n_neighbors' : [1,2,3,4,5,6,7,8,9,10]}\n",
    "\n",
    "knn_grid= GridSearchCV(KNeighborsRegressor(), param_grid )\n",
    "\n",
    "knn_grid.fit(X_train_reduced,y_train)"
   ]
  },
  {
   "cell_type": "code",
   "execution_count": 49,
   "metadata": {},
   "outputs": [
    {
     "data": {
      "text/plain": [
       "KNeighborsRegressor(algorithm='auto', leaf_size=30, metric='minkowski',\n",
       "                    metric_params=None, n_jobs=None, n_neighbors=10, p=2,\n",
       "                    weights='uniform')"
      ]
     },
     "execution_count": 49,
     "metadata": {},
     "output_type": "execute_result"
    }
   ],
   "source": [
    "knn_grid.best_estimator_"
   ]
  },
  {
   "cell_type": "code",
   "execution_count": 50,
   "metadata": {},
   "outputs": [
    {
     "data": {
      "text/plain": [
       "{'n_neighbors': 10}"
      ]
     },
     "execution_count": 50,
     "metadata": {},
     "output_type": "execute_result"
    }
   ],
   "source": [
    "knn_grid.best_params_"
   ]
  },
  {
   "cell_type": "code",
   "execution_count": 51,
   "metadata": {},
   "outputs": [
    {
     "name": "stdout",
     "output_type": "stream",
     "text": [
      "Train Score:0.595222\n",
      "Test Score: 0.510394\n"
     ]
    }
   ],
   "source": [
    "print(\"Train Score:%f\" %knn_grid.score(X_train_reduced, y_train))\n",
    "print(\"Test Score: %f\" %knn_grid.score(X_test_reduced, y_test))\n",
    "knn_predictions=knn_grid.predict(X_test_reduced)"
   ]
  },
  {
   "cell_type": "code",
   "execution_count": 52,
   "metadata": {},
   "outputs": [
    {
     "name": "stdout",
     "output_type": "stream",
     "text": [
      "Mean Square Error:  2.327823596792669\n"
     ]
    }
   ],
   "source": [
    "print(\"Mean Square Error: \", metrics.mean_squared_error(y_test,knn_predictions))"
   ]
  },
  {
   "cell_type": "code",
   "execution_count": 53,
   "metadata": {},
   "outputs": [
    {
     "name": "stdout",
     "output_type": "stream",
     "text": [
      "R-Square Score:  0.5103935034549221\n"
     ]
    }
   ],
   "source": [
    "print(\"R-Square Score: \", metrics.r2_score(y_test,knn_predictions))"
   ]
  },
  {
   "cell_type": "code",
   "execution_count": 54,
   "metadata": {},
   "outputs": [],
   "source": [
    "report_reg['ModelName']['4'] = 'KNN Regressor'\n",
    "report_reg['TrainScore']['4'] = knn_grid.score(X_train_reduced, y_train)\n",
    "report_reg['TestScore']['4'] = knn_grid.score(X_test_reduced, y_test)\n",
    "report_reg['MeanSquaredError']['4'] = metrics.mean_squared_error(y_test,knn_predictions)\n",
    "report_reg['RSquareScore']['4'] = metrics.r2_score(y_test,knn_predictions)"
   ]
  },
  {
   "cell_type": "markdown",
   "metadata": {},
   "source": [
    "## Linear SVM Regression"
   ]
  },
  {
   "cell_type": "code",
   "execution_count": 55,
   "metadata": {},
   "outputs": [],
   "source": [
    "from sklearn.metrics import classification_report,confusion_matrix"
   ]
  },
  {
   "cell_type": "code",
   "execution_count": 56,
   "metadata": {},
   "outputs": [
    {
     "name": "stderr",
     "output_type": "stream",
     "text": [
      "c:\\users\\uday kumar reddy\\appdata\\local\\programs\\python\\python36\\lib\\site-packages\\sklearn\\model_selection\\_split.py:1978: FutureWarning: The default value of cv will change from 3 to 5 in version 0.22. Specify it explicitly to silence this warning.\n",
      "  warnings.warn(CV_WARNING, FutureWarning)\n",
      "[Parallel(n_jobs=1)]: Using backend SequentialBackend with 1 concurrent workers.\n",
      "[Parallel(n_jobs=1)]: Done   1 out of   1 | elapsed:    0.0s remaining:    0.0s\n",
      "[Parallel(n_jobs=1)]: Done   2 out of   2 | elapsed:    0.0s remaining:    0.0s\n"
     ]
    },
    {
     "name": "stdout",
     "output_type": "stream",
     "text": [
      "Fitting 3 folds for each of 18 candidates, totalling 54 fits\n",
      "[CV] C=0.01 ..........................................................\n",
      "[CV] .............................. C=0.01, score=0.523, total=   0.0s\n",
      "[CV] C=0.01 ..........................................................\n",
      "[CV] .............................. C=0.01, score=0.561, total=   0.0s\n",
      "[CV] C=0.01 ..........................................................\n",
      "[CV] .............................. C=0.01, score=0.521, total=   0.0s\n",
      "[CV] C=0.1 ...........................................................\n",
      "[CV] ............................... C=0.1, score=0.603, total=   0.0s\n",
      "[CV] C=0.1 ...........................................................\n",
      "[CV] ............................... C=0.1, score=0.623, total=   0.0s\n",
      "[CV] C=0.1 ...........................................................\n",
      "[CV] ............................... C=0.1, score=0.573, total=   0.0s\n",
      "[CV] C=0.2 ...........................................................\n",
      "[CV] ............................... C=0.2, score=0.604, total=   0.0s\n",
      "[CV] C=0.2 ...........................................................\n",
      "[CV] ............................... C=0.2, score=0.621, total=   0.0s\n",
      "[CV] C=0.2 ...........................................................\n",
      "[CV] ............................... C=0.2, score=0.571, total=   0.0s\n",
      "[CV] C=0.3 ...........................................................\n",
      "[CV] ............................... C=0.3, score=0.605, total=   0.0s\n",
      "[CV] C=0.3 ...........................................................\n",
      "[CV] ............................... C=0.3, score=0.620, total=   0.0s\n",
      "[CV] C=0.3 ...........................................................\n",
      "[CV] ............................... C=0.3, score=0.571, total=   0.0s\n",
      "[CV] C=1 .............................................................\n",
      "[CV] ................................. C=1, score=0.605, total=   0.0s\n",
      "[CV] C=1 .............................................................\n",
      "[CV] ................................. C=1, score=0.620, total=   0.0s\n",
      "[CV] C=1 .............................................................\n",
      "[CV] ................................. C=1, score=0.570, total=   0.0s\n",
      "[CV] C=2 .............................................................\n",
      "[CV] ................................. C=2, score=0.604, total=   0.0s\n",
      "[CV] C=2 .............................................................\n",
      "[CV] ................................. C=2, score=0.620, total=   0.0s\n",
      "[CV] C=2 .............................................................\n",
      "[CV] ................................. C=2, score=0.570, total=   0.0s\n",
      "[CV] C=3 .............................................................\n",
      "[CV] ................................. C=3, score=0.604, total=   0.0s\n",
      "[CV] C=3 .............................................................\n",
      "[CV] ................................. C=3, score=0.619, total=   0.0s\n",
      "[CV] C=3 .............................................................\n",
      "[CV] ................................. C=3, score=0.570, total=   0.0s\n",
      "[CV] C=4 .............................................................\n",
      "[CV] ................................. C=4, score=0.605, total=   0.0s\n",
      "[CV] C=4 .............................................................\n",
      "[CV] ................................. C=4, score=0.619, total=   0.0s\n",
      "[CV] C=4 .............................................................\n",
      "[CV] ................................. C=4, score=0.570, total=   0.0s\n",
      "[CV] C=5 .............................................................\n",
      "[CV] ................................. C=5, score=0.605, total=   0.0s\n",
      "[CV] C=5 .............................................................\n",
      "[CV] ................................. C=5, score=0.619, total=   0.0s\n",
      "[CV] C=5 .............................................................\n",
      "[CV] ................................. C=5, score=0.570, total=   0.0s\n",
      "[CV] C=10 ............................................................\n"
     ]
    },
    {
     "name": "stderr",
     "output_type": "stream",
     "text": [
      "c:\\users\\uday kumar reddy\\appdata\\local\\programs\\python\\python36\\lib\\site-packages\\sklearn\\svm\\base.py:929: ConvergenceWarning: Liblinear failed to converge, increase the number of iterations.\n",
      "  \"the number of iterations.\", ConvergenceWarning)\n",
      "c:\\users\\uday kumar reddy\\appdata\\local\\programs\\python\\python36\\lib\\site-packages\\sklearn\\svm\\base.py:929: ConvergenceWarning: Liblinear failed to converge, increase the number of iterations.\n",
      "  \"the number of iterations.\", ConvergenceWarning)\n",
      "c:\\users\\uday kumar reddy\\appdata\\local\\programs\\python\\python36\\lib\\site-packages\\sklearn\\svm\\base.py:929: ConvergenceWarning: Liblinear failed to converge, increase the number of iterations.\n",
      "  \"the number of iterations.\", ConvergenceWarning)\n",
      "c:\\users\\uday kumar reddy\\appdata\\local\\programs\\python\\python36\\lib\\site-packages\\sklearn\\svm\\base.py:929: ConvergenceWarning: Liblinear failed to converge, increase the number of iterations.\n",
      "  \"the number of iterations.\", ConvergenceWarning)\n"
     ]
    },
    {
     "name": "stdout",
     "output_type": "stream",
     "text": [
      "[CV] ................................ C=10, score=0.604, total=   0.1s\n",
      "[CV] C=10 ............................................................\n",
      "[CV] ................................ C=10, score=0.619, total=   0.0s\n",
      "[CV] C=10 ............................................................\n",
      "[CV] ................................ C=10, score=0.570, total=   0.1s\n",
      "[CV] C=15 ............................................................\n"
     ]
    },
    {
     "name": "stderr",
     "output_type": "stream",
     "text": [
      "c:\\users\\uday kumar reddy\\appdata\\local\\programs\\python\\python36\\lib\\site-packages\\sklearn\\svm\\base.py:929: ConvergenceWarning: Liblinear failed to converge, increase the number of iterations.\n",
      "  \"the number of iterations.\", ConvergenceWarning)\n",
      "c:\\users\\uday kumar reddy\\appdata\\local\\programs\\python\\python36\\lib\\site-packages\\sklearn\\svm\\base.py:929: ConvergenceWarning: Liblinear failed to converge, increase the number of iterations.\n",
      "  \"the number of iterations.\", ConvergenceWarning)\n",
      "c:\\users\\uday kumar reddy\\appdata\\local\\programs\\python\\python36\\lib\\site-packages\\sklearn\\svm\\base.py:929: ConvergenceWarning: Liblinear failed to converge, increase the number of iterations.\n",
      "  \"the number of iterations.\", ConvergenceWarning)\n"
     ]
    },
    {
     "name": "stdout",
     "output_type": "stream",
     "text": [
      "[CV] ................................ C=15, score=0.604, total=   0.1s\n",
      "[CV] C=15 ............................................................\n",
      "[CV] ................................ C=15, score=0.617, total=   0.1s\n",
      "[CV] C=15 ............................................................\n",
      "[CV] ................................ C=15, score=0.569, total=   0.1s\n",
      "[CV] C=20 ............................................................\n"
     ]
    },
    {
     "name": "stderr",
     "output_type": "stream",
     "text": [
      "c:\\users\\uday kumar reddy\\appdata\\local\\programs\\python\\python36\\lib\\site-packages\\sklearn\\svm\\base.py:929: ConvergenceWarning: Liblinear failed to converge, increase the number of iterations.\n",
      "  \"the number of iterations.\", ConvergenceWarning)\n",
      "c:\\users\\uday kumar reddy\\appdata\\local\\programs\\python\\python36\\lib\\site-packages\\sklearn\\svm\\base.py:929: ConvergenceWarning: Liblinear failed to converge, increase the number of iterations.\n",
      "  \"the number of iterations.\", ConvergenceWarning)\n",
      "c:\\users\\uday kumar reddy\\appdata\\local\\programs\\python\\python36\\lib\\site-packages\\sklearn\\svm\\base.py:929: ConvergenceWarning: Liblinear failed to converge, increase the number of iterations.\n",
      "  \"the number of iterations.\", ConvergenceWarning)\n"
     ]
    },
    {
     "name": "stdout",
     "output_type": "stream",
     "text": [
      "[CV] ................................ C=20, score=0.603, total=   0.1s\n",
      "[CV] C=20 ............................................................\n",
      "[CV] ................................ C=20, score=0.620, total=   0.1s\n",
      "[CV] C=20 ............................................................\n"
     ]
    },
    {
     "name": "stderr",
     "output_type": "stream",
     "text": [
      "c:\\users\\uday kumar reddy\\appdata\\local\\programs\\python\\python36\\lib\\site-packages\\sklearn\\svm\\base.py:929: ConvergenceWarning: Liblinear failed to converge, increase the number of iterations.\n",
      "  \"the number of iterations.\", ConvergenceWarning)\n",
      "c:\\users\\uday kumar reddy\\appdata\\local\\programs\\python\\python36\\lib\\site-packages\\sklearn\\svm\\base.py:929: ConvergenceWarning: Liblinear failed to converge, increase the number of iterations.\n",
      "  \"the number of iterations.\", ConvergenceWarning)\n"
     ]
    },
    {
     "name": "stdout",
     "output_type": "stream",
     "text": [
      "[CV] ................................ C=20, score=0.572, total=   0.1s\n",
      "[CV] C=25 ............................................................\n",
      "[CV] ................................ C=25, score=0.603, total=   0.1s\n",
      "[CV] C=25 ............................................................\n"
     ]
    },
    {
     "name": "stderr",
     "output_type": "stream",
     "text": [
      "c:\\users\\uday kumar reddy\\appdata\\local\\programs\\python\\python36\\lib\\site-packages\\sklearn\\svm\\base.py:929: ConvergenceWarning: Liblinear failed to converge, increase the number of iterations.\n",
      "  \"the number of iterations.\", ConvergenceWarning)\n",
      "c:\\users\\uday kumar reddy\\appdata\\local\\programs\\python\\python36\\lib\\site-packages\\sklearn\\svm\\base.py:929: ConvergenceWarning: Liblinear failed to converge, increase the number of iterations.\n",
      "  \"the number of iterations.\", ConvergenceWarning)\n"
     ]
    },
    {
     "name": "stdout",
     "output_type": "stream",
     "text": [
      "[CV] ................................ C=25, score=0.617, total=   0.1s\n",
      "[CV] C=25 ............................................................\n",
      "[CV] ................................ C=25, score=0.569, total=   0.1s\n",
      "[CV] C=30 ............................................................\n"
     ]
    },
    {
     "name": "stderr",
     "output_type": "stream",
     "text": [
      "c:\\users\\uday kumar reddy\\appdata\\local\\programs\\python\\python36\\lib\\site-packages\\sklearn\\svm\\base.py:929: ConvergenceWarning: Liblinear failed to converge, increase the number of iterations.\n",
      "  \"the number of iterations.\", ConvergenceWarning)\n",
      "c:\\users\\uday kumar reddy\\appdata\\local\\programs\\python\\python36\\lib\\site-packages\\sklearn\\svm\\base.py:929: ConvergenceWarning: Liblinear failed to converge, increase the number of iterations.\n",
      "  \"the number of iterations.\", ConvergenceWarning)\n"
     ]
    },
    {
     "name": "stdout",
     "output_type": "stream",
     "text": [
      "[CV] ................................ C=30, score=0.604, total=   0.2s\n",
      "[CV] C=30 ............................................................\n",
      "[CV] ................................ C=30, score=0.618, total=   0.2s\n",
      "[CV] C=30 ............................................................\n"
     ]
    },
    {
     "name": "stderr",
     "output_type": "stream",
     "text": [
      "c:\\users\\uday kumar reddy\\appdata\\local\\programs\\python\\python36\\lib\\site-packages\\sklearn\\svm\\base.py:929: ConvergenceWarning: Liblinear failed to converge, increase the number of iterations.\n",
      "  \"the number of iterations.\", ConvergenceWarning)\n",
      "c:\\users\\uday kumar reddy\\appdata\\local\\programs\\python\\python36\\lib\\site-packages\\sklearn\\svm\\base.py:929: ConvergenceWarning: Liblinear failed to converge, increase the number of iterations.\n",
      "  \"the number of iterations.\", ConvergenceWarning)\n"
     ]
    },
    {
     "name": "stdout",
     "output_type": "stream",
     "text": [
      "[CV] ................................ C=30, score=0.569, total=   0.2s\n",
      "[CV] C=35 ............................................................\n",
      "[CV] ................................ C=35, score=0.605, total=   0.2s\n",
      "[CV] C=35 ............................................................\n"
     ]
    },
    {
     "name": "stderr",
     "output_type": "stream",
     "text": [
      "c:\\users\\uday kumar reddy\\appdata\\local\\programs\\python\\python36\\lib\\site-packages\\sklearn\\svm\\base.py:929: ConvergenceWarning: Liblinear failed to converge, increase the number of iterations.\n",
      "  \"the number of iterations.\", ConvergenceWarning)\n",
      "c:\\users\\uday kumar reddy\\appdata\\local\\programs\\python\\python36\\lib\\site-packages\\sklearn\\svm\\base.py:929: ConvergenceWarning: Liblinear failed to converge, increase the number of iterations.\n",
      "  \"the number of iterations.\", ConvergenceWarning)\n"
     ]
    },
    {
     "name": "stdout",
     "output_type": "stream",
     "text": [
      "[CV] ................................ C=35, score=0.616, total=   0.2s\n",
      "[CV] C=35 ............................................................\n",
      "[CV] ................................ C=35, score=0.568, total=   0.2s\n",
      "[CV] C=40 ............................................................\n"
     ]
    },
    {
     "name": "stderr",
     "output_type": "stream",
     "text": [
      "c:\\users\\uday kumar reddy\\appdata\\local\\programs\\python\\python36\\lib\\site-packages\\sklearn\\svm\\base.py:929: ConvergenceWarning: Liblinear failed to converge, increase the number of iterations.\n",
      "  \"the number of iterations.\", ConvergenceWarning)\n",
      "c:\\users\\uday kumar reddy\\appdata\\local\\programs\\python\\python36\\lib\\site-packages\\sklearn\\svm\\base.py:929: ConvergenceWarning: Liblinear failed to converge, increase the number of iterations.\n",
      "  \"the number of iterations.\", ConvergenceWarning)\n"
     ]
    },
    {
     "name": "stdout",
     "output_type": "stream",
     "text": [
      "[CV] ................................ C=40, score=0.606, total=   0.2s\n",
      "[CV] C=40 ............................................................\n"
     ]
    },
    {
     "name": "stderr",
     "output_type": "stream",
     "text": [
      "c:\\users\\uday kumar reddy\\appdata\\local\\programs\\python\\python36\\lib\\site-packages\\sklearn\\svm\\base.py:929: ConvergenceWarning: Liblinear failed to converge, increase the number of iterations.\n",
      "  \"the number of iterations.\", ConvergenceWarning)\n",
      "c:\\users\\uday kumar reddy\\appdata\\local\\programs\\python\\python36\\lib\\site-packages\\sklearn\\svm\\base.py:929: ConvergenceWarning: Liblinear failed to converge, increase the number of iterations.\n",
      "  \"the number of iterations.\", ConvergenceWarning)\n"
     ]
    },
    {
     "name": "stdout",
     "output_type": "stream",
     "text": [
      "[CV] ................................ C=40, score=0.620, total=   0.2s\n",
      "[CV] C=40 ............................................................\n"
     ]
    },
    {
     "name": "stderr",
     "output_type": "stream",
     "text": [
      "c:\\users\\uday kumar reddy\\appdata\\local\\programs\\python\\python36\\lib\\site-packages\\sklearn\\svm\\base.py:929: ConvergenceWarning: Liblinear failed to converge, increase the number of iterations.\n",
      "  \"the number of iterations.\", ConvergenceWarning)\n",
      "c:\\users\\uday kumar reddy\\appdata\\local\\programs\\python\\python36\\lib\\site-packages\\sklearn\\svm\\base.py:929: ConvergenceWarning: Liblinear failed to converge, increase the number of iterations.\n",
      "  \"the number of iterations.\", ConvergenceWarning)\n"
     ]
    },
    {
     "name": "stdout",
     "output_type": "stream",
     "text": [
      "[CV] ................................ C=40, score=0.567, total=   0.2s\n",
      "[CV] C=45 ............................................................\n",
      "[CV] ................................ C=45, score=0.604, total=   0.2s\n",
      "[CV] C=45 ............................................................\n"
     ]
    },
    {
     "name": "stderr",
     "output_type": "stream",
     "text": [
      "c:\\users\\uday kumar reddy\\appdata\\local\\programs\\python\\python36\\lib\\site-packages\\sklearn\\svm\\base.py:929: ConvergenceWarning: Liblinear failed to converge, increase the number of iterations.\n",
      "  \"the number of iterations.\", ConvergenceWarning)\n"
     ]
    },
    {
     "name": "stdout",
     "output_type": "stream",
     "text": [
      "[CV] ................................ C=45, score=0.616, total=   0.2s\n",
      "[CV] C=45 ............................................................\n",
      "[CV] ................................ C=45, score=0.568, total=   0.2s\n",
      "[CV] C=50 ............................................................\n"
     ]
    },
    {
     "name": "stderr",
     "output_type": "stream",
     "text": [
      "c:\\users\\uday kumar reddy\\appdata\\local\\programs\\python\\python36\\lib\\site-packages\\sklearn\\svm\\base.py:929: ConvergenceWarning: Liblinear failed to converge, increase the number of iterations.\n",
      "  \"the number of iterations.\", ConvergenceWarning)\n"
     ]
    },
    {
     "name": "stdout",
     "output_type": "stream",
     "text": [
      "[CV] ................................ C=50, score=0.607, total=   0.2s\n",
      "[CV] C=50 ............................................................\n"
     ]
    },
    {
     "name": "stderr",
     "output_type": "stream",
     "text": [
      "c:\\users\\uday kumar reddy\\appdata\\local\\programs\\python\\python36\\lib\\site-packages\\sklearn\\svm\\base.py:929: ConvergenceWarning: Liblinear failed to converge, increase the number of iterations.\n",
      "  \"the number of iterations.\", ConvergenceWarning)\n"
     ]
    },
    {
     "name": "stdout",
     "output_type": "stream",
     "text": [
      "[CV] ................................ C=50, score=0.618, total=   0.2s\n",
      "[CV] C=50 ............................................................\n",
      "[CV] ................................ C=50, score=0.564, total=   0.2s\n"
     ]
    },
    {
     "name": "stderr",
     "output_type": "stream",
     "text": [
      "c:\\users\\uday kumar reddy\\appdata\\local\\programs\\python\\python36\\lib\\site-packages\\sklearn\\svm\\base.py:929: ConvergenceWarning: Liblinear failed to converge, increase the number of iterations.\n",
      "  \"the number of iterations.\", ConvergenceWarning)\n",
      "[Parallel(n_jobs=1)]: Done  54 out of  54 | elapsed:    4.4s finished\n"
     ]
    },
    {
     "data": {
      "text/plain": [
       "GridSearchCV(cv='warn', error_score='raise-deprecating',\n",
       "             estimator=LinearSVR(C=1.0, dual=True, epsilon=0.0,\n",
       "                                 fit_intercept=True, intercept_scaling=1.0,\n",
       "                                 loss='epsilon_insensitive', max_iter=1000,\n",
       "                                 random_state=None, tol=0.0001, verbose=0),\n",
       "             iid='warn', n_jobs=None,\n",
       "             param_grid={'C': [0.01, 0.1, 0.2, 0.3, 1, 2, 3, 4, 5, 10, 15, 20,\n",
       "                               25, 30, 35, 40, 45, 50]},\n",
       "             pre_dispatch='2*n_jobs', refit=True, return_train_score=False,\n",
       "             scoring=None, verbose=3)"
      ]
     },
     "execution_count": 56,
     "metadata": {},
     "output_type": "execute_result"
    }
   ],
   "source": [
    "%matplotlib inline\n",
    "\n",
    "from mlxtend.plotting import plot_decision_regions\n",
    "from sklearn.svm import SVR, LinearSVR\n",
    "import matplotlib.gridspec as gridspec\n",
    "import itertools\n",
    "\n",
    "\n",
    "param_grid = {'C' : [0.01,0.1,0.2,0.3,1,2,3,4,5,10,15,20,25,30,35,40,45,50]}\n",
    "\n",
    "linear_svm_grid= GridSearchCV(LinearSVR(), param_grid , verbose=3)\n",
    "\n",
    "linear_svm_grid.fit(X_train_reduced,y_train)"
   ]
  },
  {
   "cell_type": "code",
   "execution_count": 57,
   "metadata": {},
   "outputs": [
    {
     "data": {
      "text/plain": [
       "LinearSVR(C=0.1, dual=True, epsilon=0.0, fit_intercept=True,\n",
       "          intercept_scaling=1.0, loss='epsilon_insensitive', max_iter=1000,\n",
       "          random_state=None, tol=0.0001, verbose=0)"
      ]
     },
     "execution_count": 57,
     "metadata": {},
     "output_type": "execute_result"
    }
   ],
   "source": [
    "linear_svm_grid.best_estimator_"
   ]
  },
  {
   "cell_type": "code",
   "execution_count": 58,
   "metadata": {},
   "outputs": [
    {
     "data": {
      "text/plain": [
       "{'C': 0.1}"
      ]
     },
     "execution_count": 58,
     "metadata": {},
     "output_type": "execute_result"
    }
   ],
   "source": [
    "linear_svm_grid.best_params_"
   ]
  },
  {
   "cell_type": "code",
   "execution_count": 59,
   "metadata": {},
   "outputs": [
    {
     "name": "stdout",
     "output_type": "stream",
     "text": [
      "Train Score:0.602161\n",
      "Test Score: 0.589345\n"
     ]
    }
   ],
   "source": [
    "print(\"Train Score:%f\" %linear_svm_grid.score(X_train_reduced, y_train))\n",
    "print(\"Test Score: %f\" %linear_svm_grid.score(X_test_reduced, y_test))\n",
    "linear_svm_predictions=linear_svm_grid.predict(X_test_reduced)"
   ]
  },
  {
   "cell_type": "code",
   "execution_count": 60,
   "metadata": {},
   "outputs": [
    {
     "name": "stdout",
     "output_type": "stream",
     "text": [
      "Mean Square Error:  1.9524521618471071\n"
     ]
    }
   ],
   "source": [
    "print(\"Mean Square Error: \", metrics.mean_squared_error(y_test,linear_svm_predictions))"
   ]
  },
  {
   "cell_type": "code",
   "execution_count": 61,
   "metadata": {},
   "outputs": [
    {
     "name": "stdout",
     "output_type": "stream",
     "text": [
      "R-Square Score:  0.5893446290556839\n"
     ]
    }
   ],
   "source": [
    "print(\"R-Square Score: \", metrics.r2_score(y_test,linear_svm_predictions))"
   ]
  },
  {
   "cell_type": "code",
   "execution_count": 62,
   "metadata": {},
   "outputs": [],
   "source": [
    "report_reg['ModelName']['5'] = 'Linear SVR'\n",
    "report_reg['TrainScore']['5'] = linear_svm_grid.score(X_train_reduced, y_train)\n",
    "report_reg['TestScore']['5'] = linear_svm_grid.score(X_test_reduced, y_test)\n",
    "report_reg['MeanSquaredError']['5'] = metrics.mean_squared_error(y_test,linear_svm_predictions)\n",
    "report_reg['RSquareScore']['5'] = metrics.r2_score(y_test,linear_svm_predictions)"
   ]
  },
  {
   "cell_type": "markdown",
   "metadata": {},
   "source": [
    "## SVM with Kernel"
   ]
  },
  {
   "cell_type": "code",
   "execution_count": 63,
   "metadata": {},
   "outputs": [],
   "source": [
    "from sklearn.metrics import classification_report,confusion_matrix"
   ]
  },
  {
   "cell_type": "code",
   "execution_count": 64,
   "metadata": {},
   "outputs": [
    {
     "data": {
      "text/plain": [
       "SVR(C=10, cache_size=200, coef0=0.0, degree=3, epsilon=0.1, gamma=0.01,\n",
       "    kernel='rbf', max_iter=-1, shrinking=True, tol=0.001, verbose=False)"
      ]
     },
     "execution_count": 64,
     "metadata": {},
     "output_type": "execute_result"
    }
   ],
   "source": [
    "from sklearn.metrics import precision_recall_curve\n",
    "from sklearn.svm import SVR\n",
    "\n",
    "\n",
    "\n",
    "svc = SVR(gamma = 0.01,C = 10, kernel = \"rbf\") # from grid search in project 1\n",
    "    \n",
    "\n",
    "svc.fit(X_train_reduced, y_train)\n"
   ]
  },
  {
   "cell_type": "code",
   "execution_count": 65,
   "metadata": {},
   "outputs": [
    {
     "name": "stdout",
     "output_type": "stream",
     "text": [
      "Train Score:0.622418\n",
      "Test Score: 0.604569\n"
     ]
    }
   ],
   "source": [
    "print(\"Train Score:%f\" %svc.score(X_train_reduced, y_train))\n",
    "print(\"Test Score: %f\" %svc.score(X_test_reduced, y_test))\n",
    "svc_predictions=svc.predict(X_test_reduced)"
   ]
  },
  {
   "cell_type": "code",
   "execution_count": 66,
   "metadata": {},
   "outputs": [
    {
     "name": "stdout",
     "output_type": "stream",
     "text": [
      "Mean Square Error:  1.8800703828299654\n"
     ]
    }
   ],
   "source": [
    "print(\"Mean Square Error: \", metrics.mean_squared_error(y_test,svc_predictions))"
   ]
  },
  {
   "cell_type": "code",
   "execution_count": 67,
   "metadata": {},
   "outputs": [
    {
     "name": "stdout",
     "output_type": "stream",
     "text": [
      "R-Square Score:  0.6045685443416664\n"
     ]
    }
   ],
   "source": [
    "print(\"R-Square Score: \", metrics.r2_score(y_test,svc_predictions))"
   ]
  },
  {
   "cell_type": "code",
   "execution_count": 68,
   "metadata": {},
   "outputs": [],
   "source": [
    "report_reg['ModelName']['6'] = 'SVR with Kernel'\n",
    "report_reg['TrainScore']['6'] = svc.score(X_train_reduced, y_train)\n",
    "report_reg['TestScore']['6'] = svc.score(X_test_reduced, y_test)\n",
    "report_reg['MeanSquaredError']['6'] = metrics.mean_squared_error(y_test,svc_predictions)\n",
    "report_reg['RSquareScore']['6'] = metrics.r2_score(y_test,svc_predictions)"
   ]
  },
  {
   "cell_type": "code",
   "execution_count": 69,
   "metadata": {},
   "outputs": [
    {
     "data": {
      "text/html": [
       "<div>\n",
       "<style scoped>\n",
       "    .dataframe tbody tr th:only-of-type {\n",
       "        vertical-align: middle;\n",
       "    }\n",
       "\n",
       "    .dataframe tbody tr th {\n",
       "        vertical-align: top;\n",
       "    }\n",
       "\n",
       "    .dataframe thead th {\n",
       "        text-align: right;\n",
       "    }\n",
       "</style>\n",
       "<table border=\"1\" class=\"dataframe\">\n",
       "  <thead>\n",
       "    <tr style=\"text-align: right;\">\n",
       "      <th></th>\n",
       "      <th>ModelName</th>\n",
       "      <th>TrainScore</th>\n",
       "      <th>TestScore</th>\n",
       "      <th>MeanSquaredError</th>\n",
       "      <th>RSquareScore</th>\n",
       "    </tr>\n",
       "  </thead>\n",
       "  <tbody>\n",
       "    <tr>\n",
       "      <th>0</th>\n",
       "      <td>Linear Regression</td>\n",
       "      <td>0.607869</td>\n",
       "      <td>0.592093</td>\n",
       "      <td>1.93938</td>\n",
       "      <td>0.592093</td>\n",
       "    </tr>\n",
       "    <tr>\n",
       "      <th>1</th>\n",
       "      <td>Ridge</td>\n",
       "      <td>0.607859</td>\n",
       "      <td>0.592394</td>\n",
       "      <td>1.93796</td>\n",
       "      <td>0.592394</td>\n",
       "    </tr>\n",
       "    <tr>\n",
       "      <th>2</th>\n",
       "      <td>Lasso</td>\n",
       "      <td>0.60535</td>\n",
       "      <td>0.592239</td>\n",
       "      <td>1.93869</td>\n",
       "      <td>0.592239</td>\n",
       "    </tr>\n",
       "    <tr>\n",
       "      <th>3</th>\n",
       "      <td>Polynomial Regression</td>\n",
       "      <td>-1.64708</td>\n",
       "      <td>-1.77068</td>\n",
       "      <td>1.77068</td>\n",
       "      <td>0.627575</td>\n",
       "    </tr>\n",
       "    <tr>\n",
       "      <th>4</th>\n",
       "      <td>KNN Regressor</td>\n",
       "      <td>0.595222</td>\n",
       "      <td>0.510394</td>\n",
       "      <td>2.32782</td>\n",
       "      <td>0.510394</td>\n",
       "    </tr>\n",
       "    <tr>\n",
       "      <th>5</th>\n",
       "      <td>Linear SVR</td>\n",
       "      <td>0.602161</td>\n",
       "      <td>0.589345</td>\n",
       "      <td>1.95245</td>\n",
       "      <td>0.589345</td>\n",
       "    </tr>\n",
       "    <tr>\n",
       "      <th>6</th>\n",
       "      <td>SVR with Kernel</td>\n",
       "      <td>0.622418</td>\n",
       "      <td>0.604569</td>\n",
       "      <td>1.88007</td>\n",
       "      <td>0.604569</td>\n",
       "    </tr>\n",
       "  </tbody>\n",
       "</table>\n",
       "</div>"
      ],
      "text/plain": [
       "               ModelName TrainScore TestScore MeanSquaredError RSquareScore\n",
       "0      Linear Regression   0.607869  0.592093          1.93938     0.592093\n",
       "1                  Ridge   0.607859  0.592394          1.93796     0.592394\n",
       "2                  Lasso    0.60535  0.592239          1.93869     0.592239\n",
       "3  Polynomial Regression   -1.64708  -1.77068          1.77068     0.627575\n",
       "4          KNN Regressor   0.595222  0.510394          2.32782     0.510394\n",
       "5             Linear SVR   0.602161  0.589345          1.95245     0.589345\n",
       "6        SVR with Kernel   0.622418  0.604569          1.88007     0.604569"
      ]
     },
     "execution_count": 69,
     "metadata": {},
     "output_type": "execute_result"
    }
   ],
   "source": [
    "report_reg"
   ]
  },
  {
   "cell_type": "code",
   "execution_count": 70,
   "metadata": {},
   "outputs": [
    {
     "data": {
      "text/html": [
       "<div>\n",
       "<style scoped>\n",
       "    .dataframe tbody tr th:only-of-type {\n",
       "        vertical-align: middle;\n",
       "    }\n",
       "\n",
       "    .dataframe tbody tr th {\n",
       "        vertical-align: top;\n",
       "    }\n",
       "\n",
       "    .dataframe thead th {\n",
       "        text-align: right;\n",
       "    }\n",
       "</style>\n",
       "<table border=\"1\" class=\"dataframe\">\n",
       "  <thead>\n",
       "    <tr style=\"text-align: right;\">\n",
       "      <th></th>\n",
       "      <th>ModelName</th>\n",
       "      <th>TrainScore</th>\n",
       "      <th>TestScore</th>\n",
       "      <th>MeanSquaredError</th>\n",
       "      <th>RSquareScore</th>\n",
       "    </tr>\n",
       "  </thead>\n",
       "  <tbody>\n",
       "    <tr>\n",
       "      <th>0</th>\n",
       "      <td>Linear Regression</td>\n",
       "      <td>0.619389</td>\n",
       "      <td>6.072799e-01</td>\n",
       "      <td>258.188741</td>\n",
       "      <td>0.559559</td>\n",
       "    </tr>\n",
       "    <tr>\n",
       "      <th>1</th>\n",
       "      <td>Ridge</td>\n",
       "      <td>0.616189</td>\n",
       "      <td>6.062339e-01</td>\n",
       "      <td>162.541638</td>\n",
       "      <td>0.722722</td>\n",
       "    </tr>\n",
       "    <tr>\n",
       "      <th>2</th>\n",
       "      <td>Lasso</td>\n",
       "      <td>0.000000</td>\n",
       "      <td>-4.380000e-06</td>\n",
       "      <td>233.428216</td>\n",
       "      <td>0.601798</td>\n",
       "    </tr>\n",
       "    <tr>\n",
       "      <th>3</th>\n",
       "      <td>Polynomial Regression</td>\n",
       "      <td>0.686910</td>\n",
       "      <td>-1.210000e+17</td>\n",
       "      <td>0.546255</td>\n",
       "      <td>0.999068</td>\n",
       "    </tr>\n",
       "    <tr>\n",
       "      <th>4</th>\n",
       "      <td>KNN Regressor</td>\n",
       "      <td>0.613615</td>\n",
       "      <td>5.723814e-01</td>\n",
       "      <td>236.623098</td>\n",
       "      <td>0.596348</td>\n",
       "    </tr>\n",
       "    <tr>\n",
       "      <th>5</th>\n",
       "      <td>Linear SVR</td>\n",
       "      <td>0.612593</td>\n",
       "      <td>6.009281e-01</td>\n",
       "      <td>234.596498</td>\n",
       "      <td>0.599805</td>\n",
       "    </tr>\n",
       "    <tr>\n",
       "      <th>6</th>\n",
       "      <td>SVR with Kernel</td>\n",
       "      <td>0.620000</td>\n",
       "      <td>5.400000e-01</td>\n",
       "      <td>31.795844</td>\n",
       "      <td>0.945760</td>\n",
       "    </tr>\n",
       "  </tbody>\n",
       "</table>\n",
       "</div>"
      ],
      "text/plain": [
       "               ModelName  TrainScore     TestScore  MeanSquaredError  \\\n",
       "0      Linear Regression    0.619389  6.072799e-01        258.188741   \n",
       "1                  Ridge    0.616189  6.062339e-01        162.541638   \n",
       "2                  Lasso    0.000000 -4.380000e-06        233.428216   \n",
       "3  Polynomial Regression    0.686910 -1.210000e+17          0.546255   \n",
       "4          KNN Regressor    0.613615  5.723814e-01        236.623098   \n",
       "5             Linear SVR    0.612593  6.009281e-01        234.596498   \n",
       "6        SVR with Kernel    0.620000  5.400000e-01         31.795844   \n",
       "\n",
       "   RSquareScore  \n",
       "0      0.559559  \n",
       "1      0.722722  \n",
       "2      0.601798  \n",
       "3      0.999068  \n",
       "4      0.596348  \n",
       "5      0.599805  \n",
       "6      0.945760  "
      ]
     },
     "execution_count": 70,
     "metadata": {},
     "output_type": "execute_result"
    }
   ],
   "source": [
    "report_old = pd.read_csv('report_reg_without_pca.csv')\n",
    "report_old"
   ]
  },
  {
   "cell_type": "markdown",
   "metadata": {},
   "source": [
    "# Classfication"
   ]
  },
  {
   "cell_type": "markdown",
   "metadata": {},
   "source": [
    "Before PCA"
   ]
  },
  {
   "cell_type": "code",
   "execution_count": 71,
   "metadata": {},
   "outputs": [],
   "source": [
    "df = pd.read_csv(\"card.csv\")"
   ]
  },
  {
   "cell_type": "code",
   "execution_count": 72,
   "metadata": {},
   "outputs": [
    {
     "data": {
      "text/html": [
       "<div>\n",
       "<style scoped>\n",
       "    .dataframe tbody tr th:only-of-type {\n",
       "        vertical-align: middle;\n",
       "    }\n",
       "\n",
       "    .dataframe tbody tr th {\n",
       "        vertical-align: top;\n",
       "    }\n",
       "\n",
       "    .dataframe thead th {\n",
       "        text-align: right;\n",
       "    }\n",
       "</style>\n",
       "<table border=\"1\" class=\"dataframe\">\n",
       "  <thead>\n",
       "    <tr style=\"text-align: right;\">\n",
       "      <th></th>\n",
       "      <th>index</th>\n",
       "      <th>id</th>\n",
       "      <th>nearc2</th>\n",
       "      <th>nearc4</th>\n",
       "      <th>educ</th>\n",
       "      <th>age</th>\n",
       "      <th>fatheduc</th>\n",
       "      <th>motheduc</th>\n",
       "      <th>weight</th>\n",
       "      <th>momdad14</th>\n",
       "      <th>...</th>\n",
       "      <th>smsa</th>\n",
       "      <th>south</th>\n",
       "      <th>smsa66</th>\n",
       "      <th>wage</th>\n",
       "      <th>enroll</th>\n",
       "      <th>KWW</th>\n",
       "      <th>IQ</th>\n",
       "      <th>married</th>\n",
       "      <th>libcrd14</th>\n",
       "      <th>exper</th>\n",
       "    </tr>\n",
       "  </thead>\n",
       "  <tbody>\n",
       "    <tr>\n",
       "      <th>0</th>\n",
       "      <td>0</td>\n",
       "      <td>2</td>\n",
       "      <td>0</td>\n",
       "      <td>0</td>\n",
       "      <td>7</td>\n",
       "      <td>29</td>\n",
       "      <td>NaN</td>\n",
       "      <td>NaN</td>\n",
       "      <td>158413</td>\n",
       "      <td>1</td>\n",
       "      <td>...</td>\n",
       "      <td>1</td>\n",
       "      <td>0</td>\n",
       "      <td>1</td>\n",
       "      <td>548</td>\n",
       "      <td>0</td>\n",
       "      <td>15.0</td>\n",
       "      <td>NaN</td>\n",
       "      <td>1.0</td>\n",
       "      <td>0.0</td>\n",
       "      <td>16</td>\n",
       "    </tr>\n",
       "    <tr>\n",
       "      <th>1</th>\n",
       "      <td>1</td>\n",
       "      <td>3</td>\n",
       "      <td>0</td>\n",
       "      <td>0</td>\n",
       "      <td>12</td>\n",
       "      <td>27</td>\n",
       "      <td>8.0</td>\n",
       "      <td>8.0</td>\n",
       "      <td>380166</td>\n",
       "      <td>1</td>\n",
       "      <td>...</td>\n",
       "      <td>1</td>\n",
       "      <td>0</td>\n",
       "      <td>1</td>\n",
       "      <td>481</td>\n",
       "      <td>0</td>\n",
       "      <td>35.0</td>\n",
       "      <td>93.0</td>\n",
       "      <td>1.0</td>\n",
       "      <td>1.0</td>\n",
       "      <td>9</td>\n",
       "    </tr>\n",
       "    <tr>\n",
       "      <th>2</th>\n",
       "      <td>2</td>\n",
       "      <td>4</td>\n",
       "      <td>0</td>\n",
       "      <td>0</td>\n",
       "      <td>12</td>\n",
       "      <td>34</td>\n",
       "      <td>14.0</td>\n",
       "      <td>12.0</td>\n",
       "      <td>367470</td>\n",
       "      <td>1</td>\n",
       "      <td>...</td>\n",
       "      <td>1</td>\n",
       "      <td>0</td>\n",
       "      <td>1</td>\n",
       "      <td>721</td>\n",
       "      <td>0</td>\n",
       "      <td>42.0</td>\n",
       "      <td>103.0</td>\n",
       "      <td>1.0</td>\n",
       "      <td>1.0</td>\n",
       "      <td>16</td>\n",
       "    </tr>\n",
       "    <tr>\n",
       "      <th>3</th>\n",
       "      <td>3</td>\n",
       "      <td>5</td>\n",
       "      <td>1</td>\n",
       "      <td>1</td>\n",
       "      <td>11</td>\n",
       "      <td>27</td>\n",
       "      <td>11.0</td>\n",
       "      <td>12.0</td>\n",
       "      <td>380166</td>\n",
       "      <td>1</td>\n",
       "      <td>...</td>\n",
       "      <td>1</td>\n",
       "      <td>0</td>\n",
       "      <td>1</td>\n",
       "      <td>250</td>\n",
       "      <td>0</td>\n",
       "      <td>25.0</td>\n",
       "      <td>88.0</td>\n",
       "      <td>1.0</td>\n",
       "      <td>1.0</td>\n",
       "      <td>10</td>\n",
       "    </tr>\n",
       "    <tr>\n",
       "      <th>4</th>\n",
       "      <td>4</td>\n",
       "      <td>6</td>\n",
       "      <td>1</td>\n",
       "      <td>1</td>\n",
       "      <td>12</td>\n",
       "      <td>34</td>\n",
       "      <td>8.0</td>\n",
       "      <td>7.0</td>\n",
       "      <td>367470</td>\n",
       "      <td>1</td>\n",
       "      <td>...</td>\n",
       "      <td>1</td>\n",
       "      <td>0</td>\n",
       "      <td>1</td>\n",
       "      <td>729</td>\n",
       "      <td>0</td>\n",
       "      <td>34.0</td>\n",
       "      <td>108.0</td>\n",
       "      <td>1.0</td>\n",
       "      <td>0.0</td>\n",
       "      <td>16</td>\n",
       "    </tr>\n",
       "  </tbody>\n",
       "</table>\n",
       "<p>5 rows × 33 columns</p>\n",
       "</div>"
      ],
      "text/plain": [
       "   index  id  nearc2  nearc4  educ  age  fatheduc  motheduc  weight  momdad14  \\\n",
       "0      0   2       0       0     7   29       NaN       NaN  158413         1   \n",
       "1      1   3       0       0    12   27       8.0       8.0  380166         1   \n",
       "2      2   4       0       0    12   34      14.0      12.0  367470         1   \n",
       "3      3   5       1       1    11   27      11.0      12.0  380166         1   \n",
       "4      4   6       1       1    12   34       8.0       7.0  367470         1   \n",
       "\n",
       "   ...  smsa  south  smsa66  wage  enroll   KWW     IQ  married  libcrd14  \\\n",
       "0  ...     1      0       1   548       0  15.0    NaN      1.0       0.0   \n",
       "1  ...     1      0       1   481       0  35.0   93.0      1.0       1.0   \n",
       "2  ...     1      0       1   721       0  42.0  103.0      1.0       1.0   \n",
       "3  ...     1      0       1   250       0  25.0   88.0      1.0       1.0   \n",
       "4  ...     1      0       1   729       0  34.0  108.0      1.0       0.0   \n",
       "\n",
       "   exper  \n",
       "0     16  \n",
       "1      9  \n",
       "2     16  \n",
       "3     10  \n",
       "4     16  \n",
       "\n",
       "[5 rows x 33 columns]"
      ]
     },
     "execution_count": 72,
     "metadata": {},
     "output_type": "execute_result"
    }
   ],
   "source": [
    "df.head()"
   ]
  },
  {
   "cell_type": "code",
   "execution_count": 73,
   "metadata": {},
   "outputs": [],
   "source": [
    "#coverting into categories\n",
    "df[\"nearc2\"] = df[\"nearc2\"].astype(\"category\")\n",
    "df[\"nearc4\"] = df[\"nearc4\"].astype(\"category\")\n",
    "df[\"momdad14\"] = df[\"momdad14\"].astype(\"category\")\n",
    "df[\"sinmom14\"] = df[\"sinmom14\"].astype(\"category\")\n",
    "df[\"step14\"] = df[\"step14\"].astype(\"category\")\n",
    "df[\"reg661\"] = df[\"reg661\"].astype(\"category\")\n",
    "df[\"reg662\"] = df[\"reg662\"].astype(\"category\")\n",
    "df[\"reg663\"] = df[\"reg663\"].astype(\"category\")\n",
    "df[\"reg664\"] = df[\"reg664\"].astype(\"category\")\n",
    "df[\"reg665\"] = df[\"reg665\"].astype(\"category\")\n",
    "df[\"reg666\"] = df[\"reg666\"].astype(\"category\")\n",
    "df[\"reg667\"] = df[\"reg667\"].astype(\"category\")\n",
    "df[\"reg668\"] = df[\"reg668\"].astype(\"category\")\n",
    "df[\"reg669\"] = df[\"reg669\"].astype(\"category\")\n",
    "df[\"south66\"] = df[\"south66\"].astype(\"category\")\n",
    "df[\"black\"] = df[\"black\"].astype(\"category\")\n",
    "df[\"smsa\"] = df[\"smsa\"].astype(\"category\")\n",
    "df[\"south\"] = df[\"south\"].astype(\"category\")\n",
    "df[\"smsa66\"] = df[\"smsa66\"].astype(\"category\")\n",
    "df[\"enroll\"] = df[\"enroll\"].astype(\"category\")\n",
    "df[\"married\"] = df[\"married\"].astype(\"category\")\n",
    "df[\"libcrd14\"] = df[\"libcrd14\"].astype(\"category\")"
   ]
  },
  {
   "cell_type": "code",
   "execution_count": 74,
   "metadata": {},
   "outputs": [
    {
     "data": {
      "text/plain": [
       "index         0\n",
       "id            0\n",
       "nearc2        0\n",
       "nearc4        0\n",
       "educ          0\n",
       "age           0\n",
       "fatheduc    690\n",
       "motheduc    353\n",
       "weight        0\n",
       "momdad14      0\n",
       "sinmom14      0\n",
       "step14        0\n",
       "reg661        0\n",
       "reg662        0\n",
       "reg663        0\n",
       "reg664        0\n",
       "reg665        0\n",
       "reg666        0\n",
       "reg667        0\n",
       "reg668        0\n",
       "reg669        0\n",
       "south66       0\n",
       "black         0\n",
       "smsa          0\n",
       "south         0\n",
       "smsa66        0\n",
       "wage          0\n",
       "enroll        0\n",
       "KWW          47\n",
       "IQ          949\n",
       "married       7\n",
       "libcrd14     13\n",
       "exper         0\n",
       "dtype: int64"
      ]
     },
     "execution_count": 74,
     "metadata": {},
     "output_type": "execute_result"
    }
   ],
   "source": [
    "df.isnull().sum()"
   ]
  },
  {
   "cell_type": "code",
   "execution_count": 75,
   "metadata": {},
   "outputs": [],
   "source": [
    "df=df.fillna(df.median())"
   ]
  },
  {
   "cell_type": "markdown",
   "metadata": {},
   "source": [
    "#  KNN Classifier"
   ]
  },
  {
   "cell_type": "code",
   "execution_count": 76,
   "metadata": {},
   "outputs": [
    {
     "data": {
      "text/plain": [
       "<matplotlib.legend.Legend at 0x1aa984e6128>"
      ]
     },
     "execution_count": 76,
     "metadata": {},
     "output_type": "execute_result"
    },
    {
     "data": {
      "image/png": "[encoded data removed]",
      "text/plain": [
       "<Figure size 432x288 with 1 Axes>"
      ]
     },
     "metadata": {
      "needs_background": "light"
     },
     "output_type": "display_data"
    }
   ],
   "source": [
    "y = df[\"enroll\"]\n",
    "X = df.drop([\"enroll\"], 1)\n",
    "X_train_org , X_test_org, y_train, y_test = train_test_split(X, y, random_state = 0, test_size = 0.2)\n",
    "\n",
    "#step 2: scale\n",
    "from sklearn.preprocessing import MinMaxScaler\n",
    "\n",
    "# Here MinMax scaler is used to take into account of outlier values\n",
    "\n",
    "scaler = MinMaxScaler()\n",
    "\n",
    "scaler.fit(X_train_org)\n",
    "X_train = scaler.transform(X_train_org)\n",
    "X_test = scaler.transform(X_test_org)\n",
    "\n",
    "#step 3: train\n",
    "from sklearn.neighbors import KNeighborsClassifier\n",
    "\n",
    "train_score_array = []\n",
    "test_score_array = []\n",
    "\n",
    "for k in range(1,20):\n",
    "    knn = KNeighborsClassifier(k)\n",
    "    knn.fit(X_train, y_train)\n",
    "    train_score_array.append(knn.score(X_train, y_train))\n",
    "    test_score_array.append(knn.score(X_test, y_test))\n",
    "\n",
    "#step 4: plot\n",
    "x_axis = range(1,20)\n",
    "%matplotlib inline\n",
    "plt.plot(x_axis, train_score_array, label = 'Train Score', c = 'g')\n",
    "plt.plot(x_axis, test_score_array, label = 'Test Score', c='b')\n",
    "plt.xlabel('k')\n",
    "plt.ylabel('Accuracy')\n",
    "plt.legend()"
   ]
  },
  {
   "cell_type": "code",
   "execution_count": 77,
   "metadata": {},
   "outputs": [
    {
     "name": "stdout",
     "output_type": "stream",
     "text": [
      "Cross-validation scores:\n",
      "[0.85458167 0.79262213 0.82652044]\n",
      "Cross-validation scores:\n",
      "[0.89243028 0.90428714 0.889332  ]\n",
      "Cross-validation scores:\n",
      "[0.88844622 0.889332   0.87238285]\n",
      "Cross-validation scores:\n",
      "[0.89840637 0.90528415 0.90528415]\n",
      "Cross-validation scores:\n",
      "[0.89442231 0.90229312 0.90428714]\n",
      "Cross-validation scores:\n",
      "[0.90537849 0.90528415 0.90528415]\n",
      "Cross-validation scores:\n",
      "[0.90537849 0.90428714 0.90428714]\n",
      "Cross-validation scores:\n",
      "[0.90537849 0.91226321 0.90528415]\n",
      "Cross-validation scores:\n",
      "[0.90537849 0.91226321 0.90528415]\n",
      "Cross-validation scores:\n",
      "[0.90537849 0.91226321 0.90528415]\n",
      "Cross-validation scores:\n",
      "[0.90537849 0.91226321 0.90528415]\n",
      "Cross-validation scores:\n",
      "[0.90537849 0.91226321 0.90528415]\n",
      "Cross-validation scores:\n",
      "[0.90537849 0.91226321 0.90528415]\n",
      "Cross-validation scores:\n",
      "[0.90537849 0.91226321 0.90528415]\n",
      "Cross-validation scores:\n",
      "[0.90537849 0.91226321 0.90528415]\n",
      "Cross-validation scores:\n",
      "[0.90537849 0.91226321 0.90528415]\n",
      "Cross-validation scores:\n",
      "[0.90537849 0.91226321 0.90528415]\n",
      "Cross-validation scores:\n",
      "[0.90537849 0.91226321 0.90528415]\n",
      "Cross-validation scores:\n",
      "[0.90537849 0.91226321 0.90528415]\n"
     ]
    }
   ],
   "source": [
    "#step 4 : Cross-Validation\n",
    "from sklearn.model_selection import KFold\n",
    "from sklearn.model_selection import cross_val_score\n",
    "kfold = KFold(n_splits=3)\n",
    "\n",
    "for k in range(1,20):\n",
    "    knn = KNeighborsClassifier(k)\n",
    "    print(\"Cross-validation scores:\\n{}\".format(cross_val_score(knn, X, y, cv=kfold)))\n",
    "    \n"
   ]
  },
  {
   "cell_type": "markdown",
   "metadata": {},
   "source": [
    "# Decision Tree Classifier"
   ]
  },
  {
   "cell_type": "code",
   "execution_count": 78,
   "metadata": {},
   "outputs": [
    {
     "name": "stdout",
     "output_type": "stream",
     "text": [
      "Accuracy on training set: 1.000\n",
      "Accuracy on test set: 0.836\n",
      "Best score: 0.90\n",
      "Best parameters: {'max_depth': 2}\n"
     ]
    }
   ],
   "source": [
    "#step 3: train and plot\n",
    "%matplotlib notebook\n",
    "from sklearn.tree import DecisionTreeClassifier\n",
    "\n",
    "dtree = DecisionTreeClassifier(random_state=0)\n",
    "\n",
    "dtree.fit(X_train, y_train)\n",
    "print(\"Accuracy on training set: {:.3f}\".format(dtree.score(X_train, y_train)))\n",
    "print(\"Accuracy on test set: {:.3f}\".format(dtree.score(X_test, y_test)))\n",
    "\n",
    "#Step 4: Grid search to find best parameters\n",
    "best_score = 0\n",
    "\n",
    "for max_depth in [2, 3, 4, 5, 6]:\n",
    "    dtree = DecisionTreeClassifier(max_depth=max_depth, random_state=0)\n",
    "    dtree.fit(X_train, y_train)\n",
    "    score = dtree.score(X_test, y_test)\n",
    "    # if we got a better score, store the score and parameters\n",
    "    if score > best_score:\n",
    "        best_score = score\n",
    "        best_parameters = {'max_depth': max_depth}\n",
    "\n",
    "print(\"Best score: {:.2f}\".format(best_score))\n",
    "print(\"Best parameters: {}\".format(best_parameters))\n"
   ]
  },
  {
   "cell_type": "code",
   "execution_count": 79,
   "metadata": {},
   "outputs": [],
   "source": [
    "# Here best score on test is found at max_depth of 5"
   ]
  },
  {
   "cell_type": "code",
   "execution_count": 80,
   "metadata": {},
   "outputs": [
    {
     "name": "stdout",
     "output_type": "stream",
     "text": [
      "Cross-validation scores:\n",
      "[0.90039841 0.90827517 0.90229312]\n"
     ]
    }
   ],
   "source": [
    "#step 4 : Cross-Validation\n",
    "from sklearn.model_selection import KFold\n",
    "kfold = KFold(n_splits=3)\n",
    "\n",
    "dtree = DecisionTreeClassifier(max_depth=5, random_state=0)\n",
    "print(\"Cross-validation scores:\\n{}\".format(cross_val_score(dtree, X, y, cv=kfold)))    "
   ]
  },
  {
   "cell_type": "markdown",
   "metadata": {},
   "source": [
    "# Logistic Regression"
   ]
  },
  {
   "cell_type": "code",
   "execution_count": 81,
   "metadata": {},
   "outputs": [
    {
     "name": "stderr",
     "output_type": "stream",
     "text": [
      "c:\\users\\uday kumar reddy\\appdata\\local\\programs\\python\\python36\\lib\\site-packages\\sklearn\\linear_model\\logistic.py:432: FutureWarning: Default solver will be changed to 'lbfgs' in 0.22. Specify a solver to silence this warning.\n",
      "  FutureWarning)\n",
      "c:\\users\\uday kumar reddy\\appdata\\local\\programs\\python\\python36\\lib\\site-packages\\sklearn\\linear_model\\logistic.py:432: FutureWarning: Default solver will be changed to 'lbfgs' in 0.22. Specify a solver to silence this warning.\n",
      "  FutureWarning)\n",
      "c:\\users\\uday kumar reddy\\appdata\\local\\programs\\python\\python36\\lib\\site-packages\\sklearn\\linear_model\\logistic.py:432: FutureWarning: Default solver will be changed to 'lbfgs' in 0.22. Specify a solver to silence this warning.\n",
      "  FutureWarning)\n",
      "c:\\users\\uday kumar reddy\\appdata\\local\\programs\\python\\python36\\lib\\site-packages\\sklearn\\linear_model\\logistic.py:432: FutureWarning: Default solver will be changed to 'lbfgs' in 0.22. Specify a solver to silence this warning.\n",
      "  FutureWarning)\n",
      "c:\\users\\uday kumar reddy\\appdata\\local\\programs\\python\\python36\\lib\\site-packages\\sklearn\\linear_model\\logistic.py:432: FutureWarning: Default solver will be changed to 'lbfgs' in 0.22. Specify a solver to silence this warning.\n",
      "  FutureWarning)\n",
      "c:\\users\\uday kumar reddy\\appdata\\local\\programs\\python\\python36\\lib\\site-packages\\sklearn\\linear_model\\logistic.py:432: FutureWarning: Default solver will be changed to 'lbfgs' in 0.22. Specify a solver to silence this warning.\n",
      "  FutureWarning)\n",
      "c:\\users\\uday kumar reddy\\appdata\\local\\programs\\python\\python36\\lib\\site-packages\\sklearn\\linear_model\\logistic.py:432: FutureWarning: Default solver will be changed to 'lbfgs' in 0.22. Specify a solver to silence this warning.\n",
      "  FutureWarning)\n",
      "c:\\users\\uday kumar reddy\\appdata\\local\\programs\\python\\python36\\lib\\site-packages\\sklearn\\linear_model\\logistic.py:432: FutureWarning: Default solver will be changed to 'lbfgs' in 0.22. Specify a solver to silence this warning.\n",
      "  FutureWarning)\n",
      "c:\\users\\uday kumar reddy\\appdata\\local\\programs\\python\\python36\\lib\\site-packages\\sklearn\\linear_model\\logistic.py:432: FutureWarning: Default solver will be changed to 'lbfgs' in 0.22. Specify a solver to silence this warning.\n",
      "  FutureWarning)\n",
      "c:\\users\\uday kumar reddy\\appdata\\local\\programs\\python\\python36\\lib\\site-packages\\sklearn\\linear_model\\logistic.py:432: FutureWarning: Default solver will be changed to 'lbfgs' in 0.22. Specify a solver to silence this warning.\n",
      "  FutureWarning)\n",
      "c:\\users\\uday kumar reddy\\appdata\\local\\programs\\python\\python36\\lib\\site-packages\\sklearn\\linear_model\\logistic.py:432: FutureWarning: Default solver will be changed to 'lbfgs' in 0.22. Specify a solver to silence this warning.\n",
      "  FutureWarning)\n",
      "c:\\users\\uday kumar reddy\\appdata\\local\\programs\\python\\python36\\lib\\site-packages\\sklearn\\linear_model\\logistic.py:432: FutureWarning: Default solver will be changed to 'lbfgs' in 0.22. Specify a solver to silence this warning.\n",
      "  FutureWarning)\n",
      "c:\\users\\uday kumar reddy\\appdata\\local\\programs\\python\\python36\\lib\\site-packages\\sklearn\\linear_model\\logistic.py:432: FutureWarning: Default solver will be changed to 'lbfgs' in 0.22. Specify a solver to silence this warning.\n",
      "  FutureWarning)\n",
      "c:\\users\\uday kumar reddy\\appdata\\local\\programs\\python\\python36\\lib\\site-packages\\sklearn\\linear_model\\logistic.py:432: FutureWarning: Default solver will be changed to 'lbfgs' in 0.22. Specify a solver to silence this warning.\n",
      "  FutureWarning)\n"
     ]
    },
    {
     "data": {
      "image/png": "[encoded data removed]",
      "text/plain": [
       "<Figure size 432x288 with 1 Axes>"
      ]
     },
     "metadata": {
      "needs_background": "light"
     },
     "output_type": "display_data"
    }
   ],
   "source": [
    "#step 1: split dataset\n",
    "from sklearn.preprocessing import MinMaxScaler\n",
    "from sklearn.linear_model import LogisticRegression\n",
    "import matplotlib.pyplot as plt\n",
    "\n",
    "#step 3: train and plot\n",
    "c_range = [0.001, 0.01, 0.1, 1, 10, 100, 1000]\n",
    "train_score_l1 = []\n",
    "train_score_l2 = []\n",
    "test_score_l1 = []\n",
    "test_score_l2 = []\n",
    "\n",
    "for c in c_range:\n",
    "    log_l1 = LogisticRegression(penalty = 'l1', C = c)\n",
    "    log_l2 = LogisticRegression(penalty = 'l2', C = c)\n",
    "    log_l1.fit(X_train, y_train)\n",
    "    log_l2.fit(X_train, y_train)\n",
    "    train_score_l1.append(log_l1.score(X_train, y_train))\n",
    "    train_score_l2.append(log_l2.score(X_train, y_train))\n",
    "    test_score_l1.append(log_l1.score(X_test, y_test))\n",
    "    test_score_l2.append(log_l2.score(X_test, y_test))\n",
    "\n",
    "\n",
    "%matplotlib inline\n",
    "\n",
    "plt.plot(c_range, train_score_l1, label = 'Train score, penalty = l1')\n",
    "plt.plot(c_range, test_score_l1, label = 'Test score, penalty = l1')\n",
    "plt.plot(c_range, train_score_l2, label = 'Train score, penalty = l2')\n",
    "plt.plot(c_range, test_score_l2, label = 'Test score, penalty = l2')\n",
    "plt.legend()\n",
    "plt.xlabel('Regularization parameter: C')\n",
    "plt.ylabel('Accuracy')\n",
    "plt.xscale('log')"
   ]
  },
  {
   "cell_type": "code",
   "execution_count": 82,
   "metadata": {},
   "outputs": [
    {
     "name": "stdout",
     "output_type": "stream",
     "text": [
      "Cross-validation scores:\n",
      "[0.90537849 0.91226321 0.90528415]\n"
     ]
    },
    {
     "name": "stderr",
     "output_type": "stream",
     "text": [
      "c:\\users\\uday kumar reddy\\appdata\\local\\programs\\python\\python36\\lib\\site-packages\\sklearn\\linear_model\\logistic.py:432: FutureWarning: Default solver will be changed to 'lbfgs' in 0.22. Specify a solver to silence this warning.\n",
      "  FutureWarning)\n",
      "c:\\users\\uday kumar reddy\\appdata\\local\\programs\\python\\python36\\lib\\site-packages\\sklearn\\linear_model\\logistic.py:432: FutureWarning: Default solver will be changed to 'lbfgs' in 0.22. Specify a solver to silence this warning.\n",
      "  FutureWarning)\n",
      "c:\\users\\uday kumar reddy\\appdata\\local\\programs\\python\\python36\\lib\\site-packages\\sklearn\\linear_model\\logistic.py:432: FutureWarning: Default solver will be changed to 'lbfgs' in 0.22. Specify a solver to silence this warning.\n",
      "  FutureWarning)\n"
     ]
    }
   ],
   "source": [
    "#step 4 : Cross-Validation\n",
    "from sklearn.model_selection import KFold\n",
    "kfold = KFold(n_splits=3)\n",
    "logreg = LogisticRegression(C = 1000)\n",
    "\n",
    "print(\"Cross-validation scores:\\n{}\".format(cross_val_score(logreg, X, y, cv=kfold)))  "
   ]
  },
  {
   "cell_type": "markdown",
   "metadata": {},
   "source": [
    "# Linear SVC"
   ]
  },
  {
   "cell_type": "code",
   "execution_count": 83,
   "metadata": {},
   "outputs": [],
   "source": [
    "from mlxtend.plotting import plot_decision_regions\n",
    "from sklearn.datasets import load_iris\n",
    "from sklearn.svm import LinearSVC\n",
    "\n",
    "## Split data \n",
    "X_train, X_test, y_train, y_test = train_test_split(X, y, random_state = 0)\n",
    "\n",
    "scaler = MinMaxScaler()\n",
    "X_train = scaler.fit_transform(X_train)\n",
    "X_test = scaler.transform(X_test)\n",
    "\n"
   ]
  },
  {
   "cell_type": "code",
   "execution_count": 84,
   "metadata": {},
   "outputs": [
    {
     "data": {
      "text/plain": [
       "GridSearchCV(cv=5, error_score='raise-deprecating',\n",
       "             estimator=LinearSVC(C=1.0, class_weight=None, dual=True,\n",
       "                                 fit_intercept=True, intercept_scaling=1,\n",
       "                                 loss='squared_hinge', max_iter=100000,\n",
       "                                 multi_class='ovr', penalty='l2',\n",
       "                                 random_state=None, tol=0.0001, verbose=0),\n",
       "             iid='warn', n_jobs=None,\n",
       "             param_grid={'C': (0.001, 0.01, 0.1, 1, 10, 100)},\n",
       "             pre_dispatch='2*n_jobs', refit=True, return_train_score=True,\n",
       "             scoring=None, verbose=0)"
      ]
     },
     "execution_count": 84,
     "metadata": {},
     "output_type": "execute_result"
    }
   ],
   "source": [
    "from sklearn.model_selection import GridSearchCV\n",
    "\n",
    "lsvc = LinearSVC(max_iter = 100000)\n",
    "param_grid = {'C' : (0.001,0.01, 0.1, 1, 10, 100)}\n",
    "grid_search = GridSearchCV(lsvc, param_grid, cv=5, return_train_score=True)\n",
    "grid_search.fit(X_train, y_train)"
   ]
  },
  {
   "cell_type": "code",
   "execution_count": 85,
   "metadata": {},
   "outputs": [
    {
     "name": "stdout",
     "output_type": "stream",
     "text": [
      "Best parameters: {'C': 0.001}\n",
      "Best cross-validation score: 0.9105\n"
     ]
    }
   ],
   "source": [
    "print(\"Best parameters: {}\".format(grid_search.best_params_))\n",
    "print(\"Best cross-validation score: {:.4f}\".format(grid_search.best_score_))"
   ]
  },
  {
   "cell_type": "code",
   "execution_count": 86,
   "metadata": {
    "scrolled": true
   },
   "outputs": [
    {
     "data": {
      "image/png": "[encoded data removed]",
      "text/plain": [
       "<Figure size 432x288 with 1 Axes>"
      ]
     },
     "metadata": {
      "needs_background": "light"
     },
     "output_type": "display_data"
    }
   ],
   "source": [
    "c_range = [0.01,0.1,1,10,100]\n",
    "\n",
    "train_score = []\n",
    "test_score = []\n",
    "for c in c_range:\n",
    "    lsvc = LinearSVC(C= c, max_iter = 100000)\n",
    "    lsvc.fit(X_train,y_train)\n",
    "    train_score.append(lsvc.score(X_train, y_train))\n",
    "    test_score.append(lsvc.score(X_test, y_test))\n",
    "    \n",
    "\n",
    "import matplotlib.pyplot as plt\n",
    "%matplotlib inline\n",
    "\n",
    "plt.plot(c_range, train_score, label = 'Train score')\n",
    "plt.plot(c_range, test_score, label = 'Test score')\n",
    "plt.legend()\n",
    "plt.xlabel('Regularization parameter: C')\n",
    "plt.ylabel('Accuracy')\n",
    "plt.xscale('log')"
   ]
  },
  {
   "cell_type": "markdown",
   "metadata": {},
   "source": [
    "# Kernel SVC"
   ]
  },
  {
   "cell_type": "code",
   "execution_count": 87,
   "metadata": {},
   "outputs": [],
   "source": [
    "from sklearn.svm import SVC\n",
    "\n",
    "X_train, X_test, y_train, y_test = train_test_split(X, y, random_state = 0)\n",
    "\n",
    "scaler = MinMaxScaler()\n",
    "X_train = scaler.fit_transform(X_train)\n",
    "X_test = scaler.transform(X_test)"
   ]
  },
  {
   "cell_type": "code",
   "execution_count": 88,
   "metadata": {},
   "outputs": [],
   "source": [
    "## grid Search\n",
    "\n",
    "svm = SVC(kernel = 'rbf')\n",
    "param_grid = {'C': [0.001, 0.01, 0.1, 1, 10, 100],\n",
    "              'gamma': [0.001, 0.01, 0.1, 1, 10, 100]}\n",
    "\n",
    "grid_search = GridSearchCV(SVC(), param_grid, cv=5, return_train_score=True)"
   ]
  },
  {
   "cell_type": "code",
   "execution_count": 89,
   "metadata": {},
   "outputs": [
    {
     "data": {
      "text/plain": [
       "GridSearchCV(cv=5, error_score='raise-deprecating',\n",
       "             estimator=SVC(C=1.0, cache_size=200, class_weight=None, coef0=0.0,\n",
       "                           decision_function_shape='ovr', degree=3,\n",
       "                           gamma='auto_deprecated', kernel='rbf', max_iter=-1,\n",
       "                           probability=False, random_state=None, shrinking=True,\n",
       "                           tol=0.001, verbose=False),\n",
       "             iid='warn', n_jobs=None,\n",
       "             param_grid={'C': [0.001, 0.01, 0.1, 1, 10, 100],\n",
       "                         'gamma': [0.001, 0.01, 0.1, 1, 10, 100]},\n",
       "             pre_dispatch='2*n_jobs', refit=True, return_train_score=True,\n",
       "             scoring=None, verbose=0)"
      ]
     },
     "execution_count": 89,
     "metadata": {},
     "output_type": "execute_result"
    }
   ],
   "source": [
    "grid_search.fit(X_train, y_train)"
   ]
  },
  {
   "cell_type": "code",
   "execution_count": 90,
   "metadata": {},
   "outputs": [
    {
     "name": "stdout",
     "output_type": "stream",
     "text": [
      "Best parameters for scaled: {'C': 0.001, 'gamma': 0.001}\n",
      "Best cross-validation score: 0.9105\n"
     ]
    }
   ],
   "source": [
    "print(\"Best parameters for scaled: {}\".format(grid_search.best_params_))\n",
    "print(\"Best cross-validation score: {:.4f}\".format(grid_search.best_score_))"
   ]
  },
  {
   "cell_type": "code",
   "execution_count": 91,
   "metadata": {},
   "outputs": [
    {
     "data": {
      "image/png": "[encoded data removed]",
      "text/plain": [
       "<Figure size 432x288 with 1 Axes>"
      ]
     },
     "metadata": {
      "needs_background": "light"
     },
     "output_type": "display_data"
    }
   ],
   "source": [
    "c_range = [0.001, 0.01, 0.1, 1, 10, 100]\n",
    "\n",
    "train_score = []\n",
    "test_score = []\n",
    "for c in c_range:\n",
    "        svm = SVC(C=c, gamma = 0.01)\n",
    "        svm.fit(X_train,y_train)\n",
    "        train_score.append(svm.score(X_train, y_train))\n",
    "        test_score.append(svm.score(X_test, y_test))\n",
    "    \n",
    "import matplotlib.pyplot as plt\n",
    "%matplotlib inline\n",
    "\n",
    "plt.plot(c_range, train_score, label = 'Train score')\n",
    "plt.plot(c_range, test_score, label = 'Test score')\n",
    "plt.legend()\n",
    "plt.xlabel('Regularization parameter: C')\n",
    "plt.ylabel('Accuracy')\n",
    "plt.xscale('log')"
   ]
  },
  {
   "cell_type": "markdown",
   "metadata": {},
   "source": [
    "# PCA"
   ]
  },
  {
   "cell_type": "code",
   "execution_count": 93,
   "metadata": {},
   "outputs": [],
   "source": [
    "from sklearn.decomposition import PCA\n",
    "from sklearn.svm import SVC\n",
    "from sklearn.preprocessing import StandardScaler\n",
    "y = df[\"enroll\"]\n",
    "X = df.drop([\"enroll\"], 1)\n",
    "X_train_org , X_test_org, y_train, y_test = train_test_split(X, y, random_state = 0, test_size = 0.2)\n",
    "\n",
    "scaler = StandardScaler()\n",
    "X_train = scaler.fit_transform(X_train_org)\n",
    "X_test = scaler.transform(X_test_org)\n",
    "\n",
    "pca_reg = PCA()\n",
    "#train\n",
    "pca_reg.fit(X_train)\n",
    "#transform\n",
    "X_train_pca = pca_reg.transform(X_train)\n",
    "X_test_pca = pca_reg.transform(X_test)"
   ]
  },
  {
   "cell_type": "code",
   "execution_count": 94,
   "metadata": {},
   "outputs": [
    {
     "data": {
      "text/plain": [
       "(2408, 32)"
      ]
     },
     "execution_count": 94,
     "metadata": {},
     "output_type": "execute_result"
    }
   ],
   "source": [
    "X_train_pca.shape"
   ]
  },
  {
   "cell_type": "code",
   "execution_count": 95,
   "metadata": {},
   "outputs": [
    {
     "data": {
      "text/plain": [
       "32"
      ]
     },
     "execution_count": 95,
     "metadata": {},
     "output_type": "execute_result"
    }
   ],
   "source": [
    "pca_reg.n_components_"
   ]
  },
  {
   "cell_type": "code",
   "execution_count": 96,
   "metadata": {},
   "outputs": [
    {
     "data": {
      "text/plain": [
       "array([1.93865472e-01, 7.90848790e-02, 7.06768351e-02, 6.10776446e-02,\n",
       "       5.14685645e-02, 4.83975407e-02, 4.23385117e-02, 3.90321158e-02,\n",
       "       3.77011215e-02, 3.47338699e-02, 3.37119393e-02, 3.27498015e-02,\n",
       "       3.07035555e-02, 2.75325919e-02, 2.72794404e-02, 2.62627302e-02,\n",
       "       2.25877883e-02, 2.12586543e-02, 2.06051107e-02, 1.90572642e-02,\n",
       "       1.71133198e-02, 1.44054197e-02, 1.27146074e-02, 1.03596198e-02,\n",
       "       9.26579798e-03, 6.60055006e-03, 5.94173924e-03, 3.47112921e-03,\n",
       "       2.38562940e-06, 3.82332229e-32, 2.42178626e-33, 1.11046579e-33])"
      ]
     },
     "execution_count": 96,
     "metadata": {},
     "output_type": "execute_result"
    }
   ],
   "source": [
    "pca_reg.explained_variance_ratio_"
   ]
  },
  {
   "cell_type": "code",
   "execution_count": 97,
   "metadata": {},
   "outputs": [],
   "source": [
    "pca_reg = PCA(n_components=0.95)\n",
    "pca_reg.fit(X_train)\n",
    "X_train_reduced = pca_reg.transform(X_train)\n",
    "X_test_reduced = pca_reg.transform(X_test)"
   ]
  },
  {
   "cell_type": "code",
   "execution_count": 98,
   "metadata": {},
   "outputs": [
    {
     "data": {
      "text/plain": [
       "22"
      ]
     },
     "execution_count": 98,
     "metadata": {},
     "output_type": "execute_result"
    }
   ],
   "source": [
    "pca_reg.n_components_"
   ]
  },
  {
   "cell_type": "code",
   "execution_count": 99,
   "metadata": {},
   "outputs": [
    {
     "data": {
      "text/plain": [
       "array([6.20627246, 2.53176753, 2.26259834, 1.95529663, 1.64767832,\n",
       "       1.54936473, 1.35539524, 1.24954662, 1.20693711, 1.11194561,\n",
       "       1.07923024, 1.04842904, 0.98292197, 0.88140897, 0.87330476,\n",
       "       0.84075652, 0.72310952, 0.68055956, 0.65963748, 0.61008581,\n",
       "       0.54785375, 0.46116495])"
      ]
     },
     "execution_count": 99,
     "metadata": {},
     "output_type": "execute_result"
    }
   ],
   "source": [
    "pca_reg.explained_variance_"
   ]
  },
  {
   "cell_type": "markdown",
   "metadata": {},
   "source": [
    "# KNN Classification"
   ]
  },
  {
   "cell_type": "code",
   "execution_count": 100,
   "metadata": {},
   "outputs": [
    {
     "name": "stderr",
     "output_type": "stream",
     "text": [
      "c:\\users\\uday kumar reddy\\appdata\\local\\programs\\python\\python36\\lib\\site-packages\\sklearn\\model_selection\\_split.py:1978: FutureWarning: The default value of cv will change from 3 to 5 in version 0.22. Specify it explicitly to silence this warning.\n",
      "  warnings.warn(CV_WARNING, FutureWarning)\n"
     ]
    }
   ],
   "source": [
    "from sklearn.neighbors import KNeighborsClassifier\n",
    "\n",
    "param_grid = {'n_neighbors' : [1,2,3,4,5,6,7,8,9,10]}\n",
    "\n",
    "knn_c_grid= GridSearchCV(KNeighborsClassifier(), param_grid )\n",
    "knn_c_grid.fit(X_train_reduced,y_train)\n",
    "knn_c_grid_predictions = knn_c_grid.predict(X_test_reduced)"
   ]
  },
  {
   "cell_type": "code",
   "execution_count": 101,
   "metadata": {},
   "outputs": [
    {
     "data": {
      "text/plain": [
       "{'n_neighbors': 8}"
      ]
     },
     "execution_count": 101,
     "metadata": {},
     "output_type": "execute_result"
    }
   ],
   "source": [
    "knn_c_grid.best_params_"
   ]
  },
  {
   "cell_type": "code",
   "execution_count": 102,
   "metadata": {},
   "outputs": [
    {
     "name": "stdout",
     "output_type": "stream",
     "text": [
      "Confusion Matrix is: \n",
      "[[539   0]\n",
      " [ 63   0]]\n"
     ]
    }
   ],
   "source": [
    "knn_c_grid_predictions = knn_c_grid.predict(X_test_reduced)\n",
    "\n",
    "print(\"Confusion Matrix is: \")\n",
    "print(confusion_matrix(y_test,knn_c_grid_predictions))"
   ]
  },
  {
   "cell_type": "code",
   "execution_count": 103,
   "metadata": {},
   "outputs": [
    {
     "name": "stdout",
     "output_type": "stream",
     "text": [
      "Classification Report is: \n",
      "              precision    recall  f1-score   support\n",
      "\n",
      "           0       0.90      1.00      0.94       539\n",
      "           1       0.00      0.00      0.00        63\n",
      "\n",
      "    accuracy                           0.90       602\n",
      "   macro avg       0.45      0.50      0.47       602\n",
      "weighted avg       0.80      0.90      0.85       602\n",
      "\n"
     ]
    },
    {
     "name": "stderr",
     "output_type": "stream",
     "text": [
      "c:\\users\\uday kumar reddy\\appdata\\local\\programs\\python\\python36\\lib\\site-packages\\sklearn\\metrics\\classification.py:1437: UndefinedMetricWarning: Precision and F-score are ill-defined and being set to 0.0 in labels with no predicted samples.\n",
      "  'precision', 'predicted', average, warn_for)\n",
      "c:\\users\\uday kumar reddy\\appdata\\local\\programs\\python\\python36\\lib\\site-packages\\sklearn\\metrics\\classification.py:1437: UndefinedMetricWarning: Precision and F-score are ill-defined and being set to 0.0 in labels with no predicted samples.\n",
      "  'precision', 'predicted', average, warn_for)\n",
      "c:\\users\\uday kumar reddy\\appdata\\local\\programs\\python\\python36\\lib\\site-packages\\sklearn\\metrics\\classification.py:1437: UndefinedMetricWarning: Precision and F-score are ill-defined and being set to 0.0 in labels with no predicted samples.\n",
      "  'precision', 'predicted', average, warn_for)\n"
     ]
    }
   ],
   "source": [
    "print(\"Classification Report is: \")\n",
    "print(classification_report(y_test,knn_c_grid_predictions))"
   ]
  },
  {
   "cell_type": "markdown",
   "metadata": {},
   "source": [
    "## Linear SVC"
   ]
  },
  {
   "cell_type": "code",
   "execution_count": 104,
   "metadata": {},
   "outputs": [],
   "source": [
    "from sklearn.metrics import classification_report,confusion_matrix"
   ]
  },
  {
   "cell_type": "code",
   "execution_count": 105,
   "metadata": {},
   "outputs": [
    {
     "name": "stderr",
     "output_type": "stream",
     "text": [
      "c:\\users\\uday kumar reddy\\appdata\\local\\programs\\python\\python36\\lib\\site-packages\\sklearn\\model_selection\\_split.py:1978: FutureWarning: The default value of cv will change from 3 to 5 in version 0.22. Specify it explicitly to silence this warning.\n",
      "  warnings.warn(CV_WARNING, FutureWarning)\n",
      "[Parallel(n_jobs=1)]: Using backend SequentialBackend with 1 concurrent workers.\n",
      "[Parallel(n_jobs=1)]: Done   1 out of   1 | elapsed:    0.0s remaining:    0.0s\n",
      "[Parallel(n_jobs=1)]: Done   2 out of   2 | elapsed:    0.0s remaining:    0.0s\n"
     ]
    },
    {
     "name": "stdout",
     "output_type": "stream",
     "text": [
      "Fitting 3 folds for each of 10 candidates, totalling 30 fits\n",
      "[CV] C=0.01 ..........................................................\n",
      "[CV] .............................. C=0.01, score=0.910, total=   0.0s\n",
      "[CV] C=0.01 ..........................................................\n",
      "[CV] .............................. C=0.01, score=0.910, total=   0.0s\n",
      "[CV] C=0.01 ..........................................................\n",
      "[CV] .............................. C=0.01, score=0.911, total=   0.0s\n",
      "[CV] C=0.1 ...........................................................\n",
      "[CV] ............................... C=0.1, score=0.910, total=   0.0s\n",
      "[CV] C=0.1 ...........................................................\n",
      "[CV] ............................... C=0.1, score=0.910, total=   0.0s\n",
      "[CV] C=0.1 ...........................................................\n",
      "[CV] ............................... C=0.1, score=0.911, total=   0.0s\n",
      "[CV] C=0.2 ...........................................................\n",
      "[CV] ............................... C=0.2, score=0.910, total=   0.0s\n",
      "[CV] C=0.2 ...........................................................\n",
      "[CV] ............................... C=0.2, score=0.910, total=   0.0s\n",
      "[CV] C=0.2 ...........................................................\n",
      "[CV] ............................... C=0.2, score=0.911, total=   0.0s\n",
      "[CV] C=0.3 ...........................................................\n",
      "[CV] ............................... C=0.3, score=0.910, total=   0.1s\n",
      "[CV] C=0.3 ...........................................................\n",
      "[CV] ............................... C=0.3, score=0.910, total=   0.1s\n",
      "[CV] C=0.3 ...........................................................\n",
      "[CV] ............................... C=0.3, score=0.911, total=   0.1s\n",
      "[CV] C=1 .............................................................\n",
      "[CV] ................................. C=1, score=0.910, total=   0.1s\n",
      "[CV] C=1 .............................................................\n"
     ]
    },
    {
     "name": "stderr",
     "output_type": "stream",
     "text": [
      "c:\\users\\uday kumar reddy\\appdata\\local\\programs\\python\\python36\\lib\\site-packages\\sklearn\\svm\\base.py:929: ConvergenceWarning: Liblinear failed to converge, increase the number of iterations.\n",
      "  \"the number of iterations.\", ConvergenceWarning)\n",
      "c:\\users\\uday kumar reddy\\appdata\\local\\programs\\python\\python36\\lib\\site-packages\\sklearn\\svm\\base.py:929: ConvergenceWarning: Liblinear failed to converge, increase the number of iterations.\n",
      "  \"the number of iterations.\", ConvergenceWarning)\n"
     ]
    },
    {
     "name": "stdout",
     "output_type": "stream",
     "text": [
      "[CV] ................................. C=1, score=0.910, total=   0.1s\n",
      "[CV] C=1 .............................................................\n",
      "[CV] ................................. C=1, score=0.911, total=   0.1s\n",
      "[CV] C=2 .............................................................\n"
     ]
    },
    {
     "name": "stderr",
     "output_type": "stream",
     "text": [
      "c:\\users\\uday kumar reddy\\appdata\\local\\programs\\python\\python36\\lib\\site-packages\\sklearn\\svm\\base.py:929: ConvergenceWarning: Liblinear failed to converge, increase the number of iterations.\n",
      "  \"the number of iterations.\", ConvergenceWarning)\n",
      "c:\\users\\uday kumar reddy\\appdata\\local\\programs\\python\\python36\\lib\\site-packages\\sklearn\\svm\\base.py:929: ConvergenceWarning: Liblinear failed to converge, increase the number of iterations.\n",
      "  \"the number of iterations.\", ConvergenceWarning)\n"
     ]
    },
    {
     "name": "stdout",
     "output_type": "stream",
     "text": [
      "[CV] ................................. C=2, score=0.910, total=   0.1s\n",
      "[CV] C=2 .............................................................\n",
      "[CV] ................................. C=2, score=0.910, total=   0.1s\n",
      "[CV] C=2 .............................................................\n"
     ]
    },
    {
     "name": "stderr",
     "output_type": "stream",
     "text": [
      "c:\\users\\uday kumar reddy\\appdata\\local\\programs\\python\\python36\\lib\\site-packages\\sklearn\\svm\\base.py:929: ConvergenceWarning: Liblinear failed to converge, increase the number of iterations.\n",
      "  \"the number of iterations.\", ConvergenceWarning)\n",
      "c:\\users\\uday kumar reddy\\appdata\\local\\programs\\python\\python36\\lib\\site-packages\\sklearn\\svm\\base.py:929: ConvergenceWarning: Liblinear failed to converge, increase the number of iterations.\n",
      "  \"the number of iterations.\", ConvergenceWarning)\n"
     ]
    },
    {
     "name": "stdout",
     "output_type": "stream",
     "text": [
      "[CV] ................................. C=2, score=0.911, total=   0.2s\n",
      "[CV] C=3 .............................................................\n",
      "[CV] ................................. C=3, score=0.910, total=   0.1s\n",
      "[CV] C=3 .............................................................\n"
     ]
    },
    {
     "name": "stderr",
     "output_type": "stream",
     "text": [
      "c:\\users\\uday kumar reddy\\appdata\\local\\programs\\python\\python36\\lib\\site-packages\\sklearn\\svm\\base.py:929: ConvergenceWarning: Liblinear failed to converge, increase the number of iterations.\n",
      "  \"the number of iterations.\", ConvergenceWarning)\n",
      "c:\\users\\uday kumar reddy\\appdata\\local\\programs\\python\\python36\\lib\\site-packages\\sklearn\\svm\\base.py:929: ConvergenceWarning: Liblinear failed to converge, increase the number of iterations.\n",
      "  \"the number of iterations.\", ConvergenceWarning)\n"
     ]
    },
    {
     "name": "stdout",
     "output_type": "stream",
     "text": [
      "[CV] ................................. C=3, score=0.910, total=   0.3s\n",
      "[CV] C=3 .............................................................\n"
     ]
    },
    {
     "name": "stderr",
     "output_type": "stream",
     "text": [
      "c:\\users\\uday kumar reddy\\appdata\\local\\programs\\python\\python36\\lib\\site-packages\\sklearn\\svm\\base.py:929: ConvergenceWarning: Liblinear failed to converge, increase the number of iterations.\n",
      "  \"the number of iterations.\", ConvergenceWarning)\n"
     ]
    },
    {
     "name": "stdout",
     "output_type": "stream",
     "text": [
      "[CV] ................................. C=3, score=0.911, total=   0.3s\n",
      "[CV] C=4 .............................................................\n"
     ]
    },
    {
     "name": "stderr",
     "output_type": "stream",
     "text": [
      "c:\\users\\uday kumar reddy\\appdata\\local\\programs\\python\\python36\\lib\\site-packages\\sklearn\\svm\\base.py:929: ConvergenceWarning: Liblinear failed to converge, increase the number of iterations.\n",
      "  \"the number of iterations.\", ConvergenceWarning)\n"
     ]
    },
    {
     "name": "stdout",
     "output_type": "stream",
     "text": [
      "[CV] ................................. C=4, score=0.910, total=   0.4s\n",
      "[CV] C=4 .............................................................\n"
     ]
    },
    {
     "name": "stderr",
     "output_type": "stream",
     "text": [
      "c:\\users\\uday kumar reddy\\appdata\\local\\programs\\python\\python36\\lib\\site-packages\\sklearn\\svm\\base.py:929: ConvergenceWarning: Liblinear failed to converge, increase the number of iterations.\n",
      "  \"the number of iterations.\", ConvergenceWarning)\n"
     ]
    },
    {
     "name": "stdout",
     "output_type": "stream",
     "text": [
      "[CV] ................................. C=4, score=0.910, total=   0.4s\n",
      "[CV] C=4 .............................................................\n"
     ]
    },
    {
     "name": "stderr",
     "output_type": "stream",
     "text": [
      "c:\\users\\uday kumar reddy\\appdata\\local\\programs\\python\\python36\\lib\\site-packages\\sklearn\\svm\\base.py:929: ConvergenceWarning: Liblinear failed to converge, increase the number of iterations.\n",
      "  \"the number of iterations.\", ConvergenceWarning)\n"
     ]
    },
    {
     "name": "stdout",
     "output_type": "stream",
     "text": [
      "[CV] ................................. C=4, score=0.911, total=   0.4s\n",
      "[CV] C=5 .............................................................\n"
     ]
    },
    {
     "name": "stderr",
     "output_type": "stream",
     "text": [
      "c:\\users\\uday kumar reddy\\appdata\\local\\programs\\python\\python36\\lib\\site-packages\\sklearn\\svm\\base.py:929: ConvergenceWarning: Liblinear failed to converge, increase the number of iterations.\n",
      "  \"the number of iterations.\", ConvergenceWarning)\n"
     ]
    },
    {
     "name": "stdout",
     "output_type": "stream",
     "text": [
      "[CV] ................................. C=5, score=0.910, total=   0.4s\n",
      "[CV] C=5 .............................................................\n"
     ]
    },
    {
     "name": "stderr",
     "output_type": "stream",
     "text": [
      "c:\\users\\uday kumar reddy\\appdata\\local\\programs\\python\\python36\\lib\\site-packages\\sklearn\\svm\\base.py:929: ConvergenceWarning: Liblinear failed to converge, increase the number of iterations.\n",
      "  \"the number of iterations.\", ConvergenceWarning)\n"
     ]
    },
    {
     "name": "stdout",
     "output_type": "stream",
     "text": [
      "[CV] ................................. C=5, score=0.910, total=   0.4s\n",
      "[CV] C=5 .............................................................\n"
     ]
    },
    {
     "name": "stderr",
     "output_type": "stream",
     "text": [
      "c:\\users\\uday kumar reddy\\appdata\\local\\programs\\python\\python36\\lib\\site-packages\\sklearn\\svm\\base.py:929: ConvergenceWarning: Liblinear failed to converge, increase the number of iterations.\n",
      "  \"the number of iterations.\", ConvergenceWarning)\n"
     ]
    },
    {
     "name": "stdout",
     "output_type": "stream",
     "text": [
      "[CV] ................................. C=5, score=0.911, total=   0.3s\n",
      "[CV] C=10 ............................................................\n"
     ]
    },
    {
     "name": "stderr",
     "output_type": "stream",
     "text": [
      "c:\\users\\uday kumar reddy\\appdata\\local\\programs\\python\\python36\\lib\\site-packages\\sklearn\\svm\\base.py:929: ConvergenceWarning: Liblinear failed to converge, increase the number of iterations.\n",
      "  \"the number of iterations.\", ConvergenceWarning)\n"
     ]
    },
    {
     "name": "stdout",
     "output_type": "stream",
     "text": [
      "[CV] ................................ C=10, score=0.910, total=   0.3s\n",
      "[CV] C=10 ............................................................\n"
     ]
    },
    {
     "name": "stderr",
     "output_type": "stream",
     "text": [
      "c:\\users\\uday kumar reddy\\appdata\\local\\programs\\python\\python36\\lib\\site-packages\\sklearn\\svm\\base.py:929: ConvergenceWarning: Liblinear failed to converge, increase the number of iterations.\n",
      "  \"the number of iterations.\", ConvergenceWarning)\n"
     ]
    },
    {
     "name": "stdout",
     "output_type": "stream",
     "text": [
      "[CV] ................................ C=10, score=0.910, total=   0.3s\n",
      "[CV] C=10 ............................................................\n",
      "[CV] ................................ C=10, score=0.911, total=   0.3s\n"
     ]
    },
    {
     "name": "stderr",
     "output_type": "stream",
     "text": [
      "c:\\users\\uday kumar reddy\\appdata\\local\\programs\\python\\python36\\lib\\site-packages\\sklearn\\svm\\base.py:929: ConvergenceWarning: Liblinear failed to converge, increase the number of iterations.\n",
      "  \"the number of iterations.\", ConvergenceWarning)\n",
      "[Parallel(n_jobs=1)]: Done  30 out of  30 | elapsed:    5.3s finished\n"
     ]
    }
   ],
   "source": [
    "%matplotlib inline\n",
    "from sklearn.svm import SVC, LinearSVC\n",
    "import matplotlib.gridspec as gridspec\n",
    "import itertools\n",
    "\n",
    "\n",
    "\n",
    "param_grid = {'C' : [0.01,0.1,0.2,0.3,1,2,3,4,5,10]}\n",
    "\n",
    "linear_svc_grid= GridSearchCV(LinearSVC(), param_grid , verbose=3)\n",
    "\n",
    "linear_svc_grid.fit(X_train_reduced,y_train)\n",
    "\n",
    "linear_svc_grid_predictions = linear_svc_grid.predict(X_test_reduced)"
   ]
  },
  {
   "cell_type": "code",
   "execution_count": 106,
   "metadata": {},
   "outputs": [
    {
     "name": "stdout",
     "output_type": "stream",
     "text": [
      "Confusion Matrix is: \n",
      "[[539   0]\n",
      " [ 63   0]]\n"
     ]
    }
   ],
   "source": [
    "linear_svc_grid_predictions = linear_svc_grid.predict(X_test_reduced)\n",
    "\n",
    "print(\"Confusion Matrix is: \")\n",
    "print(confusion_matrix(y_test,linear_svc_grid_predictions))"
   ]
  },
  {
   "cell_type": "code",
   "execution_count": 107,
   "metadata": {},
   "outputs": [
    {
     "name": "stdout",
     "output_type": "stream",
     "text": [
      "Classification Report is: \n",
      "              precision    recall  f1-score   support\n",
      "\n",
      "           0       0.90      1.00      0.94       539\n",
      "           1       0.00      0.00      0.00        63\n",
      "\n",
      "    accuracy                           0.90       602\n",
      "   macro avg       0.45      0.50      0.47       602\n",
      "weighted avg       0.80      0.90      0.85       602\n",
      "\n"
     ]
    },
    {
     "name": "stderr",
     "output_type": "stream",
     "text": [
      "c:\\users\\uday kumar reddy\\appdata\\local\\programs\\python\\python36\\lib\\site-packages\\sklearn\\metrics\\classification.py:1437: UndefinedMetricWarning: Precision and F-score are ill-defined and being set to 0.0 in labels with no predicted samples.\n",
      "  'precision', 'predicted', average, warn_for)\n",
      "c:\\users\\uday kumar reddy\\appdata\\local\\programs\\python\\python36\\lib\\site-packages\\sklearn\\metrics\\classification.py:1437: UndefinedMetricWarning: Precision and F-score are ill-defined and being set to 0.0 in labels with no predicted samples.\n",
      "  'precision', 'predicted', average, warn_for)\n",
      "c:\\users\\uday kumar reddy\\appdata\\local\\programs\\python\\python36\\lib\\site-packages\\sklearn\\metrics\\classification.py:1437: UndefinedMetricWarning: Precision and F-score are ill-defined and being set to 0.0 in labels with no predicted samples.\n",
      "  'precision', 'predicted', average, warn_for)\n"
     ]
    }
   ],
   "source": [
    "print(\"Classification Report is: \")\n",
    "print(classification_report(y_test,linear_svc_grid_predictions))"
   ]
  },
  {
   "cell_type": "markdown",
   "metadata": {},
   "source": [
    "## SVM with Kernel"
   ]
  },
  {
   "cell_type": "code",
   "execution_count": 108,
   "metadata": {},
   "outputs": [
    {
     "name": "stderr",
     "output_type": "stream",
     "text": [
      "c:\\users\\uday kumar reddy\\appdata\\local\\programs\\python\\python36\\lib\\site-packages\\sklearn\\model_selection\\_split.py:1978: FutureWarning: The default value of cv will change from 3 to 5 in version 0.22. Specify it explicitly to silence this warning.\n",
      "  warnings.warn(CV_WARNING, FutureWarning)\n",
      "[Parallel(n_jobs=1)]: Using backend SequentialBackend with 1 concurrent workers.\n",
      "[Parallel(n_jobs=1)]: Done   1 out of   1 | elapsed:    0.0s remaining:    0.0s\n",
      "[Parallel(n_jobs=1)]: Done   2 out of   2 | elapsed:    0.0s remaining:    0.0s\n"
     ]
    },
    {
     "name": "stdout",
     "output_type": "stream",
     "text": [
      "Fitting 3 folds for each of 100 candidates, totalling 300 fits\n",
      "[CV] C=0.01, gamma=0.01 ..............................................\n",
      "[CV] .................. C=0.01, gamma=0.01, score=0.910, total=   0.0s\n",
      "[CV] C=0.01, gamma=0.01 ..............................................\n",
      "[CV] .................. C=0.01, gamma=0.01, score=0.910, total=   0.0s\n",
      "[CV] C=0.01, gamma=0.01 ..............................................\n",
      "[CV] .................. C=0.01, gamma=0.01, score=0.911, total=   0.0s\n",
      "[CV] C=0.01, gamma=0.1 ...............................................\n",
      "[CV] ................... C=0.01, gamma=0.1, score=0.910, total=   0.1s\n",
      "[CV] C=0.01, gamma=0.1 ...............................................\n",
      "[CV] ................... C=0.01, gamma=0.1, score=0.910, total=   0.1s\n",
      "[CV] C=0.01, gamma=0.1 ...............................................\n",
      "[CV] ................... C=0.01, gamma=0.1, score=0.911, total=   0.1s\n",
      "[CV] C=0.01, gamma=0.2 ...............................................\n",
      "[CV] ................... C=0.01, gamma=0.2, score=0.910, total=   0.1s\n",
      "[CV] C=0.01, gamma=0.2 ...............................................\n",
      "[CV] ................... C=0.01, gamma=0.2, score=0.910, total=   0.1s\n",
      "[CV] C=0.01, gamma=0.2 ...............................................\n",
      "[CV] ................... C=0.01, gamma=0.2, score=0.911, total=   0.2s\n",
      "[CV] C=0.01, gamma=0.3 ...............................................\n",
      "[CV] ................... C=0.01, gamma=0.3, score=0.910, total=   0.2s\n",
      "[CV] C=0.01, gamma=0.3 ...............................................\n",
      "[CV] ................... C=0.01, gamma=0.3, score=0.910, total=   0.2s\n",
      "[CV] C=0.01, gamma=0.3 ...............................................\n",
      "[CV] ................... C=0.01, gamma=0.3, score=0.911, total=   0.2s\n",
      "[CV] C=0.01, gamma=1 .................................................\n",
      "[CV] ..................... C=0.01, gamma=1, score=0.910, total=   0.3s\n",
      "[CV] C=0.01, gamma=1 .................................................\n",
      "[CV] ..................... C=0.01, gamma=1, score=0.910, total=   0.3s\n",
      "[CV] C=0.01, gamma=1 .................................................\n",
      "[CV] ..................... C=0.01, gamma=1, score=0.911, total=   0.3s\n",
      "[CV] C=0.01, gamma=2 .................................................\n",
      "[CV] ..................... C=0.01, gamma=2, score=0.910, total=   0.3s\n",
      "[CV] C=0.01, gamma=2 .................................................\n",
      "[CV] ..................... C=0.01, gamma=2, score=0.910, total=   0.3s\n",
      "[CV] C=0.01, gamma=2 .................................................\n",
      "[CV] ..................... C=0.01, gamma=2, score=0.911, total=   0.4s\n",
      "[CV] C=0.01, gamma=3 .................................................\n",
      "[CV] ..................... C=0.01, gamma=3, score=0.910, total=   0.4s\n",
      "[CV] C=0.01, gamma=3 .................................................\n",
      "[CV] ..................... C=0.01, gamma=3, score=0.910, total=   0.4s\n",
      "[CV] C=0.01, gamma=3 .................................................\n",
      "[CV] ..................... C=0.01, gamma=3, score=0.911, total=   0.4s\n",
      "[CV] C=0.01, gamma=4 .................................................\n",
      "[CV] ..................... C=0.01, gamma=4, score=0.910, total=   0.3s\n",
      "[CV] C=0.01, gamma=4 .................................................\n",
      "[CV] ..................... C=0.01, gamma=4, score=0.910, total=   0.3s\n",
      "[CV] C=0.01, gamma=4 .................................................\n",
      "[CV] ..................... C=0.01, gamma=4, score=0.911, total=   0.3s\n",
      "[CV] C=0.01, gamma=5 .................................................\n",
      "[CV] ..................... C=0.01, gamma=5, score=0.910, total=   0.1s\n",
      "[CV] C=0.01, gamma=5 .................................................\n",
      "[CV] ..................... C=0.01, gamma=5, score=0.910, total=   0.1s\n",
      "[CV] C=0.01, gamma=5 .................................................\n",
      "[CV] ..................... C=0.01, gamma=5, score=0.911, total=   0.2s\n",
      "[CV] C=0.01, gamma=10 ................................................\n",
      "[CV] .................... C=0.01, gamma=10, score=0.910, total=   0.2s\n",
      "[CV] C=0.01, gamma=10 ................................................\n",
      "[CV] .................... C=0.01, gamma=10, score=0.910, total=   0.2s\n",
      "[CV] C=0.01, gamma=10 ................................................\n",
      "[CV] .................... C=0.01, gamma=10, score=0.911, total=   0.4s\n",
      "[CV] C=0.1, gamma=0.01 ...............................................\n",
      "[CV] ................... C=0.1, gamma=0.01, score=0.910, total=   0.1s\n",
      "[CV] C=0.1, gamma=0.01 ...............................................\n",
      "[CV] ................... C=0.1, gamma=0.01, score=0.910, total=   0.1s\n",
      "[CV] C=0.1, gamma=0.01 ...............................................\n",
      "[CV] ................... C=0.1, gamma=0.01, score=0.911, total=   0.1s\n",
      "[CV] C=0.1, gamma=0.1 ................................................\n",
      "[CV] .................... C=0.1, gamma=0.1, score=0.910, total=   0.2s\n",
      "[CV] C=0.1, gamma=0.1 ................................................\n",
      "[CV] .................... C=0.1, gamma=0.1, score=0.910, total=   0.2s\n",
      "[CV] C=0.1, gamma=0.1 ................................................\n",
      "[CV] .................... C=0.1, gamma=0.1, score=0.911, total=   0.2s\n",
      "[CV] C=0.1, gamma=0.2 ................................................\n",
      "[CV] .................... C=0.1, gamma=0.2, score=0.910, total=   0.3s\n",
      "[CV] C=0.1, gamma=0.2 ................................................\n",
      "[CV] .................... C=0.1, gamma=0.2, score=0.910, total=   0.3s\n",
      "[CV] C=0.1, gamma=0.2 ................................................\n",
      "[CV] .................... C=0.1, gamma=0.2, score=0.911, total=   0.3s\n",
      "[CV] C=0.1, gamma=0.3 ................................................\n",
      "[CV] .................... C=0.1, gamma=0.3, score=0.910, total=   0.3s\n",
      "[CV] C=0.1, gamma=0.3 ................................................\n",
      "[CV] .................... C=0.1, gamma=0.3, score=0.910, total=   0.4s\n",
      "[CV] C=0.1, gamma=0.3 ................................................\n",
      "[CV] .................... C=0.1, gamma=0.3, score=0.911, total=   0.3s\n",
      "[CV] C=0.1, gamma=1 ..................................................\n",
      "[CV] ...................... C=0.1, gamma=1, score=0.910, total=   0.4s\n",
      "[CV] C=0.1, gamma=1 ..................................................\n",
      "[CV] ...................... C=0.1, gamma=1, score=0.910, total=   0.4s\n",
      "[CV] C=0.1, gamma=1 ..................................................\n",
      "[CV] ...................... C=0.1, gamma=1, score=0.911, total=   0.4s\n",
      "[CV] C=0.1, gamma=2 ..................................................\n",
      "[CV] ...................... C=0.1, gamma=2, score=0.910, total=   0.4s\n",
      "[CV] C=0.1, gamma=2 ..................................................\n",
      "[CV] ...................... C=0.1, gamma=2, score=0.910, total=   0.3s\n",
      "[CV] C=0.1, gamma=2 ..................................................\n",
      "[CV] ...................... C=0.1, gamma=2, score=0.911, total=   0.2s\n",
      "[CV] C=0.1, gamma=3 ..................................................\n",
      "[CV] ...................... C=0.1, gamma=3, score=0.910, total=   0.2s\n",
      "[CV] C=0.1, gamma=3 ..................................................\n",
      "[CV] ...................... C=0.1, gamma=3, score=0.910, total=   0.2s\n",
      "[CV] C=0.1, gamma=3 ..................................................\n",
      "[CV] ...................... C=0.1, gamma=3, score=0.911, total=   0.2s\n",
      "[CV] C=0.1, gamma=4 ..................................................\n",
      "[CV] ...................... C=0.1, gamma=4, score=0.910, total=   0.2s\n",
      "[CV] C=0.1, gamma=4 ..................................................\n",
      "[CV] ...................... C=0.1, gamma=4, score=0.910, total=   0.2s\n",
      "[CV] C=0.1, gamma=4 ..................................................\n",
      "[CV] ...................... C=0.1, gamma=4, score=0.911, total=   0.4s\n",
      "[CV] C=0.1, gamma=5 ..................................................\n",
      "[CV] ...................... C=0.1, gamma=5, score=0.910, total=   0.4s\n",
      "[CV] C=0.1, gamma=5 ..................................................\n",
      "[CV] ...................... C=0.1, gamma=5, score=0.910, total=   0.4s\n",
      "[CV] C=0.1, gamma=5 ..................................................\n",
      "[CV] ...................... C=0.1, gamma=5, score=0.911, total=   0.4s\n",
      "[CV] C=0.1, gamma=10 .................................................\n"
     ]
    },
    {
     "name": "stdout",
     "output_type": "stream",
     "text": [
      "[CV] ..................... C=0.1, gamma=10, score=0.910, total=   0.5s\n",
      "[CV] C=0.1, gamma=10 .................................................\n",
      "[CV] ..................... C=0.1, gamma=10, score=0.910, total=   0.5s\n",
      "[CV] C=0.1, gamma=10 .................................................\n",
      "[CV] ..................... C=0.1, gamma=10, score=0.911, total=   0.5s\n",
      "[CV] C=0.2, gamma=0.01 ...............................................\n",
      "[CV] ................... C=0.2, gamma=0.01, score=0.910, total=   0.1s\n",
      "[CV] C=0.2, gamma=0.01 ...............................................\n",
      "[CV] ................... C=0.2, gamma=0.01, score=0.910, total=   0.2s\n",
      "[CV] C=0.2, gamma=0.01 ...............................................\n",
      "[CV] ................... C=0.2, gamma=0.01, score=0.911, total=   0.2s\n",
      "[CV] C=0.2, gamma=0.1 ................................................\n",
      "[CV] .................... C=0.2, gamma=0.1, score=0.910, total=   0.2s\n",
      "[CV] C=0.2, gamma=0.1 ................................................\n",
      "[CV] .................... C=0.2, gamma=0.1, score=0.910, total=   0.2s\n",
      "[CV] C=0.2, gamma=0.1 ................................................\n",
      "[CV] .................... C=0.2, gamma=0.1, score=0.911, total=   0.2s\n",
      "[CV] C=0.2, gamma=0.2 ................................................\n",
      "[CV] .................... C=0.2, gamma=0.2, score=0.910, total=   0.3s\n",
      "[CV] C=0.2, gamma=0.2 ................................................\n",
      "[CV] .................... C=0.2, gamma=0.2, score=0.910, total=   0.3s\n",
      "[CV] C=0.2, gamma=0.2 ................................................\n",
      "[CV] .................... C=0.2, gamma=0.2, score=0.911, total=   0.3s\n",
      "[CV] C=0.2, gamma=0.3 ................................................\n",
      "[CV] .................... C=0.2, gamma=0.3, score=0.910, total=   0.3s\n",
      "[CV] C=0.2, gamma=0.3 ................................................\n",
      "[CV] .................... C=0.2, gamma=0.3, score=0.910, total=   0.3s\n",
      "[CV] C=0.2, gamma=0.3 ................................................\n",
      "[CV] .................... C=0.2, gamma=0.3, score=0.911, total=   0.3s\n",
      "[CV] C=0.2, gamma=1 ..................................................\n",
      "[CV] ...................... C=0.2, gamma=1, score=0.910, total=   0.2s\n",
      "[CV] C=0.2, gamma=1 ..................................................\n",
      "[CV] ...................... C=0.2, gamma=1, score=0.910, total=   0.2s\n",
      "[CV] C=0.2, gamma=1 ..................................................\n",
      "[CV] ...................... C=0.2, gamma=1, score=0.911, total=   0.2s\n",
      "[CV] C=0.2, gamma=2 ..................................................\n",
      "[CV] ...................... C=0.2, gamma=2, score=0.910, total=   0.2s\n",
      "[CV] C=0.2, gamma=2 ..................................................\n",
      "[CV] ...................... C=0.2, gamma=2, score=0.910, total=   0.2s\n",
      "[CV] C=0.2, gamma=2 ..................................................\n",
      "[CV] ...................... C=0.2, gamma=2, score=0.911, total=   0.2s\n",
      "[CV] C=0.2, gamma=3 ..................................................\n",
      "[CV] ...................... C=0.2, gamma=3, score=0.910, total=   0.4s\n",
      "[CV] C=0.2, gamma=3 ..................................................\n",
      "[CV] ...................... C=0.2, gamma=3, score=0.910, total=   0.4s\n",
      "[CV] C=0.2, gamma=3 ..................................................\n",
      "[CV] ...................... C=0.2, gamma=3, score=0.911, total=   0.4s\n",
      "[CV] C=0.2, gamma=4 ..................................................\n",
      "[CV] ...................... C=0.2, gamma=4, score=0.910, total=   0.4s\n",
      "[CV] C=0.2, gamma=4 ..................................................\n",
      "[CV] ...................... C=0.2, gamma=4, score=0.910, total=   0.4s\n",
      "[CV] C=0.2, gamma=4 ..................................................\n",
      "[CV] ...................... C=0.2, gamma=4, score=0.911, total=   0.4s\n",
      "[CV] C=0.2, gamma=5 ..................................................\n",
      "[CV] ...................... C=0.2, gamma=5, score=0.910, total=   0.4s\n",
      "[CV] C=0.2, gamma=5 ..................................................\n",
      "[CV] ...................... C=0.2, gamma=5, score=0.910, total=   0.4s\n",
      "[CV] C=0.2, gamma=5 ..................................................\n",
      "[CV] ...................... C=0.2, gamma=5, score=0.911, total=   0.4s\n",
      "[CV] C=0.2, gamma=10 .................................................\n",
      "[CV] ..................... C=0.2, gamma=10, score=0.910, total=   0.5s\n",
      "[CV] C=0.2, gamma=10 .................................................\n",
      "[CV] ..................... C=0.2, gamma=10, score=0.910, total=   0.5s\n",
      "[CV] C=0.2, gamma=10 .................................................\n",
      "[CV] ..................... C=0.2, gamma=10, score=0.911, total=   0.5s\n",
      "[CV] C=0.3, gamma=0.01 ...............................................\n",
      "[CV] ................... C=0.3, gamma=0.01, score=0.910, total=   0.1s\n",
      "[CV] C=0.3, gamma=0.01 ...............................................\n",
      "[CV] ................... C=0.3, gamma=0.01, score=0.910, total=   0.1s\n",
      "[CV] C=0.3, gamma=0.01 ...............................................\n",
      "[CV] ................... C=0.3, gamma=0.01, score=0.911, total=   0.1s\n",
      "[CV] C=0.3, gamma=0.1 ................................................\n",
      "[CV] .................... C=0.3, gamma=0.1, score=0.910, total=   0.1s\n",
      "[CV] C=0.3, gamma=0.1 ................................................\n",
      "[CV] .................... C=0.3, gamma=0.1, score=0.910, total=   0.1s\n",
      "[CV] C=0.3, gamma=0.1 ................................................\n",
      "[CV] .................... C=0.3, gamma=0.1, score=0.911, total=   0.1s\n",
      "[CV] C=0.3, gamma=0.2 ................................................\n",
      "[CV] .................... C=0.3, gamma=0.2, score=0.910, total=   0.1s\n",
      "[CV] C=0.3, gamma=0.2 ................................................\n",
      "[CV] .................... C=0.3, gamma=0.2, score=0.910, total=   0.1s\n",
      "[CV] C=0.3, gamma=0.2 ................................................\n",
      "[CV] .................... C=0.3, gamma=0.2, score=0.911, total=   0.1s\n",
      "[CV] C=0.3, gamma=0.3 ................................................\n",
      "[CV] .................... C=0.3, gamma=0.3, score=0.910, total=   0.3s\n",
      "[CV] C=0.3, gamma=0.3 ................................................\n",
      "[CV] .................... C=0.3, gamma=0.3, score=0.910, total=   0.4s\n",
      "[CV] C=0.3, gamma=0.3 ................................................\n",
      "[CV] .................... C=0.3, gamma=0.3, score=0.911, total=   0.3s\n",
      "[CV] C=0.3, gamma=1 ..................................................\n",
      "[CV] ...................... C=0.3, gamma=1, score=0.910, total=   0.4s\n",
      "[CV] C=0.3, gamma=1 ..................................................\n",
      "[CV] ...................... C=0.3, gamma=1, score=0.910, total=   0.4s\n",
      "[CV] C=0.3, gamma=1 ..................................................\n",
      "[CV] ...................... C=0.3, gamma=1, score=0.911, total=   0.4s\n",
      "[CV] C=0.3, gamma=2 ..................................................\n",
      "[CV] ...................... C=0.3, gamma=2, score=0.910, total=   0.4s\n",
      "[CV] C=0.3, gamma=2 ..................................................\n",
      "[CV] ...................... C=0.3, gamma=2, score=0.910, total=   0.4s\n",
      "[CV] C=0.3, gamma=2 ..................................................\n",
      "[CV] ...................... C=0.3, gamma=2, score=0.911, total=   0.4s\n",
      "[CV] C=0.3, gamma=3 ..................................................\n",
      "[CV] ...................... C=0.3, gamma=3, score=0.910, total=   0.4s\n",
      "[CV] C=0.3, gamma=3 ..................................................\n",
      "[CV] ...................... C=0.3, gamma=3, score=0.910, total=   0.4s\n",
      "[CV] C=0.3, gamma=3 ..................................................\n",
      "[CV] ...................... C=0.3, gamma=3, score=0.911, total=   0.4s\n",
      "[CV] C=0.3, gamma=4 ..................................................\n",
      "[CV] ...................... C=0.3, gamma=4, score=0.910, total=   0.4s\n",
      "[CV] C=0.3, gamma=4 ..................................................\n",
      "[CV] ...................... C=0.3, gamma=4, score=0.910, total=   0.5s\n",
      "[CV] C=0.3, gamma=4 ..................................................\n",
      "[CV] ...................... C=0.3, gamma=4, score=0.911, total=   0.4s\n",
      "[CV] C=0.3, gamma=5 ..................................................\n",
      "[CV] ...................... C=0.3, gamma=5, score=0.910, total=   0.4s\n",
      "[CV] C=0.3, gamma=5 ..................................................\n"
     ]
    },
    {
     "name": "stdout",
     "output_type": "stream",
     "text": [
      "[CV] ...................... C=0.3, gamma=5, score=0.910, total=   0.4s\n",
      "[CV] C=0.3, gamma=5 ..................................................\n",
      "[CV] ...................... C=0.3, gamma=5, score=0.911, total=   0.4s\n",
      "[CV] C=0.3, gamma=10 .................................................\n",
      "[CV] ..................... C=0.3, gamma=10, score=0.910, total=   0.5s\n",
      "[CV] C=0.3, gamma=10 .................................................\n",
      "[CV] ..................... C=0.3, gamma=10, score=0.910, total=   0.6s\n",
      "[CV] C=0.3, gamma=10 .................................................\n",
      "[CV] ..................... C=0.3, gamma=10, score=0.911, total=   0.5s\n",
      "[CV] C=1, gamma=0.01 .................................................\n",
      "[CV] ..................... C=1, gamma=0.01, score=0.910, total=   0.2s\n",
      "[CV] C=1, gamma=0.01 .................................................\n",
      "[CV] ..................... C=1, gamma=0.01, score=0.910, total=   0.2s\n",
      "[CV] C=1, gamma=0.01 .................................................\n",
      "[CV] ..................... C=1, gamma=0.01, score=0.911, total=   0.2s\n",
      "[CV] C=1, gamma=0.1 ..................................................\n",
      "[CV] ...................... C=1, gamma=0.1, score=0.910, total=   0.2s\n",
      "[CV] C=1, gamma=0.1 ..................................................\n",
      "[CV] ...................... C=1, gamma=0.1, score=0.910, total=   0.2s\n",
      "[CV] C=1, gamma=0.1 ..................................................\n",
      "[CV] ...................... C=1, gamma=0.1, score=0.911, total=   0.2s\n",
      "[CV] C=1, gamma=0.2 ..................................................\n",
      "[CV] ...................... C=1, gamma=0.2, score=0.909, total=   0.3s\n",
      "[CV] C=1, gamma=0.2 ..................................................\n",
      "[CV] ...................... C=1, gamma=0.2, score=0.910, total=   0.3s\n",
      "[CV] C=1, gamma=0.2 ..................................................\n",
      "[CV] ...................... C=1, gamma=0.2, score=0.911, total=   0.4s\n",
      "[CV] C=1, gamma=0.3 ..................................................\n",
      "[CV] ...................... C=1, gamma=0.3, score=0.910, total=   0.4s\n",
      "[CV] C=1, gamma=0.3 ..................................................\n",
      "[CV] ...................... C=1, gamma=0.3, score=0.910, total=   0.4s\n",
      "[CV] C=1, gamma=0.3 ..................................................\n",
      "[CV] ...................... C=1, gamma=0.3, score=0.911, total=   0.4s\n",
      "[CV] C=1, gamma=1 ....................................................\n",
      "[CV] ........................ C=1, gamma=1, score=0.910, total=   0.4s\n",
      "[CV] C=1, gamma=1 ....................................................\n",
      "[CV] ........................ C=1, gamma=1, score=0.910, total=   0.2s\n",
      "[CV] C=1, gamma=1 ....................................................\n",
      "[CV] ........................ C=1, gamma=1, score=0.911, total=   0.2s\n",
      "[CV] C=1, gamma=2 ....................................................\n",
      "[CV] ........................ C=1, gamma=2, score=0.910, total=   0.2s\n",
      "[CV] C=1, gamma=2 ....................................................\n",
      "[CV] ........................ C=1, gamma=2, score=0.910, total=   0.2s\n",
      "[CV] C=1, gamma=2 ....................................................\n",
      "[CV] ........................ C=1, gamma=2, score=0.911, total=   0.2s\n",
      "[CV] C=1, gamma=3 ....................................................\n",
      "[CV] ........................ C=1, gamma=3, score=0.910, total=   0.2s\n",
      "[CV] C=1, gamma=3 ....................................................\n",
      "[CV] ........................ C=1, gamma=3, score=0.910, total=   0.4s\n",
      "[CV] C=1, gamma=3 ....................................................\n",
      "[CV] ........................ C=1, gamma=3, score=0.911, total=   0.4s\n",
      "[CV] C=1, gamma=4 ....................................................\n",
      "[CV] ........................ C=1, gamma=4, score=0.910, total=   0.4s\n",
      "[CV] C=1, gamma=4 ....................................................\n",
      "[CV] ........................ C=1, gamma=4, score=0.910, total=   0.4s\n",
      "[CV] C=1, gamma=4 ....................................................\n",
      "[CV] ........................ C=1, gamma=4, score=0.911, total=   0.4s\n",
      "[CV] C=1, gamma=5 ....................................................\n",
      "[CV] ........................ C=1, gamma=5, score=0.910, total=   0.4s\n",
      "[CV] C=1, gamma=5 ....................................................\n",
      "[CV] ........................ C=1, gamma=5, score=0.910, total=   0.5s\n",
      "[CV] C=1, gamma=5 ....................................................\n",
      "[CV] ........................ C=1, gamma=5, score=0.911, total=   0.4s\n",
      "[CV] C=1, gamma=10 ...................................................\n",
      "[CV] ....................... C=1, gamma=10, score=0.910, total=   0.5s\n",
      "[CV] C=1, gamma=10 ...................................................\n",
      "[CV] ....................... C=1, gamma=10, score=0.910, total=   0.5s\n",
      "[CV] C=1, gamma=10 ...................................................\n",
      "[CV] ....................... C=1, gamma=10, score=0.911, total=   0.6s\n",
      "[CV] C=2, gamma=0.01 .................................................\n",
      "[CV] ..................... C=2, gamma=0.01, score=0.910, total=   0.2s\n",
      "[CV] C=2, gamma=0.01 .................................................\n",
      "[CV] ..................... C=2, gamma=0.01, score=0.910, total=   0.2s\n",
      "[CV] C=2, gamma=0.01 .................................................\n",
      "[CV] ..................... C=2, gamma=0.01, score=0.911, total=   0.2s\n",
      "[CV] C=2, gamma=0.1 ..................................................\n",
      "[CV] ...................... C=2, gamma=0.1, score=0.904, total=   0.2s\n",
      "[CV] C=2, gamma=0.1 ..................................................\n",
      "[CV] ...................... C=2, gamma=0.1, score=0.910, total=   0.2s\n",
      "[CV] C=2, gamma=0.1 ..................................................\n",
      "[CV] ...................... C=2, gamma=0.1, score=0.908, total=   0.2s\n",
      "[CV] C=2, gamma=0.2 ..................................................\n",
      "[CV] ...................... C=2, gamma=0.2, score=0.902, total=   0.3s\n",
      "[CV] C=2, gamma=0.2 ..................................................\n",
      "[CV] ...................... C=2, gamma=0.2, score=0.908, total=   0.4s\n",
      "[CV] C=2, gamma=0.2 ..................................................\n",
      "[CV] ...................... C=2, gamma=0.2, score=0.904, total=   0.4s\n",
      "[CV] C=2, gamma=0.3 ..................................................\n",
      "[CV] ...................... C=2, gamma=0.3, score=0.900, total=   0.4s\n",
      "[CV] C=2, gamma=0.3 ..................................................\n",
      "[CV] ...................... C=2, gamma=0.3, score=0.908, total=   0.4s\n",
      "[CV] C=2, gamma=0.3 ..................................................\n",
      "[CV] ...................... C=2, gamma=0.3, score=0.906, total=   0.4s\n",
      "[CV] C=2, gamma=1 ....................................................\n",
      "[CV] ........................ C=2, gamma=1, score=0.908, total=   0.4s\n",
      "[CV] C=2, gamma=1 ....................................................\n",
      "[CV] ........................ C=2, gamma=1, score=0.909, total=   0.4s\n",
      "[CV] C=2, gamma=1 ....................................................\n",
      "[CV] ........................ C=2, gamma=1, score=0.911, total=   0.4s\n",
      "[CV] C=2, gamma=2 ....................................................\n",
      "[CV] ........................ C=2, gamma=2, score=0.909, total=   0.4s\n",
      "[CV] C=2, gamma=2 ....................................................\n",
      "[CV] ........................ C=2, gamma=2, score=0.910, total=   0.4s\n",
      "[CV] C=2, gamma=2 ....................................................\n",
      "[CV] ........................ C=2, gamma=2, score=0.910, total=   0.4s\n",
      "[CV] C=2, gamma=3 ....................................................\n",
      "[CV] ........................ C=2, gamma=3, score=0.909, total=   0.4s\n",
      "[CV] C=2, gamma=3 ....................................................\n",
      "[CV] ........................ C=2, gamma=3, score=0.910, total=   0.4s\n",
      "[CV] C=2, gamma=3 ....................................................\n",
      "[CV] ........................ C=2, gamma=3, score=0.911, total=   0.4s\n",
      "[CV] C=2, gamma=4 ....................................................\n",
      "[CV] ........................ C=2, gamma=4, score=0.910, total=   0.4s\n",
      "[CV] C=2, gamma=4 ....................................................\n",
      "[CV] ........................ C=2, gamma=4, score=0.910, total=   0.4s\n",
      "[CV] C=2, gamma=4 ....................................................\n"
     ]
    },
    {
     "name": "stdout",
     "output_type": "stream",
     "text": [
      "[CV] ........................ C=2, gamma=4, score=0.911, total=   0.4s\n",
      "[CV] C=2, gamma=5 ....................................................\n",
      "[CV] ........................ C=2, gamma=5, score=0.910, total=   0.2s\n",
      "[CV] C=2, gamma=5 ....................................................\n",
      "[CV] ........................ C=2, gamma=5, score=0.910, total=   0.2s\n",
      "[CV] C=2, gamma=5 ....................................................\n",
      "[CV] ........................ C=2, gamma=5, score=0.911, total=   0.2s\n",
      "[CV] C=2, gamma=10 ...................................................\n",
      "[CV] ....................... C=2, gamma=10, score=0.910, total=   0.3s\n",
      "[CV] C=2, gamma=10 ...................................................\n",
      "[CV] ....................... C=2, gamma=10, score=0.910, total=   0.3s\n",
      "[CV] C=2, gamma=10 ...................................................\n",
      "[CV] ....................... C=2, gamma=10, score=0.911, total=   0.2s\n",
      "[CV] C=3, gamma=0.01 .................................................\n",
      "[CV] ..................... C=3, gamma=0.01, score=0.910, total=   0.1s\n",
      "[CV] C=3, gamma=0.01 .................................................\n",
      "[CV] ..................... C=3, gamma=0.01, score=0.910, total=   0.1s\n",
      "[CV] C=3, gamma=0.01 .................................................\n",
      "[CV] ..................... C=3, gamma=0.01, score=0.911, total=   0.1s\n",
      "[CV] C=3, gamma=0.1 ..................................................\n",
      "[CV] ...................... C=3, gamma=0.1, score=0.900, total=   0.1s\n",
      "[CV] C=3, gamma=0.1 ..................................................\n",
      "[CV] ...................... C=3, gamma=0.1, score=0.903, total=   0.1s\n",
      "[CV] C=3, gamma=0.1 ..................................................\n",
      "[CV] ...................... C=3, gamma=0.1, score=0.904, total=   0.1s\n",
      "[CV] C=3, gamma=0.2 ..................................................\n",
      "[CV] ...................... C=3, gamma=0.2, score=0.897, total=   0.2s\n",
      "[CV] C=3, gamma=0.2 ..................................................\n",
      "[CV] ...................... C=3, gamma=0.2, score=0.904, total=   0.3s\n",
      "[CV] C=3, gamma=0.2 ..................................................\n",
      "[CV] ...................... C=3, gamma=0.2, score=0.900, total=   0.3s\n",
      "[CV] C=3, gamma=0.3 ..................................................\n",
      "[CV] ...................... C=3, gamma=0.3, score=0.898, total=   0.4s\n",
      "[CV] C=3, gamma=0.3 ..................................................\n",
      "[CV] ...................... C=3, gamma=0.3, score=0.907, total=   0.4s\n",
      "[CV] C=3, gamma=0.3 ..................................................\n",
      "[CV] ...................... C=3, gamma=0.3, score=0.903, total=   0.4s\n",
      "[CV] C=3, gamma=1 ....................................................\n",
      "[CV] ........................ C=3, gamma=1, score=0.908, total=   0.4s\n",
      "[CV] C=3, gamma=1 ....................................................\n",
      "[CV] ........................ C=3, gamma=1, score=0.909, total=   0.4s\n",
      "[CV] C=3, gamma=1 ....................................................\n",
      "[CV] ........................ C=3, gamma=1, score=0.913, total=   0.4s\n",
      "[CV] C=3, gamma=2 ....................................................\n",
      "[CV] ........................ C=3, gamma=2, score=0.909, total=   0.4s\n",
      "[CV] C=3, gamma=2 ....................................................\n",
      "[CV] ........................ C=3, gamma=2, score=0.910, total=   0.4s\n",
      "[CV] C=3, gamma=2 ....................................................\n",
      "[CV] ........................ C=3, gamma=2, score=0.910, total=   0.4s\n",
      "[CV] C=3, gamma=3 ....................................................\n",
      "[CV] ........................ C=3, gamma=3, score=0.909, total=   0.4s\n",
      "[CV] C=3, gamma=3 ....................................................\n",
      "[CV] ........................ C=3, gamma=3, score=0.910, total=   0.4s\n",
      "[CV] C=3, gamma=3 ....................................................\n",
      "[CV] ........................ C=3, gamma=3, score=0.911, total=   0.4s\n",
      "[CV] C=3, gamma=4 ....................................................\n",
      "[CV] ........................ C=3, gamma=4, score=0.910, total=   0.4s\n",
      "[CV] C=3, gamma=4 ....................................................\n",
      "[CV] ........................ C=3, gamma=4, score=0.910, total=   0.4s\n",
      "[CV] C=3, gamma=4 ....................................................\n",
      "[CV] ........................ C=3, gamma=4, score=0.911, total=   0.4s\n",
      "[CV] C=3, gamma=5 ....................................................\n",
      "[CV] ........................ C=3, gamma=5, score=0.910, total=   0.4s\n",
      "[CV] C=3, gamma=5 ....................................................\n",
      "[CV] ........................ C=3, gamma=5, score=0.910, total=   0.4s\n",
      "[CV] C=3, gamma=5 ....................................................\n",
      "[CV] ........................ C=3, gamma=5, score=0.911, total=   0.4s\n",
      "[CV] C=3, gamma=10 ...................................................\n",
      "[CV] ....................... C=3, gamma=10, score=0.910, total=   0.6s\n",
      "[CV] C=3, gamma=10 ...................................................\n",
      "[CV] ....................... C=3, gamma=10, score=0.910, total=   0.6s\n",
      "[CV] C=3, gamma=10 ...................................................\n",
      "[CV] ....................... C=3, gamma=10, score=0.911, total=   0.6s\n",
      "[CV] C=4, gamma=0.01 .................................................\n",
      "[CV] ..................... C=4, gamma=0.01, score=0.910, total=   0.2s\n",
      "[CV] C=4, gamma=0.01 .................................................\n",
      "[CV] ..................... C=4, gamma=0.01, score=0.910, total=   0.2s\n",
      "[CV] C=4, gamma=0.01 .................................................\n",
      "[CV] ..................... C=4, gamma=0.01, score=0.911, total=   0.2s\n",
      "[CV] C=4, gamma=0.1 ..................................................\n",
      "[CV] ...................... C=4, gamma=0.1, score=0.895, total=   0.2s\n",
      "[CV] C=4, gamma=0.1 ..................................................\n",
      "[CV] ...................... C=4, gamma=0.1, score=0.900, total=   0.2s\n",
      "[CV] C=4, gamma=0.1 ..................................................\n",
      "[CV] ...................... C=4, gamma=0.1, score=0.894, total=   0.2s\n",
      "[CV] C=4, gamma=0.2 ..................................................\n",
      "[CV] ...................... C=4, gamma=0.2, score=0.897, total=   0.3s\n",
      "[CV] C=4, gamma=0.2 ..................................................\n",
      "[CV] ...................... C=4, gamma=0.2, score=0.904, total=   0.3s\n",
      "[CV] C=4, gamma=0.2 ..................................................\n",
      "[CV] ...................... C=4, gamma=0.2, score=0.898, total=   0.3s\n",
      "[CV] C=4, gamma=0.3 ..................................................\n",
      "[CV] ...................... C=4, gamma=0.3, score=0.898, total=   0.3s\n",
      "[CV] C=4, gamma=0.3 ..................................................\n",
      "[CV] ...................... C=4, gamma=0.3, score=0.903, total=   0.2s\n",
      "[CV] C=4, gamma=0.3 ..................................................\n",
      "[CV] ...................... C=4, gamma=0.3, score=0.901, total=   0.2s\n",
      "[CV] C=4, gamma=1 ....................................................\n",
      "[CV] ........................ C=4, gamma=1, score=0.908, total=   0.2s\n",
      "[CV] C=4, gamma=1 ....................................................\n",
      "[CV] ........................ C=4, gamma=1, score=0.909, total=   0.2s\n",
      "[CV] C=4, gamma=1 ....................................................\n",
      "[CV] ........................ C=4, gamma=1, score=0.913, total=   0.2s\n",
      "[CV] C=4, gamma=2 ....................................................\n",
      "[CV] ........................ C=4, gamma=2, score=0.909, total=   0.3s\n",
      "[CV] C=4, gamma=2 ....................................................\n",
      "[CV] ........................ C=4, gamma=2, score=0.910, total=   0.4s\n",
      "[CV] C=4, gamma=2 ....................................................\n",
      "[CV] ........................ C=4, gamma=2, score=0.910, total=   0.4s\n",
      "[CV] C=4, gamma=3 ....................................................\n",
      "[CV] ........................ C=4, gamma=3, score=0.909, total=   0.5s\n",
      "[CV] C=4, gamma=3 ....................................................\n",
      "[CV] ........................ C=4, gamma=3, score=0.910, total=   0.4s\n",
      "[CV] C=4, gamma=3 ....................................................\n",
      "[CV] ........................ C=4, gamma=3, score=0.911, total=   0.4s\n",
      "[CV] C=4, gamma=4 ....................................................\n"
     ]
    },
    {
     "name": "stdout",
     "output_type": "stream",
     "text": [
      "[CV] ........................ C=4, gamma=4, score=0.910, total=   0.4s\n",
      "[CV] C=4, gamma=4 ....................................................\n",
      "[CV] ........................ C=4, gamma=4, score=0.910, total=   0.4s\n",
      "[CV] C=4, gamma=4 ....................................................\n",
      "[CV] ........................ C=4, gamma=4, score=0.911, total=   0.4s\n",
      "[CV] C=4, gamma=5 ....................................................\n",
      "[CV] ........................ C=4, gamma=5, score=0.910, total=   0.4s\n",
      "[CV] C=4, gamma=5 ....................................................\n",
      "[CV] ........................ C=4, gamma=5, score=0.910, total=   0.4s\n",
      "[CV] C=4, gamma=5 ....................................................\n",
      "[CV] ........................ C=4, gamma=5, score=0.911, total=   0.4s\n",
      "[CV] C=4, gamma=10 ...................................................\n",
      "[CV] ....................... C=4, gamma=10, score=0.910, total=   0.6s\n",
      "[CV] C=4, gamma=10 ...................................................\n",
      "[CV] ....................... C=4, gamma=10, score=0.910, total=   0.6s\n",
      "[CV] C=4, gamma=10 ...................................................\n",
      "[CV] ....................... C=4, gamma=10, score=0.911, total=   0.6s\n",
      "[CV] C=5, gamma=0.01 .................................................\n",
      "[CV] ..................... C=5, gamma=0.01, score=0.910, total=   0.2s\n",
      "[CV] C=5, gamma=0.01 .................................................\n",
      "[CV] ..................... C=5, gamma=0.01, score=0.910, total=   0.2s\n",
      "[CV] C=5, gamma=0.01 .................................................\n",
      "[CV] ..................... C=5, gamma=0.01, score=0.911, total=   0.2s\n",
      "[CV] C=5, gamma=0.1 ..................................................\n",
      "[CV] ...................... C=5, gamma=0.1, score=0.894, total=   0.2s\n",
      "[CV] C=5, gamma=0.1 ..................................................\n",
      "[CV] ...................... C=5, gamma=0.1, score=0.893, total=   0.2s\n",
      "[CV] C=5, gamma=0.1 ..................................................\n",
      "[CV] ...................... C=5, gamma=0.1, score=0.889, total=   0.2s\n",
      "[CV] C=5, gamma=0.2 ..................................................\n",
      "[CV] ...................... C=5, gamma=0.2, score=0.898, total=   0.3s\n",
      "[CV] C=5, gamma=0.2 ..................................................\n",
      "[CV] ...................... C=5, gamma=0.2, score=0.899, total=   0.2s\n",
      "[CV] C=5, gamma=0.2 ..................................................\n",
      "[CV] ...................... C=5, gamma=0.2, score=0.895, total=   0.1s\n",
      "[CV] C=5, gamma=0.3 ..................................................\n",
      "[CV] ...................... C=5, gamma=0.3, score=0.898, total=   0.2s\n",
      "[CV] C=5, gamma=0.3 ..................................................\n",
      "[CV] ...................... C=5, gamma=0.3, score=0.904, total=   0.2s\n",
      "[CV] C=5, gamma=0.3 ..................................................\n",
      "[CV] ...................... C=5, gamma=0.3, score=0.900, total=   0.2s\n",
      "[CV] C=5, gamma=1 ....................................................\n",
      "[CV] ........................ C=5, gamma=1, score=0.908, total=   0.2s\n",
      "[CV] C=5, gamma=1 ....................................................\n",
      "[CV] ........................ C=5, gamma=1, score=0.909, total=   0.3s\n",
      "[CV] C=5, gamma=1 ....................................................\n",
      "[CV] ........................ C=5, gamma=1, score=0.913, total=   0.4s\n",
      "[CV] C=5, gamma=2 ....................................................\n",
      "[CV] ........................ C=5, gamma=2, score=0.909, total=   0.4s\n",
      "[CV] C=5, gamma=2 ....................................................\n",
      "[CV] ........................ C=5, gamma=2, score=0.910, total=   0.4s\n",
      "[CV] C=5, gamma=2 ....................................................\n",
      "[CV] ........................ C=5, gamma=2, score=0.910, total=   0.4s\n",
      "[CV] C=5, gamma=3 ....................................................\n",
      "[CV] ........................ C=5, gamma=3, score=0.909, total=   0.4s\n",
      "[CV] C=5, gamma=3 ....................................................\n",
      "[CV] ........................ C=5, gamma=3, score=0.910, total=   0.4s\n",
      "[CV] C=5, gamma=3 ....................................................\n",
      "[CV] ........................ C=5, gamma=3, score=0.911, total=   0.4s\n",
      "[CV] C=5, gamma=4 ....................................................\n",
      "[CV] ........................ C=5, gamma=4, score=0.910, total=   0.4s\n",
      "[CV] C=5, gamma=4 ....................................................\n",
      "[CV] ........................ C=5, gamma=4, score=0.910, total=   0.4s\n",
      "[CV] C=5, gamma=4 ....................................................\n",
      "[CV] ........................ C=5, gamma=4, score=0.911, total=   0.4s\n",
      "[CV] C=5, gamma=5 ....................................................\n",
      "[CV] ........................ C=5, gamma=5, score=0.910, total=   0.4s\n",
      "[CV] C=5, gamma=5 ....................................................\n",
      "[CV] ........................ C=5, gamma=5, score=0.910, total=   0.4s\n",
      "[CV] C=5, gamma=5 ....................................................\n",
      "[CV] ........................ C=5, gamma=5, score=0.911, total=   0.2s\n",
      "[CV] C=5, gamma=10 ...................................................\n",
      "[CV] ....................... C=5, gamma=10, score=0.910, total=   0.2s\n",
      "[CV] C=5, gamma=10 ...................................................\n",
      "[CV] ....................... C=5, gamma=10, score=0.910, total=   0.3s\n",
      "[CV] C=5, gamma=10 ...................................................\n",
      "[CV] ....................... C=5, gamma=10, score=0.911, total=   0.2s\n",
      "[CV] C=10, gamma=0.01 ................................................\n",
      "[CV] .................... C=10, gamma=0.01, score=0.910, total=   0.1s\n",
      "[CV] C=10, gamma=0.01 ................................................\n",
      "[CV] .................... C=10, gamma=0.01, score=0.910, total=   0.2s\n",
      "[CV] C=10, gamma=0.01 ................................................\n",
      "[CV] .................... C=10, gamma=0.01, score=0.911, total=   0.2s\n",
      "[CV] C=10, gamma=0.1 .................................................\n",
      "[CV] ..................... C=10, gamma=0.1, score=0.885, total=   0.2s\n",
      "[CV] C=10, gamma=0.1 .................................................\n",
      "[CV] ..................... C=10, gamma=0.1, score=0.883, total=   0.2s\n",
      "[CV] C=10, gamma=0.1 .................................................\n",
      "[CV] ..................... C=10, gamma=0.1, score=0.877, total=   0.2s\n",
      "[CV] C=10, gamma=0.2 .................................................\n",
      "[CV] ..................... C=10, gamma=0.2, score=0.895, total=   0.3s\n",
      "[CV] C=10, gamma=0.2 .................................................\n",
      "[CV] ..................... C=10, gamma=0.2, score=0.894, total=   0.3s\n",
      "[CV] C=10, gamma=0.2 .................................................\n",
      "[CV] ..................... C=10, gamma=0.2, score=0.893, total=   0.3s\n",
      "[CV] C=10, gamma=0.3 .................................................\n",
      "[CV] ..................... C=10, gamma=0.3, score=0.898, total=   0.4s\n",
      "[CV] C=10, gamma=0.3 .................................................\n",
      "[CV] ..................... C=10, gamma=0.3, score=0.902, total=   0.4s\n",
      "[CV] C=10, gamma=0.3 .................................................\n",
      "[CV] ..................... C=10, gamma=0.3, score=0.899, total=   0.4s\n",
      "[CV] C=10, gamma=1 ...................................................\n",
      "[CV] ....................... C=10, gamma=1, score=0.908, total=   0.4s\n",
      "[CV] C=10, gamma=1 ...................................................\n",
      "[CV] ....................... C=10, gamma=1, score=0.909, total=   0.4s\n",
      "[CV] C=10, gamma=1 ...................................................\n",
      "[CV] ....................... C=10, gamma=1, score=0.913, total=   0.4s\n",
      "[CV] C=10, gamma=2 ...................................................\n",
      "[CV] ....................... C=10, gamma=2, score=0.909, total=   0.4s\n",
      "[CV] C=10, gamma=2 ...................................................\n",
      "[CV] ....................... C=10, gamma=2, score=0.910, total=   0.3s\n",
      "[CV] C=10, gamma=2 ...................................................\n",
      "[CV] ....................... C=10, gamma=2, score=0.910, total=   0.2s\n",
      "[CV] C=10, gamma=3 ...................................................\n",
      "[CV] ....................... C=10, gamma=3, score=0.909, total=   0.2s\n",
      "[CV] C=10, gamma=3 ...................................................\n",
      "[CV] ....................... C=10, gamma=3, score=0.910, total=   0.2s\n",
      "[CV] C=10, gamma=3 ...................................................\n"
     ]
    },
    {
     "name": "stdout",
     "output_type": "stream",
     "text": [
      "[CV] ....................... C=10, gamma=3, score=0.911, total=   0.2s\n",
      "[CV] C=10, gamma=4 ...................................................\n",
      "[CV] ....................... C=10, gamma=4, score=0.910, total=   0.2s\n",
      "[CV] C=10, gamma=4 ...................................................\n",
      "[CV] ....................... C=10, gamma=4, score=0.910, total=   0.4s\n",
      "[CV] C=10, gamma=4 ...................................................\n",
      "[CV] ....................... C=10, gamma=4, score=0.911, total=   0.4s\n",
      "[CV] C=10, gamma=5 ...................................................\n",
      "[CV] ....................... C=10, gamma=5, score=0.910, total=   0.4s\n",
      "[CV] C=10, gamma=5 ...................................................\n",
      "[CV] ....................... C=10, gamma=5, score=0.910, total=   0.4s\n",
      "[CV] C=10, gamma=5 ...................................................\n",
      "[CV] ....................... C=10, gamma=5, score=0.911, total=   0.4s\n",
      "[CV] C=10, gamma=10 ..................................................\n",
      "[CV] ...................... C=10, gamma=10, score=0.910, total=   0.6s\n",
      "[CV] C=10, gamma=10 ..................................................\n",
      "[CV] ...................... C=10, gamma=10, score=0.910, total=   0.6s\n",
      "[CV] C=10, gamma=10 ..................................................\n",
      "[CV] ...................... C=10, gamma=10, score=0.911, total=   0.6s\n"
     ]
    },
    {
     "name": "stderr",
     "output_type": "stream",
     "text": [
      "[Parallel(n_jobs=1)]: Done 300 out of 300 | elapsed:  1.5min finished\n"
     ]
    }
   ],
   "source": [
    "from sklearn.metrics import precision_recall_curve\n",
    "from sklearn.svm import SVC\n",
    "\n",
    "param_grid = {'C' : [0.01,0.1,0.2,0.3,1,2,3,4,5,10] , 'gamma' : [0.01,0.1,0.2,0.3,1,2,3,4,5,10]}\n",
    "\n",
    "svc= GridSearchCV(SVC(kernel = 'rbf' ), param_grid , verbose=3)\n",
    "\n",
    "svc.fit(X_train_reduced, y_train)\n",
    "\n",
    "svc_grid_predictions=svc.predict(X_test_reduced)"
   ]
  },
  {
   "cell_type": "code",
   "execution_count": 109,
   "metadata": {},
   "outputs": [
    {
     "data": {
      "text/plain": [
       "{'C': 0.01, 'gamma': 0.01}"
      ]
     },
     "execution_count": 109,
     "metadata": {},
     "output_type": "execute_result"
    }
   ],
   "source": [
    "svc.best_params_"
   ]
  },
  {
   "cell_type": "code",
   "execution_count": 110,
   "metadata": {},
   "outputs": [
    {
     "data": {
      "text/plain": [
       "SVC(C=0.01, cache_size=200, class_weight=None, coef0=0.0,\n",
       "    decision_function_shape='ovr', degree=3, gamma=0.01, kernel='rbf',\n",
       "    max_iter=-1, probability=False, random_state=None, shrinking=True,\n",
       "    tol=0.001, verbose=False)"
      ]
     },
     "execution_count": 110,
     "metadata": {},
     "output_type": "execute_result"
    }
   ],
   "source": [
    "svc.best_estimator_"
   ]
  },
  {
   "cell_type": "code",
   "execution_count": 111,
   "metadata": {},
   "outputs": [
    {
     "name": "stdout",
     "output_type": "stream",
     "text": [
      "Confusion Matrix is: \n",
      "[[539   0]\n",
      " [ 63   0]]\n"
     ]
    }
   ],
   "source": [
    "print(\"Confusion Matrix is: \")\n",
    "print(confusion_matrix(y_test,svc_grid_predictions))"
   ]
  },
  {
   "cell_type": "code",
   "execution_count": 112,
   "metadata": {},
   "outputs": [
    {
     "name": "stdout",
     "output_type": "stream",
     "text": [
      "Classification Report is: \n",
      "              precision    recall  f1-score   support\n",
      "\n",
      "           0       0.90      1.00      0.94       539\n",
      "           1       0.00      0.00      0.00        63\n",
      "\n",
      "    accuracy                           0.90       602\n",
      "   macro avg       0.45      0.50      0.47       602\n",
      "weighted avg       0.80      0.90      0.85       602\n",
      "\n"
     ]
    },
    {
     "name": "stderr",
     "output_type": "stream",
     "text": [
      "c:\\users\\uday kumar reddy\\appdata\\local\\programs\\python\\python36\\lib\\site-packages\\sklearn\\metrics\\classification.py:1437: UndefinedMetricWarning: Precision and F-score are ill-defined and being set to 0.0 in labels with no predicted samples.\n",
      "  'precision', 'predicted', average, warn_for)\n",
      "c:\\users\\uday kumar reddy\\appdata\\local\\programs\\python\\python36\\lib\\site-packages\\sklearn\\metrics\\classification.py:1437: UndefinedMetricWarning: Precision and F-score are ill-defined and being set to 0.0 in labels with no predicted samples.\n",
      "  'precision', 'predicted', average, warn_for)\n",
      "c:\\users\\uday kumar reddy\\appdata\\local\\programs\\python\\python36\\lib\\site-packages\\sklearn\\metrics\\classification.py:1437: UndefinedMetricWarning: Precision and F-score are ill-defined and being set to 0.0 in labels with no predicted samples.\n",
      "  'precision', 'predicted', average, warn_for)\n"
     ]
    }
   ],
   "source": [
    "print(\"Classification Report is: \")\n",
    "print(classification_report(y_test,svc_grid_predictions))"
   ]
  },
  {
   "cell_type": "markdown",
   "metadata": {},
   "source": [
    "## Logistic Regression"
   ]
  },
  {
   "cell_type": "code",
   "execution_count": 113,
   "metadata": {},
   "outputs": [
    {
     "name": "stderr",
     "output_type": "stream",
     "text": [
      "c:\\users\\uday kumar reddy\\appdata\\local\\programs\\python\\python36\\lib\\site-packages\\sklearn\\model_selection\\_split.py:1978: FutureWarning: The default value of cv will change from 3 to 5 in version 0.22. Specify it explicitly to silence this warning.\n",
      "  warnings.warn(CV_WARNING, FutureWarning)\n",
      "[Parallel(n_jobs=1)]: Using backend SequentialBackend with 1 concurrent workers.\n",
      "c:\\users\\uday kumar reddy\\appdata\\local\\programs\\python\\python36\\lib\\site-packages\\sklearn\\linear_model\\logistic.py:432: FutureWarning: Default solver will be changed to 'lbfgs' in 0.22. Specify a solver to silence this warning.\n",
      "  FutureWarning)\n",
      "[Parallel(n_jobs=1)]: Done   1 out of   1 | elapsed:    0.0s remaining:    0.0s\n",
      "c:\\users\\uday kumar reddy\\appdata\\local\\programs\\python\\python36\\lib\\site-packages\\sklearn\\linear_model\\logistic.py:432: FutureWarning: Default solver will be changed to 'lbfgs' in 0.22. Specify a solver to silence this warning.\n",
      "  FutureWarning)\n",
      "[Parallel(n_jobs=1)]: Done   2 out of   2 | elapsed:    0.0s remaining:    0.0s\n",
      "c:\\users\\uday kumar reddy\\appdata\\local\\programs\\python\\python36\\lib\\site-packages\\sklearn\\linear_model\\logistic.py:432: FutureWarning: Default solver will be changed to 'lbfgs' in 0.22. Specify a solver to silence this warning.\n",
      "  FutureWarning)\n",
      "c:\\users\\uday kumar reddy\\appdata\\local\\programs\\python\\python36\\lib\\site-packages\\sklearn\\linear_model\\logistic.py:432: FutureWarning: Default solver will be changed to 'lbfgs' in 0.22. Specify a solver to silence this warning.\n",
      "  FutureWarning)\n",
      "c:\\users\\uday kumar reddy\\appdata\\local\\programs\\python\\python36\\lib\\site-packages\\sklearn\\linear_model\\logistic.py:432: FutureWarning: Default solver will be changed to 'lbfgs' in 0.22. Specify a solver to silence this warning.\n",
      "  FutureWarning)\n",
      "c:\\users\\uday kumar reddy\\appdata\\local\\programs\\python\\python36\\lib\\site-packages\\sklearn\\linear_model\\logistic.py:432: FutureWarning: Default solver will be changed to 'lbfgs' in 0.22. Specify a solver to silence this warning.\n",
      "  FutureWarning)\n",
      "c:\\users\\uday kumar reddy\\appdata\\local\\programs\\python\\python36\\lib\\site-packages\\sklearn\\linear_model\\logistic.py:432: FutureWarning: Default solver will be changed to 'lbfgs' in 0.22. Specify a solver to silence this warning.\n",
      "  FutureWarning)\n",
      "c:\\users\\uday kumar reddy\\appdata\\local\\programs\\python\\python36\\lib\\site-packages\\sklearn\\linear_model\\logistic.py:432: FutureWarning: Default solver will be changed to 'lbfgs' in 0.22. Specify a solver to silence this warning.\n",
      "  FutureWarning)\n",
      "c:\\users\\uday kumar reddy\\appdata\\local\\programs\\python\\python36\\lib\\site-packages\\sklearn\\linear_model\\logistic.py:432: FutureWarning: Default solver will be changed to 'lbfgs' in 0.22. Specify a solver to silence this warning.\n",
      "  FutureWarning)\n",
      "c:\\users\\uday kumar reddy\\appdata\\local\\programs\\python\\python36\\lib\\site-packages\\sklearn\\linear_model\\logistic.py:432: FutureWarning: Default solver will be changed to 'lbfgs' in 0.22. Specify a solver to silence this warning.\n",
      "  FutureWarning)\n",
      "c:\\users\\uday kumar reddy\\appdata\\local\\programs\\python\\python36\\lib\\site-packages\\sklearn\\linear_model\\logistic.py:432: FutureWarning: Default solver will be changed to 'lbfgs' in 0.22. Specify a solver to silence this warning.\n",
      "  FutureWarning)\n",
      "c:\\users\\uday kumar reddy\\appdata\\local\\programs\\python\\python36\\lib\\site-packages\\sklearn\\linear_model\\logistic.py:432: FutureWarning: Default solver will be changed to 'lbfgs' in 0.22. Specify a solver to silence this warning.\n",
      "  FutureWarning)\n",
      "c:\\users\\uday kumar reddy\\appdata\\local\\programs\\python\\python36\\lib\\site-packages\\sklearn\\linear_model\\logistic.py:432: FutureWarning: Default solver will be changed to 'lbfgs' in 0.22. Specify a solver to silence this warning.\n",
      "  FutureWarning)\n",
      "c:\\users\\uday kumar reddy\\appdata\\local\\programs\\python\\python36\\lib\\site-packages\\sklearn\\linear_model\\logistic.py:432: FutureWarning: Default solver will be changed to 'lbfgs' in 0.22. Specify a solver to silence this warning.\n",
      "  FutureWarning)\n",
      "c:\\users\\uday kumar reddy\\appdata\\local\\programs\\python\\python36\\lib\\site-packages\\sklearn\\linear_model\\logistic.py:432: FutureWarning: Default solver will be changed to 'lbfgs' in 0.22. Specify a solver to silence this warning.\n",
      "  FutureWarning)\n",
      "c:\\users\\uday kumar reddy\\appdata\\local\\programs\\python\\python36\\lib\\site-packages\\sklearn\\linear_model\\logistic.py:432: FutureWarning: Default solver will be changed to 'lbfgs' in 0.22. Specify a solver to silence this warning.\n",
      "  FutureWarning)\n",
      "c:\\users\\uday kumar reddy\\appdata\\local\\programs\\python\\python36\\lib\\site-packages\\sklearn\\linear_model\\logistic.py:432: FutureWarning: Default solver will be changed to 'lbfgs' in 0.22. Specify a solver to silence this warning.\n",
      "  FutureWarning)\n",
      "c:\\users\\uday kumar reddy\\appdata\\local\\programs\\python\\python36\\lib\\site-packages\\sklearn\\linear_model\\logistic.py:432: FutureWarning: Default solver will be changed to 'lbfgs' in 0.22. Specify a solver to silence this warning.\n",
      "  FutureWarning)\n",
      "c:\\users\\uday kumar reddy\\appdata\\local\\programs\\python\\python36\\lib\\site-packages\\sklearn\\linear_model\\logistic.py:432: FutureWarning: Default solver will be changed to 'lbfgs' in 0.22. Specify a solver to silence this warning.\n",
      "  FutureWarning)\n",
      "c:\\users\\uday kumar reddy\\appdata\\local\\programs\\python\\python36\\lib\\site-packages\\sklearn\\linear_model\\logistic.py:432: FutureWarning: Default solver will be changed to 'lbfgs' in 0.22. Specify a solver to silence this warning.\n",
      "  FutureWarning)\n",
      "c:\\users\\uday kumar reddy\\appdata\\local\\programs\\python\\python36\\lib\\site-packages\\sklearn\\linear_model\\logistic.py:432: FutureWarning: Default solver will be changed to 'lbfgs' in 0.22. Specify a solver to silence this warning.\n",
      "  FutureWarning)\n",
      "c:\\users\\uday kumar reddy\\appdata\\local\\programs\\python\\python36\\lib\\site-packages\\sklearn\\linear_model\\logistic.py:432: FutureWarning: Default solver will be changed to 'lbfgs' in 0.22. Specify a solver to silence this warning.\n",
      "  FutureWarning)\n",
      "c:\\users\\uday kumar reddy\\appdata\\local\\programs\\python\\python36\\lib\\site-packages\\sklearn\\linear_model\\logistic.py:432: FutureWarning: Default solver will be changed to 'lbfgs' in 0.22. Specify a solver to silence this warning.\n",
      "  FutureWarning)\n",
      "c:\\users\\uday kumar reddy\\appdata\\local\\programs\\python\\python36\\lib\\site-packages\\sklearn\\linear_model\\logistic.py:432: FutureWarning: Default solver will be changed to 'lbfgs' in 0.22. Specify a solver to silence this warning.\n",
      "  FutureWarning)\n",
      "c:\\users\\uday kumar reddy\\appdata\\local\\programs\\python\\python36\\lib\\site-packages\\sklearn\\linear_model\\logistic.py:432: FutureWarning: Default solver will be changed to 'lbfgs' in 0.22. Specify a solver to silence this warning.\n",
      "  FutureWarning)\n",
      "c:\\users\\uday kumar reddy\\appdata\\local\\programs\\python\\python36\\lib\\site-packages\\sklearn\\linear_model\\logistic.py:432: FutureWarning: Default solver will be changed to 'lbfgs' in 0.22. Specify a solver to silence this warning.\n",
      "  FutureWarning)\n",
      "c:\\users\\uday kumar reddy\\appdata\\local\\programs\\python\\python36\\lib\\site-packages\\sklearn\\linear_model\\logistic.py:432: FutureWarning: Default solver will be changed to 'lbfgs' in 0.22. Specify a solver to silence this warning.\n",
      "  FutureWarning)\n",
      "c:\\users\\uday kumar reddy\\appdata\\local\\programs\\python\\python36\\lib\\site-packages\\sklearn\\linear_model\\logistic.py:432: FutureWarning: Default solver will be changed to 'lbfgs' in 0.22. Specify a solver to silence this warning.\n",
      "  FutureWarning)\n",
      "c:\\users\\uday kumar reddy\\appdata\\local\\programs\\python\\python36\\lib\\site-packages\\sklearn\\linear_model\\logistic.py:432: FutureWarning: Default solver will be changed to 'lbfgs' in 0.22. Specify a solver to silence this warning.\n",
      "  FutureWarning)\n",
      "c:\\users\\uday kumar reddy\\appdata\\local\\programs\\python\\python36\\lib\\site-packages\\sklearn\\linear_model\\logistic.py:432: FutureWarning: Default solver will be changed to 'lbfgs' in 0.22. Specify a solver to silence this warning.\n",
      "  FutureWarning)\n",
      "c:\\users\\uday kumar reddy\\appdata\\local\\programs\\python\\python36\\lib\\site-packages\\sklearn\\linear_model\\logistic.py:432: FutureWarning: Default solver will be changed to 'lbfgs' in 0.22. Specify a solver to silence this warning.\n",
      "  FutureWarning)\n"
     ]
    },
    {
     "name": "stdout",
     "output_type": "stream",
     "text": [
      "Fitting 3 folds for each of 20 candidates, totalling 60 fits\n",
      "[CV] C=0.01, penalty=l1 ..............................................\n",
      "[CV] .................. C=0.01, penalty=l1, score=0.910, total=   0.0s\n",
      "[CV] C=0.01, penalty=l1 ..............................................\n",
      "[CV] .................. C=0.01, penalty=l1, score=0.910, total=   0.0s\n",
      "[CV] C=0.01, penalty=l1 ..............................................\n",
      "[CV] .................. C=0.01, penalty=l1, score=0.911, total=   0.0s\n",
      "[CV] C=0.01, penalty=l2 ..............................................\n",
      "[CV] .................. C=0.01, penalty=l2, score=0.910, total=   0.0s\n",
      "[CV] C=0.01, penalty=l2 ..............................................\n",
      "[CV] .................. C=0.01, penalty=l2, score=0.910, total=   0.0s\n",
      "[CV] C=0.01, penalty=l2 ..............................................\n",
      "[CV] .................. C=0.01, penalty=l2, score=0.911, total=   0.0s\n",
      "[CV] C=0.1, penalty=l1 ...............................................\n",
      "[CV] ................... C=0.1, penalty=l1, score=0.910, total=   0.0s\n",
      "[CV] C=0.1, penalty=l1 ...............................................\n",
      "[CV] ................... C=0.1, penalty=l1, score=0.910, total=   0.0s\n",
      "[CV] C=0.1, penalty=l1 ...............................................\n",
      "[CV] ................... C=0.1, penalty=l1, score=0.911, total=   0.0s\n",
      "[CV] C=0.1, penalty=l2 ...............................................\n",
      "[CV] ................... C=0.1, penalty=l2, score=0.910, total=   0.0s\n",
      "[CV] C=0.1, penalty=l2 ...............................................\n",
      "[CV] ................... C=0.1, penalty=l2, score=0.910, total=   0.0s\n",
      "[CV] C=0.1, penalty=l2 ...............................................\n",
      "[CV] ................... C=0.1, penalty=l2, score=0.911, total=   0.0s\n",
      "[CV] C=0.2, penalty=l1 ...............................................\n",
      "[CV] ................... C=0.2, penalty=l1, score=0.910, total=   0.0s\n",
      "[CV] C=0.2, penalty=l1 ...............................................\n",
      "[CV] ................... C=0.2, penalty=l1, score=0.910, total=   0.0s\n",
      "[CV] C=0.2, penalty=l1 ...............................................\n",
      "[CV] ................... C=0.2, penalty=l1, score=0.911, total=   0.0s\n",
      "[CV] C=0.2, penalty=l2 ...............................................\n",
      "[CV] ................... C=0.2, penalty=l2, score=0.912, total=   0.0s\n",
      "[CV] C=0.2, penalty=l2 ...............................................\n",
      "[CV] ................... C=0.2, penalty=l2, score=0.910, total=   0.0s\n",
      "[CV] C=0.2, penalty=l2 ...............................................\n",
      "[CV] ................... C=0.2, penalty=l2, score=0.911, total=   0.0s\n",
      "[CV] C=0.3, penalty=l1 ...............................................\n",
      "[CV] ................... C=0.3, penalty=l1, score=0.910, total=   0.0s\n",
      "[CV] C=0.3, penalty=l1 ...............................................\n",
      "[CV] ................... C=0.3, penalty=l1, score=0.910, total=   0.0s\n",
      "[CV] C=0.3, penalty=l1 ...............................................\n",
      "[CV] ................... C=0.3, penalty=l1, score=0.911, total=   0.0s\n",
      "[CV] C=0.3, penalty=l2 ...............................................\n",
      "[CV] ................... C=0.3, penalty=l2, score=0.912, total=   0.0s\n",
      "[CV] C=0.3, penalty=l2 ...............................................\n",
      "[CV] ................... C=0.3, penalty=l2, score=0.910, total=   0.0s\n",
      "[CV] C=0.3, penalty=l2 ...............................................\n",
      "[CV] ................... C=0.3, penalty=l2, score=0.911, total=   0.0s\n",
      "[CV] C=1, penalty=l1 .................................................\n",
      "[CV] ..................... C=1, penalty=l1, score=0.912, total=   0.0s\n",
      "[CV] C=1, penalty=l1 .................................................\n",
      "[CV] ..................... C=1, penalty=l1, score=0.910, total=   0.0s\n",
      "[CV] C=1, penalty=l1 .................................................\n",
      "[CV] ..................... C=1, penalty=l1, score=0.911, total=   0.0s\n",
      "[CV] C=1, penalty=l2 .................................................\n",
      "[CV] ..................... C=1, penalty=l2, score=0.912, total=   0.0s\n",
      "[CV] C=1, penalty=l2 .................................................\n",
      "[CV] ..................... C=1, penalty=l2, score=0.910, total=   0.0s\n",
      "[CV] C=1, penalty=l2 .................................................\n",
      "[CV] ..................... C=1, penalty=l2, score=0.911, total=   0.0s\n",
      "[CV] C=2, penalty=l1 .................................................\n",
      "[CV] ..................... C=2, penalty=l1, score=0.912, total=   0.0s\n",
      "[CV] C=2, penalty=l1 .................................................\n"
     ]
    },
    {
     "name": "stderr",
     "output_type": "stream",
     "text": [
      "c:\\users\\uday kumar reddy\\appdata\\local\\programs\\python\\python36\\lib\\site-packages\\sklearn\\linear_model\\logistic.py:432: FutureWarning: Default solver will be changed to 'lbfgs' in 0.22. Specify a solver to silence this warning.\n",
      "  FutureWarning)\n",
      "c:\\users\\uday kumar reddy\\appdata\\local\\programs\\python\\python36\\lib\\site-packages\\sklearn\\linear_model\\logistic.py:432: FutureWarning: Default solver will be changed to 'lbfgs' in 0.22. Specify a solver to silence this warning.\n",
      "  FutureWarning)\n",
      "c:\\users\\uday kumar reddy\\appdata\\local\\programs\\python\\python36\\lib\\site-packages\\sklearn\\linear_model\\logistic.py:432: FutureWarning: Default solver will be changed to 'lbfgs' in 0.22. Specify a solver to silence this warning.\n",
      "  FutureWarning)\n",
      "c:\\users\\uday kumar reddy\\appdata\\local\\programs\\python\\python36\\lib\\site-packages\\sklearn\\linear_model\\logistic.py:432: FutureWarning: Default solver will be changed to 'lbfgs' in 0.22. Specify a solver to silence this warning.\n",
      "  FutureWarning)\n",
      "c:\\users\\uday kumar reddy\\appdata\\local\\programs\\python\\python36\\lib\\site-packages\\sklearn\\linear_model\\logistic.py:432: FutureWarning: Default solver will be changed to 'lbfgs' in 0.22. Specify a solver to silence this warning.\n",
      "  FutureWarning)\n",
      "c:\\users\\uday kumar reddy\\appdata\\local\\programs\\python\\python36\\lib\\site-packages\\sklearn\\linear_model\\logistic.py:432: FutureWarning: Default solver will be changed to 'lbfgs' in 0.22. Specify a solver to silence this warning.\n",
      "  FutureWarning)\n",
      "c:\\users\\uday kumar reddy\\appdata\\local\\programs\\python\\python36\\lib\\site-packages\\sklearn\\linear_model\\logistic.py:432: FutureWarning: Default solver will be changed to 'lbfgs' in 0.22. Specify a solver to silence this warning.\n",
      "  FutureWarning)\n",
      "c:\\users\\uday kumar reddy\\appdata\\local\\programs\\python\\python36\\lib\\site-packages\\sklearn\\linear_model\\logistic.py:432: FutureWarning: Default solver will be changed to 'lbfgs' in 0.22. Specify a solver to silence this warning.\n",
      "  FutureWarning)\n",
      "c:\\users\\uday kumar reddy\\appdata\\local\\programs\\python\\python36\\lib\\site-packages\\sklearn\\linear_model\\logistic.py:432: FutureWarning: Default solver will be changed to 'lbfgs' in 0.22. Specify a solver to silence this warning.\n",
      "  FutureWarning)\n",
      "c:\\users\\uday kumar reddy\\appdata\\local\\programs\\python\\python36\\lib\\site-packages\\sklearn\\linear_model\\logistic.py:432: FutureWarning: Default solver will be changed to 'lbfgs' in 0.22. Specify a solver to silence this warning.\n",
      "  FutureWarning)\n",
      "c:\\users\\uday kumar reddy\\appdata\\local\\programs\\python\\python36\\lib\\site-packages\\sklearn\\linear_model\\logistic.py:432: FutureWarning: Default solver will be changed to 'lbfgs' in 0.22. Specify a solver to silence this warning.\n",
      "  FutureWarning)\n",
      "c:\\users\\uday kumar reddy\\appdata\\local\\programs\\python\\python36\\lib\\site-packages\\sklearn\\linear_model\\logistic.py:432: FutureWarning: Default solver will be changed to 'lbfgs' in 0.22. Specify a solver to silence this warning.\n",
      "  FutureWarning)\n",
      "c:\\users\\uday kumar reddy\\appdata\\local\\programs\\python\\python36\\lib\\site-packages\\sklearn\\linear_model\\logistic.py:432: FutureWarning: Default solver will be changed to 'lbfgs' in 0.22. Specify a solver to silence this warning.\n",
      "  FutureWarning)\n",
      "c:\\users\\uday kumar reddy\\appdata\\local\\programs\\python\\python36\\lib\\site-packages\\sklearn\\linear_model\\logistic.py:432: FutureWarning: Default solver will be changed to 'lbfgs' in 0.22. Specify a solver to silence this warning.\n",
      "  FutureWarning)\n",
      "c:\\users\\uday kumar reddy\\appdata\\local\\programs\\python\\python36\\lib\\site-packages\\sklearn\\linear_model\\logistic.py:432: FutureWarning: Default solver will be changed to 'lbfgs' in 0.22. Specify a solver to silence this warning.\n",
      "  FutureWarning)\n",
      "c:\\users\\uday kumar reddy\\appdata\\local\\programs\\python\\python36\\lib\\site-packages\\sklearn\\linear_model\\logistic.py:432: FutureWarning: Default solver will be changed to 'lbfgs' in 0.22. Specify a solver to silence this warning.\n",
      "  FutureWarning)\n",
      "c:\\users\\uday kumar reddy\\appdata\\local\\programs\\python\\python36\\lib\\site-packages\\sklearn\\linear_model\\logistic.py:432: FutureWarning: Default solver will be changed to 'lbfgs' in 0.22. Specify a solver to silence this warning.\n",
      "  FutureWarning)\n",
      "c:\\users\\uday kumar reddy\\appdata\\local\\programs\\python\\python36\\lib\\site-packages\\sklearn\\linear_model\\logistic.py:432: FutureWarning: Default solver will be changed to 'lbfgs' in 0.22. Specify a solver to silence this warning.\n",
      "  FutureWarning)\n",
      "c:\\users\\uday kumar reddy\\appdata\\local\\programs\\python\\python36\\lib\\site-packages\\sklearn\\linear_model\\logistic.py:432: FutureWarning: Default solver will be changed to 'lbfgs' in 0.22. Specify a solver to silence this warning.\n",
      "  FutureWarning)\n",
      "c:\\users\\uday kumar reddy\\appdata\\local\\programs\\python\\python36\\lib\\site-packages\\sklearn\\linear_model\\logistic.py:432: FutureWarning: Default solver will be changed to 'lbfgs' in 0.22. Specify a solver to silence this warning.\n",
      "  FutureWarning)\n",
      "c:\\users\\uday kumar reddy\\appdata\\local\\programs\\python\\python36\\lib\\site-packages\\sklearn\\linear_model\\logistic.py:432: FutureWarning: Default solver will be changed to 'lbfgs' in 0.22. Specify a solver to silence this warning.\n",
      "  FutureWarning)\n",
      "c:\\users\\uday kumar reddy\\appdata\\local\\programs\\python\\python36\\lib\\site-packages\\sklearn\\linear_model\\logistic.py:432: FutureWarning: Default solver will be changed to 'lbfgs' in 0.22. Specify a solver to silence this warning.\n",
      "  FutureWarning)\n",
      "c:\\users\\uday kumar reddy\\appdata\\local\\programs\\python\\python36\\lib\\site-packages\\sklearn\\linear_model\\logistic.py:432: FutureWarning: Default solver will be changed to 'lbfgs' in 0.22. Specify a solver to silence this warning.\n",
      "  FutureWarning)\n",
      "c:\\users\\uday kumar reddy\\appdata\\local\\programs\\python\\python36\\lib\\site-packages\\sklearn\\linear_model\\logistic.py:432: FutureWarning: Default solver will be changed to 'lbfgs' in 0.22. Specify a solver to silence this warning.\n",
      "  FutureWarning)\n",
      "c:\\users\\uday kumar reddy\\appdata\\local\\programs\\python\\python36\\lib\\site-packages\\sklearn\\linear_model\\logistic.py:432: FutureWarning: Default solver will be changed to 'lbfgs' in 0.22. Specify a solver to silence this warning.\n",
      "  FutureWarning)\n",
      "c:\\users\\uday kumar reddy\\appdata\\local\\programs\\python\\python36\\lib\\site-packages\\sklearn\\linear_model\\logistic.py:432: FutureWarning: Default solver will be changed to 'lbfgs' in 0.22. Specify a solver to silence this warning.\n",
      "  FutureWarning)\n",
      "c:\\users\\uday kumar reddy\\appdata\\local\\programs\\python\\python36\\lib\\site-packages\\sklearn\\linear_model\\logistic.py:432: FutureWarning: Default solver will be changed to 'lbfgs' in 0.22. Specify a solver to silence this warning.\n",
      "  FutureWarning)\n",
      "c:\\users\\uday kumar reddy\\appdata\\local\\programs\\python\\python36\\lib\\site-packages\\sklearn\\linear_model\\logistic.py:432: FutureWarning: Default solver will be changed to 'lbfgs' in 0.22. Specify a solver to silence this warning.\n",
      "  FutureWarning)\n",
      "c:\\users\\uday kumar reddy\\appdata\\local\\programs\\python\\python36\\lib\\site-packages\\sklearn\\linear_model\\logistic.py:432: FutureWarning: Default solver will be changed to 'lbfgs' in 0.22. Specify a solver to silence this warning.\n",
      "  FutureWarning)\n",
      "[Parallel(n_jobs=1)]: Done  60 out of  60 | elapsed:    0.3s finished\n",
      "c:\\users\\uday kumar reddy\\appdata\\local\\programs\\python\\python36\\lib\\site-packages\\sklearn\\linear_model\\logistic.py:432: FutureWarning: Default solver will be changed to 'lbfgs' in 0.22. Specify a solver to silence this warning.\n",
      "  FutureWarning)\n"
     ]
    },
    {
     "name": "stdout",
     "output_type": "stream",
     "text": [
      "[CV] ..................... C=2, penalty=l1, score=0.910, total=   0.0s\n",
      "[CV] C=2, penalty=l1 .................................................\n",
      "[CV] ..................... C=2, penalty=l1, score=0.911, total=   0.0s\n",
      "[CV] C=2, penalty=l2 .................................................\n",
      "[CV] ..................... C=2, penalty=l2, score=0.912, total=   0.0s\n",
      "[CV] C=2, penalty=l2 .................................................\n",
      "[CV] ..................... C=2, penalty=l2, score=0.910, total=   0.0s\n",
      "[CV] C=2, penalty=l2 .................................................\n",
      "[CV] ..................... C=2, penalty=l2, score=0.911, total=   0.0s\n",
      "[CV] C=3, penalty=l1 .................................................\n",
      "[CV] ..................... C=3, penalty=l1, score=0.912, total=   0.0s\n",
      "[CV] C=3, penalty=l1 .................................................\n",
      "[CV] ..................... C=3, penalty=l1, score=0.910, total=   0.0s\n",
      "[CV] C=3, penalty=l1 .................................................\n",
      "[CV] ..................... C=3, penalty=l1, score=0.911, total=   0.0s\n",
      "[CV] C=3, penalty=l2 .................................................\n",
      "[CV] ..................... C=3, penalty=l2, score=0.912, total=   0.0s\n",
      "[CV] C=3, penalty=l2 .................................................\n",
      "[CV] ..................... C=3, penalty=l2, score=0.910, total=   0.0s\n",
      "[CV] C=3, penalty=l2 .................................................\n",
      "[CV] ..................... C=3, penalty=l2, score=0.911, total=   0.0s\n",
      "[CV] C=4, penalty=l1 .................................................\n",
      "[CV] ..................... C=4, penalty=l1, score=0.912, total=   0.0s\n",
      "[CV] C=4, penalty=l1 .................................................\n",
      "[CV] ..................... C=4, penalty=l1, score=0.910, total=   0.0s\n",
      "[CV] C=4, penalty=l1 .................................................\n",
      "[CV] ..................... C=4, penalty=l1, score=0.911, total=   0.0s\n",
      "[CV] C=4, penalty=l2 .................................................\n",
      "[CV] ..................... C=4, penalty=l2, score=0.912, total=   0.0s\n",
      "[CV] C=4, penalty=l2 .................................................\n",
      "[CV] ..................... C=4, penalty=l2, score=0.910, total=   0.0s\n",
      "[CV] C=4, penalty=l2 .................................................\n",
      "[CV] ..................... C=4, penalty=l2, score=0.911, total=   0.0s\n",
      "[CV] C=5, penalty=l1 .................................................\n",
      "[CV] ..................... C=5, penalty=l1, score=0.912, total=   0.0s\n",
      "[CV] C=5, penalty=l1 .................................................\n",
      "[CV] ..................... C=5, penalty=l1, score=0.910, total=   0.0s\n",
      "[CV] C=5, penalty=l1 .................................................\n",
      "[CV] ..................... C=5, penalty=l1, score=0.911, total=   0.0s\n",
      "[CV] C=5, penalty=l2 .................................................\n",
      "[CV] ..................... C=5, penalty=l2, score=0.912, total=   0.0s\n",
      "[CV] C=5, penalty=l2 .................................................\n",
      "[CV] ..................... C=5, penalty=l2, score=0.910, total=   0.0s\n",
      "[CV] C=5, penalty=l2 .................................................\n",
      "[CV] ..................... C=5, penalty=l2, score=0.911, total=   0.0s\n",
      "[CV] C=10, penalty=l1 ................................................\n",
      "[CV] .................... C=10, penalty=l1, score=0.912, total=   0.0s\n",
      "[CV] C=10, penalty=l1 ................................................\n",
      "[CV] .................... C=10, penalty=l1, score=0.910, total=   0.0s\n",
      "[CV] C=10, penalty=l1 ................................................\n",
      "[CV] .................... C=10, penalty=l1, score=0.911, total=   0.0s\n",
      "[CV] C=10, penalty=l2 ................................................\n",
      "[CV] .................... C=10, penalty=l2, score=0.912, total=   0.0s\n",
      "[CV] C=10, penalty=l2 ................................................\n",
      "[CV] .................... C=10, penalty=l2, score=0.910, total=   0.0s\n",
      "[CV] C=10, penalty=l2 ................................................\n",
      "[CV] .................... C=10, penalty=l2, score=0.911, total=   0.0s\n"
     ]
    }
   ],
   "source": [
    "%matplotlib inline\n",
    "from sklearn.linear_model import LogisticRegression\n",
    "import matplotlib.gridspec as gridspec\n",
    "import itertools\n",
    "\n",
    "\n",
    "\n",
    "param_grid = {'C' : [0.01,0.1,0.2,0.3,1,2,3,4,5,10] , 'penalty' : ['l1' , 'l2']}\n",
    "\n",
    "logit_grid= GridSearchCV(LogisticRegression(), param_grid , verbose=3)\n",
    "\n",
    "logit_grid.fit(X_train_reduced,y_train)\n",
    "\n",
    "logit_grid_predictions = logit_grid.predict(X_test_reduced)"
   ]
  },
  {
   "cell_type": "code",
   "execution_count": 114,
   "metadata": {},
   "outputs": [
    {
     "data": {
      "text/plain": [
       "{'C': 0.2, 'penalty': 'l2'}"
      ]
     },
     "execution_count": 114,
     "metadata": {},
     "output_type": "execute_result"
    }
   ],
   "source": [
    "logit_grid.best_params_"
   ]
  },
  {
   "cell_type": "code",
   "execution_count": 115,
   "metadata": {},
   "outputs": [
    {
     "data": {
      "text/plain": [
       "LogisticRegression(C=0.2, class_weight=None, dual=False, fit_intercept=True,\n",
       "                   intercept_scaling=1, l1_ratio=None, max_iter=100,\n",
       "                   multi_class='warn', n_jobs=None, penalty='l2',\n",
       "                   random_state=None, solver='warn', tol=0.0001, verbose=0,\n",
       "                   warm_start=False)"
      ]
     },
     "execution_count": 115,
     "metadata": {},
     "output_type": "execute_result"
    }
   ],
   "source": [
    "logit_grid.best_estimator_"
   ]
  },
  {
   "cell_type": "code",
   "execution_count": 116,
   "metadata": {},
   "outputs": [
    {
     "name": "stdout",
     "output_type": "stream",
     "text": [
      "Confusion Matrix is: \n",
      "[[539   0]\n",
      " [ 63   0]]\n"
     ]
    }
   ],
   "source": [
    "print(\"Confusion Matrix is: \")\n",
    "print(confusion_matrix(y_test,logit_grid_predictions))"
   ]
  },
  {
   "cell_type": "code",
   "execution_count": 117,
   "metadata": {},
   "outputs": [
    {
     "name": "stdout",
     "output_type": "stream",
     "text": [
      "Classification Report is: \n",
      "              precision    recall  f1-score   support\n",
      "\n",
      "           0       0.90      1.00      0.94       539\n",
      "           1       0.00      0.00      0.00        63\n",
      "\n",
      "    accuracy                           0.90       602\n",
      "   macro avg       0.45      0.50      0.47       602\n",
      "weighted avg       0.80      0.90      0.85       602\n",
      "\n"
     ]
    },
    {
     "name": "stderr",
     "output_type": "stream",
     "text": [
      "c:\\users\\uday kumar reddy\\appdata\\local\\programs\\python\\python36\\lib\\site-packages\\sklearn\\metrics\\classification.py:1437: UndefinedMetricWarning: Precision and F-score are ill-defined and being set to 0.0 in labels with no predicted samples.\n",
      "  'precision', 'predicted', average, warn_for)\n",
      "c:\\users\\uday kumar reddy\\appdata\\local\\programs\\python\\python36\\lib\\site-packages\\sklearn\\metrics\\classification.py:1437: UndefinedMetricWarning: Precision and F-score are ill-defined and being set to 0.0 in labels with no predicted samples.\n",
      "  'precision', 'predicted', average, warn_for)\n",
      "c:\\users\\uday kumar reddy\\appdata\\local\\programs\\python\\python36\\lib\\site-packages\\sklearn\\metrics\\classification.py:1437: UndefinedMetricWarning: Precision and F-score are ill-defined and being set to 0.0 in labels with no predicted samples.\n",
      "  'precision', 'predicted', average, warn_for)\n"
     ]
    }
   ],
   "source": [
    "print(\"Classification Report is: \")\n",
    "print(classification_report(y_test,logit_grid_predictions))"
   ]
  },
  {
   "cell_type": "markdown",
   "metadata": {},
   "source": [
    "## Decision Tree Classifier"
   ]
  },
  {
   "cell_type": "code",
   "execution_count": 118,
   "metadata": {},
   "outputs": [],
   "source": [
    "from sklearn.tree import DecisionTreeClassifier"
   ]
  },
  {
   "cell_type": "code",
   "execution_count": 119,
   "metadata": {},
   "outputs": [
    {
     "name": "stderr",
     "output_type": "stream",
     "text": [
      "c:\\users\\uday kumar reddy\\appdata\\local\\programs\\python\\python36\\lib\\site-packages\\sklearn\\model_selection\\_split.py:1978: FutureWarning: The default value of cv will change from 3 to 5 in version 0.22. Specify it explicitly to silence this warning.\n",
      "  warnings.warn(CV_WARNING, FutureWarning)\n",
      "[Parallel(n_jobs=1)]: Using backend SequentialBackend with 1 concurrent workers.\n",
      "[Parallel(n_jobs=1)]: Done   1 out of   1 | elapsed:    0.0s remaining:    0.0s\n",
      "[Parallel(n_jobs=1)]: Done   2 out of   2 | elapsed:    0.0s remaining:    0.0s\n"
     ]
    },
    {
     "name": "stdout",
     "output_type": "stream",
     "text": [
      "Fitting 3 folds for each of 5 candidates, totalling 15 fits\n",
      "[CV] max_depth=1 .....................................................\n",
      "[CV] ......................... max_depth=1, score=0.910, total=   0.0s\n",
      "[CV] max_depth=1 .....................................................\n",
      "[CV] ......................... max_depth=1, score=0.910, total=   0.0s\n",
      "[CV] max_depth=1 .....................................................\n",
      "[CV] ......................... max_depth=1, score=0.911, total=   0.0s\n",
      "[CV] max_depth=2 .....................................................\n",
      "[CV] ......................... max_depth=2, score=0.907, total=   0.0s\n",
      "[CV] max_depth=2 .....................................................\n",
      "[CV] ......................... max_depth=2, score=0.910, total=   0.0s\n",
      "[CV] max_depth=2 .....................................................\n",
      "[CV] ......................... max_depth=2, score=0.910, total=   0.0s\n",
      "[CV] max_depth=3 .....................................................\n",
      "[CV] ......................... max_depth=3, score=0.899, total=   0.0s\n",
      "[CV] max_depth=3 .....................................................\n",
      "[CV] ......................... max_depth=3, score=0.907, total=   0.0s\n",
      "[CV] max_depth=3 .....................................................\n",
      "[CV] ......................... max_depth=3, score=0.910, total=   0.0s\n",
      "[CV] max_depth=5 .....................................................\n",
      "[CV] ......................... max_depth=5, score=0.889, total=   0.0s\n",
      "[CV] max_depth=5 .....................................................\n",
      "[CV] ......................... max_depth=5, score=0.904, total=   0.0s\n",
      "[CV] max_depth=5 .....................................................\n",
      "[CV] ......................... max_depth=5, score=0.889, total=   0.0s\n",
      "[CV] max_depth=10 ....................................................\n",
      "[CV] ........................ max_depth=10, score=0.874, total=   0.0s\n",
      "[CV] max_depth=10 ....................................................\n",
      "[CV] ........................ max_depth=10, score=0.864, total=   0.0s\n",
      "[CV] max_depth=10 ....................................................\n",
      "[CV] ........................ max_depth=10, score=0.837, total=   0.0s\n"
     ]
    },
    {
     "name": "stderr",
     "output_type": "stream",
     "text": [
      "[Parallel(n_jobs=1)]: Done  15 out of  15 | elapsed:    0.1s finished\n"
     ]
    }
   ],
   "source": [
    "%matplotlib notebook\n",
    "\n",
    "param_grid = {'max_depth' : [1, 2, 3, 5, 10]}\n",
    "\n",
    "dtree = GridSearchCV(DecisionTreeClassifier(random_state=0), param_grid , verbose=3)\n",
    "\n",
    "dtree.fit(X_train_reduced, y_train)\n",
    "\n",
    "dtree_grid_predictions = dtree.predict(X_test_reduced)"
   ]
  },
  {
   "cell_type": "code",
   "execution_count": 120,
   "metadata": {},
   "outputs": [
    {
     "name": "stdout",
     "output_type": "stream",
     "text": [
      "Accuracy on training set: 0.911\n",
      "Accuracy on test set: 0.895\n"
     ]
    }
   ],
   "source": [
    "print(\"Accuracy on training set: {:.3f}\".format(dtree.score(X_train_reduced, y_train)))\n",
    "print(\"Accuracy on test set: {:.3f}\".format(dtree.score(X_test_reduced, y_test)))"
   ]
  },
  {
   "cell_type": "code",
   "execution_count": 121,
   "metadata": {},
   "outputs": [
    {
     "name": "stdout",
     "output_type": "stream",
     "text": [
      "Best params: {'max_depth': 1}\n"
     ]
    }
   ],
   "source": [
    "print(\"Best params: {}\".format(dtree.best_params_))"
   ]
  },
  {
   "cell_type": "code",
   "execution_count": 122,
   "metadata": {},
   "outputs": [
    {
     "name": "stdout",
     "output_type": "stream",
     "text": [
      "Best Score: 0.9107142857142857\n"
     ]
    }
   ],
   "source": [
    "print(\"Best Score: {}\".format(dtree.best_score_))"
   ]
  },
  {
   "cell_type": "code",
   "execution_count": 123,
   "metadata": {},
   "outputs": [
    {
     "name": "stdout",
     "output_type": "stream",
     "text": [
      "Confusion Matrix is: \n",
      "[[539   0]\n",
      " [ 63   0]]\n"
     ]
    }
   ],
   "source": [
    "print(\"Confusion Matrix is: \")\n",
    "print(confusion_matrix(y_test,dtree_grid_predictions))"
   ]
  },
  {
   "cell_type": "code",
   "execution_count": 124,
   "metadata": {},
   "outputs": [
    {
     "name": "stdout",
     "output_type": "stream",
     "text": [
      "Classification Report is: \n",
      "              precision    recall  f1-score   support\n",
      "\n",
      "           0       0.90      1.00      0.94       539\n",
      "           1       0.00      0.00      0.00        63\n",
      "\n",
      "    accuracy                           0.90       602\n",
      "   macro avg       0.45      0.50      0.47       602\n",
      "weighted avg       0.80      0.90      0.85       602\n",
      "\n"
     ]
    },
    {
     "name": "stderr",
     "output_type": "stream",
     "text": [
      "c:\\users\\uday kumar reddy\\appdata\\local\\programs\\python\\python36\\lib\\site-packages\\sklearn\\metrics\\classification.py:1437: UndefinedMetricWarning: Precision and F-score are ill-defined and being set to 0.0 in labels with no predicted samples.\n",
      "  'precision', 'predicted', average, warn_for)\n",
      "c:\\users\\uday kumar reddy\\appdata\\local\\programs\\python\\python36\\lib\\site-packages\\sklearn\\metrics\\classification.py:1437: UndefinedMetricWarning: Precision and F-score are ill-defined and being set to 0.0 in labels with no predicted samples.\n",
      "  'precision', 'predicted', average, warn_for)\n",
      "c:\\users\\uday kumar reddy\\appdata\\local\\programs\\python\\python36\\lib\\site-packages\\sklearn\\metrics\\classification.py:1437: UndefinedMetricWarning: Precision and F-score are ill-defined and being set to 0.0 in labels with no predicted samples.\n",
      "  'precision', 'predicted', average, warn_for)\n"
     ]
    }
   ],
   "source": [
    "print(\"Classification Report is: \")\n",
    "print(classification_report(y_test,dtree_grid_predictions))"
   ]
  }
 ],
 "metadata": {
  "kernelspec": {
   "display_name": "Python 3",
   "language": "python",
   "name": "python3"
  },
  "language_info": {
   "codemirror_mode": {
    "name": "ipython",
    "version": 3
   },
   "file_extension": ".py",
   "mimetype": "text/x-python",
   "name": "python",
   "nbconvert_exporter": "python",
   "pygments_lexer": "ipython3",
   "version": "3.6.3"
  }
 },
 "nbformat": 4,
 "nbformat_minor": 2
}
